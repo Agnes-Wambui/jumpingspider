{
 "cells": [
  {
   "cell_type": "code",
   "execution_count": 0,
   "metadata": {
    "colab": {},
    "colab_type": "code",
    "id": "0q203Kvb9BWT"
   },
   "outputs": [],
   "source": [
    "import sklearn\n",
    "import pandas as pd\n",
    "import numpy as np\n",
    "import matplotlib.pyplot as plt\n",
    "from sklearn.feature_selection import SelectKBest ,mutual_info_classif, mutual_info_regression, f_classif, chi2\n",
    "from sklearn.tree import DecisionTreeClassifier \n",
    "from sklearn.model_selection import train_test_split , cross_val_score\n",
    "from sklearn import metrics \n",
    "from keras.models import Sequential\n",
    "from keras.layers import Dense\n",
    "from keras import metrics\n",
    "from sklearn.preprocessing import StandardScaler\n",
    "from sklearn.model_selection import train_test_split\n",
    "from sklearn.metrics import confusion_matrix, accuracy_score\n",
    "from tensorflow import set_random_seed\n",
    "from keras.utils import np_utils , to_categorical"
   ]
  },
  {
   "cell_type": "code",
   "execution_count": 0,
   "metadata": {
    "colab": {},
    "colab_type": "code",
    "id": "Z-hF5A6C9BWm"
   },
   "outputs": [],
   "source": [
    "#data = pd.read_csv(\"/media/mydata/DataScience/05_Extra_Nb/data/train_values.csv\")\n",
    "#data.head()"
   ]
  },
  {
   "cell_type": "code",
   "execution_count": 0,
   "metadata": {
    "colab": {},
    "colab_type": "code",
    "id": "WcwplUHj-Rgl"
   },
   "outputs": [],
   "source": []
  },
  {
   "cell_type": "code",
   "execution_count": 5,
   "metadata": {
    "colab": {
     "base_uri": "https://localhost:8080/",
     "height": 197
    },
    "colab_type": "code",
    "id": "5KDw1HDhAN5S",
    "outputId": "f21f77d6-8f20-4175-8c9b-e987e579e754"
   },
   "outputs": [
    {
     "name": "stderr",
     "output_type": "stream",
     "text": [
      "IOPub data rate exceeded.\n",
      "The notebook server will temporarily stop sending output\n",
      "to the client in order to avoid crashing it.\n",
      "To change this limit, set the config variable\n",
      "`--NotebookApp.iopub_data_rate_limit`.\n",
      "\n",
      "Current values:\n",
      "NotebookApp.iopub_data_rate_limit=1000000.0 (bytes/sec)\n",
      "NotebookApp.rate_limit_window=3.0 (secs)\n",
      "\n"
     ]
    }
   ],
   "source": [
    "!pip install -U -q PyDrive\n",
    "# Import PyDrive and associated libraries.\n",
    "# This only needs to be done once per notebook.\n",
    "from pydrive.auth import GoogleAuth\n",
    "from pydrive.drive import GoogleDrive\n",
    "from google.colab import auth\n",
    "from oauth2client.client import GoogleCredentials\n",
    "\n",
    "# Authenticate and create the PyDrive client.\n",
    "# This only needs to be done once per notebook.\n",
    "auth.authenticate_user()\n",
    "gauth = GoogleAuth()\n",
    "gauth.credentials = GoogleCredentials.get_application_default()\n",
    "drive = GoogleDrive(gauth)\n",
    "\n",
    "# Download a file based on its file ID.\n",
    "#\n",
    "# A file ID looks like: laggVyWshwcyP6kEI-y_W3P8D26sz\n",
    "file_id = '1O4NqAtFrUgU27IwAlkPg5KFX0KWIzelB'\n",
    "downloaded = drive.CreateFile({'id': file_id})\n",
    "print('Downloaded content \"{}\"'.format(downloaded.GetContentString()))"
   ]
  },
  {
   "cell_type": "code",
   "execution_count": 0,
   "metadata": {
    "colab": {},
    "colab_type": "code",
    "id": "uyKPoPYxBhRw"
   },
   "outputs": [],
   "source": [
    "downloaded.GetContentFile('train_values.csv')  \n",
    "data = pd.read_csv('train_values.csv')"
   ]
  },
  {
   "cell_type": "code",
   "execution_count": 0,
   "metadata": {
    "colab": {},
    "colab_type": "code",
    "id": "g_98Qxf59BW6"
   },
   "outputs": [],
   "source": [
    "#pd.DataFrame(data.groupby([\"preapproval\",\"accepted\"])[\"accepted\"].count())"
   ]
  },
  {
   "cell_type": "code",
   "execution_count": 155,
   "metadata": {
    "colab": {
     "base_uri": "https://localhost:8080/",
     "height": 503
    },
    "colab_type": "code",
    "id": "sJ_CWnP_9BXA",
    "outputId": "26adadbb-660c-4390-8ee6-f9577b2f30d7"
   },
   "outputs": [
    {
     "name": "stdout",
     "output_type": "stream",
     "text": [
      "<class 'pandas.core.frame.DataFrame'>\n",
      "Int64Index: 366601 entries, 0 to 499999\n",
      "Data columns (total 22 columns):\n",
      "loan_type                         366601 non-null int64\n",
      "property_type                     366601 non-null int64\n",
      "loan_purpose                      366601 non-null int64\n",
      "occupancy                         366601 non-null int64\n",
      "loan_amount                       366601 non-null int64\n",
      "preapproval                       366601 non-null int64\n",
      "msa_md                            366601 non-null float64\n",
      "state_code                        366601 non-null float64\n",
      "county_code                       366601 non-null float64\n",
      "applicant_ethnicity               366601 non-null int64\n",
      "applicant_race                    366601 non-null int64\n",
      "applicant_sex                     366601 non-null int64\n",
      "applicant_income                  366601 non-null float64\n",
      "population                        366601 non-null float64\n",
      "minority_population_pct           366601 non-null float64\n",
      "ffiecmedian_family_income         366601 non-null float64\n",
      "tract_to_msa_md_income_pct        366601 non-null float64\n",
      "number_of_owner_occupied_units    366601 non-null float64\n",
      "number_of_1_to_4_family_units     366601 non-null float64\n",
      "lender                            366601 non-null int64\n",
      "co_applicant                      366601 non-null int64\n",
      "accepted                          366601 non-null int64\n",
      "dtypes: float64(10), int64(12)\n",
      "memory usage: 64.3 MB\n"
     ]
    }
   ],
   "source": [
    "data.info()"
   ]
  },
  {
   "cell_type": "code",
   "execution_count": 156,
   "metadata": {
    "colab": {
     "base_uri": "https://localhost:8080/",
     "height": 317
    },
    "colab_type": "code",
    "id": "TH9no5-29BXE",
    "outputId": "0bfffb19-7361-4f37-b49d-c8a9f24b6081"
   },
   "outputs": [
    {
     "data": {
      "text/html": [
       "<div>\n",
       "<style scoped>\n",
       "    .dataframe tbody tr th:only-of-type {\n",
       "        vertical-align: middle;\n",
       "    }\n",
       "\n",
       "    .dataframe tbody tr th {\n",
       "        vertical-align: top;\n",
       "    }\n",
       "\n",
       "    .dataframe thead th {\n",
       "        text-align: right;\n",
       "    }\n",
       "</style>\n",
       "<table border=\"1\" class=\"dataframe\">\n",
       "  <thead>\n",
       "    <tr style=\"text-align: right;\">\n",
       "      <th></th>\n",
       "      <th>loan_type</th>\n",
       "      <th>property_type</th>\n",
       "      <th>loan_purpose</th>\n",
       "      <th>occupancy</th>\n",
       "      <th>loan_amount</th>\n",
       "      <th>preapproval</th>\n",
       "      <th>msa_md</th>\n",
       "      <th>state_code</th>\n",
       "      <th>county_code</th>\n",
       "      <th>applicant_ethnicity</th>\n",
       "      <th>applicant_race</th>\n",
       "      <th>applicant_sex</th>\n",
       "      <th>applicant_income</th>\n",
       "      <th>population</th>\n",
       "      <th>minority_population_pct</th>\n",
       "      <th>ffiecmedian_family_income</th>\n",
       "      <th>tract_to_msa_md_income_pct</th>\n",
       "      <th>number_of_owner_occupied_units</th>\n",
       "      <th>number_of_1_to_4_family_units</th>\n",
       "      <th>lender</th>\n",
       "      <th>co_applicant</th>\n",
       "      <th>accepted</th>\n",
       "    </tr>\n",
       "  </thead>\n",
       "  <tbody>\n",
       "    <tr>\n",
       "      <th>count</th>\n",
       "      <td>366601.000000</td>\n",
       "      <td>366601.000000</td>\n",
       "      <td>366601.000000</td>\n",
       "      <td>366601.000000</td>\n",
       "      <td>366601.000000</td>\n",
       "      <td>366601.000000</td>\n",
       "      <td>366601.000000</td>\n",
       "      <td>366601.000000</td>\n",
       "      <td>366601.000000</td>\n",
       "      <td>366601.000000</td>\n",
       "      <td>366601.000000</td>\n",
       "      <td>366601.000000</td>\n",
       "      <td>366601.000000</td>\n",
       "      <td>366601.000000</td>\n",
       "      <td>366601.00000</td>\n",
       "      <td>366601.000000</td>\n",
       "      <td>366601.000000</td>\n",
       "      <td>366601.000000</td>\n",
       "      <td>366601.000000</td>\n",
       "      <td>366601.000000</td>\n",
       "      <td>366601.000000</td>\n",
       "      <td>366601.000000</td>\n",
       "    </tr>\n",
       "    <tr>\n",
       "      <th>mean</th>\n",
       "      <td>1.327620</td>\n",
       "      <td>1.028268</td>\n",
       "      <td>2.067782</td>\n",
       "      <td>1.085488</td>\n",
       "      <td>197.296183</td>\n",
       "      <td>2.806444</td>\n",
       "      <td>214.840729</td>\n",
       "      <td>24.748449</td>\n",
       "      <td>150.287702</td>\n",
       "      <td>2.000276</td>\n",
       "      <td>4.743825</td>\n",
       "      <td>1.439543</td>\n",
       "      <td>85.279334</td>\n",
       "      <td>5541.247992</td>\n",
       "      <td>33.41653</td>\n",
       "      <td>70854.446202</td>\n",
       "      <td>91.520102</td>\n",
       "      <td>1449.287640</td>\n",
       "      <td>1872.366308</td>\n",
       "      <td>3771.338673</td>\n",
       "      <td>0.395026</td>\n",
       "      <td>0.523291</td>\n",
       "    </tr>\n",
       "    <tr>\n",
       "      <th>std</th>\n",
       "      <td>0.652392</td>\n",
       "      <td>0.165737</td>\n",
       "      <td>0.944185</td>\n",
       "      <td>0.281037</td>\n",
       "      <td>152.229029</td>\n",
       "      <td>0.461767</td>\n",
       "      <td>124.121875</td>\n",
       "      <td>15.600215</td>\n",
       "      <td>97.733369</td>\n",
       "      <td>0.476115</td>\n",
       "      <td>1.018915</td>\n",
       "      <td>0.623123</td>\n",
       "      <td>50.283214</td>\n",
       "      <td>2817.963446</td>\n",
       "      <td>26.64447</td>\n",
       "      <td>14396.860225</td>\n",
       "      <td>14.564674</td>\n",
       "      <td>763.363731</td>\n",
       "      <td>927.506754</td>\n",
       "      <td>1844.341041</td>\n",
       "      <td>0.488857</td>\n",
       "      <td>0.499458</td>\n",
       "    </tr>\n",
       "    <tr>\n",
       "      <th>min</th>\n",
       "      <td>1.000000</td>\n",
       "      <td>1.000000</td>\n",
       "      <td>1.000000</td>\n",
       "      <td>1.000000</td>\n",
       "      <td>1.000000</td>\n",
       "      <td>1.000000</td>\n",
       "      <td>0.000000</td>\n",
       "      <td>0.000000</td>\n",
       "      <td>1.000000</td>\n",
       "      <td>1.000000</td>\n",
       "      <td>1.000000</td>\n",
       "      <td>1.000000</td>\n",
       "      <td>1.000000</td>\n",
       "      <td>74.000000</td>\n",
       "      <td>0.66100</td>\n",
       "      <td>17858.000000</td>\n",
       "      <td>6.234000</td>\n",
       "      <td>4.000000</td>\n",
       "      <td>1.000000</td>\n",
       "      <td>0.000000</td>\n",
       "      <td>0.000000</td>\n",
       "      <td>0.000000</td>\n",
       "    </tr>\n",
       "    <tr>\n",
       "      <th>25%</th>\n",
       "      <td>1.000000</td>\n",
       "      <td>1.000000</td>\n",
       "      <td>1.000000</td>\n",
       "      <td>1.000000</td>\n",
       "      <td>97.000000</td>\n",
       "      <td>3.000000</td>\n",
       "      <td>101.000000</td>\n",
       "      <td>9.000000</td>\n",
       "      <td>65.000000</td>\n",
       "      <td>2.000000</td>\n",
       "      <td>5.000000</td>\n",
       "      <td>1.000000</td>\n",
       "      <td>48.000000</td>\n",
       "      <td>3822.000000</td>\n",
       "      <td>12.04200</td>\n",
       "      <td>61666.000000</td>\n",
       "      <td>87.315000</td>\n",
       "      <td>947.000000</td>\n",
       "      <td>1283.000000</td>\n",
       "      <td>2458.000000</td>\n",
       "      <td>0.000000</td>\n",
       "      <td>0.000000</td>\n",
       "    </tr>\n",
       "    <tr>\n",
       "      <th>50%</th>\n",
       "      <td>1.000000</td>\n",
       "      <td>1.000000</td>\n",
       "      <td>2.000000</td>\n",
       "      <td>1.000000</td>\n",
       "      <td>166.000000</td>\n",
       "      <td>3.000000</td>\n",
       "      <td>223.000000</td>\n",
       "      <td>26.000000</td>\n",
       "      <td>133.000000</td>\n",
       "      <td>2.000000</td>\n",
       "      <td>5.000000</td>\n",
       "      <td>1.000000</td>\n",
       "      <td>74.000000</td>\n",
       "      <td>5077.000000</td>\n",
       "      <td>24.95000</td>\n",
       "      <td>69439.000000</td>\n",
       "      <td>100.000000</td>\n",
       "      <td>1342.000000</td>\n",
       "      <td>1732.000000</td>\n",
       "      <td>3794.000000</td>\n",
       "      <td>0.000000</td>\n",
       "      <td>1.000000</td>\n",
       "    </tr>\n",
       "    <tr>\n",
       "      <th>75%</th>\n",
       "      <td>1.000000</td>\n",
       "      <td>1.000000</td>\n",
       "      <td>3.000000</td>\n",
       "      <td>1.000000</td>\n",
       "      <td>264.000000</td>\n",
       "      <td>3.000000</td>\n",
       "      <td>324.000000</td>\n",
       "      <td>37.000000</td>\n",
       "      <td>248.000000</td>\n",
       "      <td>2.000000</td>\n",
       "      <td>5.000000</td>\n",
       "      <td>2.000000</td>\n",
       "      <td>112.000000</td>\n",
       "      <td>6579.000000</td>\n",
       "      <td>48.73200</td>\n",
       "      <td>76627.000000</td>\n",
       "      <td>100.000000</td>\n",
       "      <td>1809.000000</td>\n",
       "      <td>2288.000000</td>\n",
       "      <td>5524.000000</td>\n",
       "      <td>1.000000</td>\n",
       "      <td>1.000000</td>\n",
       "    </tr>\n",
       "    <tr>\n",
       "      <th>max</th>\n",
       "      <td>4.000000</td>\n",
       "      <td>2.000000</td>\n",
       "      <td>3.000000</td>\n",
       "      <td>3.000000</td>\n",
       "      <td>15983.000000</td>\n",
       "      <td>3.000000</td>\n",
       "      <td>408.000000</td>\n",
       "      <td>52.000000</td>\n",
       "      <td>323.000000</td>\n",
       "      <td>4.000000</td>\n",
       "      <td>7.000000</td>\n",
       "      <td>4.000000</td>\n",
       "      <td>250.000000</td>\n",
       "      <td>37097.000000</td>\n",
       "      <td>100.00000</td>\n",
       "      <td>125248.000000</td>\n",
       "      <td>100.000000</td>\n",
       "      <td>8771.000000</td>\n",
       "      <td>13623.000000</td>\n",
       "      <td>6507.000000</td>\n",
       "      <td>1.000000</td>\n",
       "      <td>1.000000</td>\n",
       "    </tr>\n",
       "  </tbody>\n",
       "</table>\n",
       "</div>"
      ],
      "text/plain": [
       "           loan_type  property_type  ...   co_applicant       accepted\n",
       "count  366601.000000  366601.000000  ...  366601.000000  366601.000000\n",
       "mean        1.327620       1.028268  ...       0.395026       0.523291\n",
       "std         0.652392       0.165737  ...       0.488857       0.499458\n",
       "min         1.000000       1.000000  ...       0.000000       0.000000\n",
       "25%         1.000000       1.000000  ...       0.000000       0.000000\n",
       "50%         1.000000       1.000000  ...       0.000000       1.000000\n",
       "75%         1.000000       1.000000  ...       1.000000       1.000000\n",
       "max         4.000000       2.000000  ...       1.000000       1.000000\n",
       "\n",
       "[8 rows x 22 columns]"
      ]
     },
     "execution_count": 156,
     "metadata": {
      "tags": []
     },
     "output_type": "execute_result"
    }
   ],
   "source": [
    "data.describe()"
   ]
  },
  {
   "cell_type": "code",
   "execution_count": 0,
   "metadata": {
    "colab": {},
    "colab_type": "code",
    "id": "9ENtl4hI9BXa"
   },
   "outputs": [],
   "source": [
    "data = data.rename(columns = {'number_of_owner-occupied_units':'number_of_owner_occupied_units'})\n",
    "data[\"co_applicant\"]=(data['co_applicant']).astype(int)\n",
    "# mark zero values as missing or NaN\n",
    "data[data.columns] = data[data.columns].replace(-1, np.NaN)\n",
    "data[data.columns] = data[data.columns].replace(\"\", np.NaN)\n",
    "# drop rows with missing values\n",
    "data.dropna(inplace=True)\n",
    "data = data.drop(\"row_id\",1)"
   ]
  },
  {
   "cell_type": "code",
   "execution_count": 8,
   "metadata": {
    "colab": {
     "base_uri": "https://localhost:8080/",
     "height": 35
    },
    "colab_type": "code",
    "id": "YGWTOZNS9BXe",
    "outputId": "9a550ef7-0392-4310-b3ca-9ffd5e262c67"
   },
   "outputs": [
    {
     "data": {
      "text/plain": [
       "(387163, 22)"
      ]
     },
     "execution_count": 8,
     "metadata": {
      "tags": []
     },
     "output_type": "execute_result"
    }
   ],
   "source": [
    "data.shape"
   ]
  },
  {
   "cell_type": "code",
   "execution_count": 0,
   "metadata": {
    "colab": {},
    "colab_type": "code",
    "id": "UdV1_smS9BXy"
   },
   "outputs": [],
   "source": [
    "#drop rows with high income \n",
    "values = data[\"applicant_income\"]\n",
    "remove = values[values > 250 ].values"
   ]
  },
  {
   "cell_type": "code",
   "execution_count": 0,
   "metadata": {
    "colab": {},
    "colab_type": "code",
    "id": "NxYiXLhB9BX2"
   },
   "outputs": [],
   "source": [
    "data[\"applicant_income\"] = data[\"applicant_income\"].replace(to_replace= remove, value=np.NaN)\n",
    "data[\"applicant_income\"]\n",
    "data.dropna(inplace=True)"
   ]
  },
  {
   "cell_type": "code",
   "execution_count": 0,
   "metadata": {
    "colab": {},
    "colab_type": "code",
    "id": "A356KAwP9BX8"
   },
   "outputs": [],
   "source": [
    "#data.to_csv(\"clean_data.csv\")"
   ]
  },
  {
   "cell_type": "code",
   "execution_count": 11,
   "metadata": {
    "colab": {
     "base_uri": "https://localhost:8080/",
     "height": 35
    },
    "colab_type": "code",
    "id": "vFKRHx2K9BYN",
    "outputId": "d6c70706-27d0-42f5-ae26-f701c117900f"
   },
   "outputs": [
    {
     "data": {
      "text/plain": [
       "(366601, 22)"
      ]
     },
     "execution_count": 11,
     "metadata": {
      "tags": []
     },
     "output_type": "execute_result"
    }
   ],
   "source": [
    "data.shape"
   ]
  },
  {
   "cell_type": "code",
   "execution_count": 12,
   "metadata": {
    "colab": {
     "base_uri": "https://localhost:8080/",
     "height": 224
    },
    "colab_type": "code",
    "id": "lH1FvCRL9BYR",
    "outputId": "899cee39-a1c4-4499-d4ff-fb558c8e30b6"
   },
   "outputs": [
    {
     "data": {
      "text/html": [
       "<div>\n",
       "<style scoped>\n",
       "    .dataframe tbody tr th:only-of-type {\n",
       "        vertical-align: middle;\n",
       "    }\n",
       "\n",
       "    .dataframe tbody tr th {\n",
       "        vertical-align: top;\n",
       "    }\n",
       "\n",
       "    .dataframe thead th {\n",
       "        text-align: right;\n",
       "    }\n",
       "</style>\n",
       "<table border=\"1\" class=\"dataframe\">\n",
       "  <thead>\n",
       "    <tr style=\"text-align: right;\">\n",
       "      <th></th>\n",
       "      <th>loan_amount</th>\n",
       "      <th>applicant_income</th>\n",
       "      <th>population</th>\n",
       "      <th>minority_population_pct</th>\n",
       "      <th>ffiecmedian_family_income</th>\n",
       "      <th>tract_to_msa_md_income_pct</th>\n",
       "      <th>number_of_owner_occupied_units</th>\n",
       "      <th>number_of_1_to_4_family_units</th>\n",
       "      <th>accepted</th>\n",
       "    </tr>\n",
       "  </thead>\n",
       "  <tbody>\n",
       "    <tr>\n",
       "      <th>0</th>\n",
       "      <td>70</td>\n",
       "      <td>24.0</td>\n",
       "      <td>6203.0</td>\n",
       "      <td>44.230</td>\n",
       "      <td>60588.0</td>\n",
       "      <td>50.933</td>\n",
       "      <td>716.0</td>\n",
       "      <td>2642.0</td>\n",
       "      <td>1</td>\n",
       "    </tr>\n",
       "    <tr>\n",
       "      <th>1</th>\n",
       "      <td>178</td>\n",
       "      <td>57.0</td>\n",
       "      <td>5774.0</td>\n",
       "      <td>15.905</td>\n",
       "      <td>54821.0</td>\n",
       "      <td>100.000</td>\n",
       "      <td>1622.0</td>\n",
       "      <td>2108.0</td>\n",
       "      <td>0</td>\n",
       "    </tr>\n",
       "    <tr>\n",
       "      <th>2</th>\n",
       "      <td>163</td>\n",
       "      <td>67.0</td>\n",
       "      <td>6094.0</td>\n",
       "      <td>61.270</td>\n",
       "      <td>67719.0</td>\n",
       "      <td>100.000</td>\n",
       "      <td>760.0</td>\n",
       "      <td>1048.0</td>\n",
       "      <td>1</td>\n",
       "    </tr>\n",
       "    <tr>\n",
       "      <th>3</th>\n",
       "      <td>155</td>\n",
       "      <td>105.0</td>\n",
       "      <td>6667.0</td>\n",
       "      <td>6.246</td>\n",
       "      <td>78439.0</td>\n",
       "      <td>100.000</td>\n",
       "      <td>2025.0</td>\n",
       "      <td>2299.0</td>\n",
       "      <td>1</td>\n",
       "    </tr>\n",
       "    <tr>\n",
       "      <th>4</th>\n",
       "      <td>305</td>\n",
       "      <td>71.0</td>\n",
       "      <td>6732.0</td>\n",
       "      <td>100.000</td>\n",
       "      <td>63075.0</td>\n",
       "      <td>82.200</td>\n",
       "      <td>1464.0</td>\n",
       "      <td>1847.0</td>\n",
       "      <td>1</td>\n",
       "    </tr>\n",
       "  </tbody>\n",
       "</table>\n",
       "</div>"
      ],
      "text/plain": [
       "   loan_amount  applicant_income  ...  number_of_1_to_4_family_units  accepted\n",
       "0           70              24.0  ...                         2642.0         1\n",
       "1          178              57.0  ...                         2108.0         0\n",
       "2          163              67.0  ...                         1048.0         1\n",
       "3          155             105.0  ...                         2299.0         1\n",
       "4          305              71.0  ...                         1847.0         1\n",
       "\n",
       "[5 rows x 9 columns]"
      ]
     },
     "execution_count": 12,
     "metadata": {
      "tags": []
     },
     "output_type": "execute_result"
    }
   ],
   "source": [
    "data_num1 = data[[\"loan_amount\", \"applicant_income\", \"population\", \"minority_population_pct\",\"ffiecmedian_family_income\", \"tract_to_msa_md_income_pct\",\"number_of_owner_occupied_units\",\"number_of_1_to_4_family_units\",\"accepted\"]]\n",
    "data_num1.head()"
   ]
  },
  {
   "cell_type": "code",
   "execution_count": 13,
   "metadata": {
    "colab": {
     "base_uri": "https://localhost:8080/",
     "height": 224
    },
    "colab_type": "code",
    "id": "TDsIqn-b9BYj",
    "outputId": "9c7935b2-ce5a-41c8-aed9-d8f582e17892"
   },
   "outputs": [
    {
     "data": {
      "text/html": [
       "<div>\n",
       "<style scoped>\n",
       "    .dataframe tbody tr th:only-of-type {\n",
       "        vertical-align: middle;\n",
       "    }\n",
       "\n",
       "    .dataframe tbody tr th {\n",
       "        vertical-align: top;\n",
       "    }\n",
       "\n",
       "    .dataframe thead th {\n",
       "        text-align: right;\n",
       "    }\n",
       "</style>\n",
       "<table border=\"1\" class=\"dataframe\">\n",
       "  <thead>\n",
       "    <tr style=\"text-align: right;\">\n",
       "      <th></th>\n",
       "      <th>loan_type</th>\n",
       "      <th>property_type</th>\n",
       "      <th>loan_purpose</th>\n",
       "      <th>occupancy</th>\n",
       "      <th>preapproval</th>\n",
       "      <th>msa_md</th>\n",
       "      <th>state_code</th>\n",
       "      <th>county_code</th>\n",
       "      <th>applicant_ethnicity</th>\n",
       "      <th>applicant_race</th>\n",
       "      <th>applicant_sex</th>\n",
       "      <th>lender</th>\n",
       "      <th>co_applicant</th>\n",
       "      <th>accepted</th>\n",
       "    </tr>\n",
       "  </thead>\n",
       "  <tbody>\n",
       "    <tr>\n",
       "      <th>0</th>\n",
       "      <td>3</td>\n",
       "      <td>1</td>\n",
       "      <td>1</td>\n",
       "      <td>1</td>\n",
       "      <td>3</td>\n",
       "      <td>18.0</td>\n",
       "      <td>37.0</td>\n",
       "      <td>246.0</td>\n",
       "      <td>2</td>\n",
       "      <td>5</td>\n",
       "      <td>1</td>\n",
       "      <td>4536</td>\n",
       "      <td>0</td>\n",
       "      <td>1</td>\n",
       "    </tr>\n",
       "    <tr>\n",
       "      <th>1</th>\n",
       "      <td>1</td>\n",
       "      <td>1</td>\n",
       "      <td>3</td>\n",
       "      <td>1</td>\n",
       "      <td>3</td>\n",
       "      <td>369.0</td>\n",
       "      <td>52.0</td>\n",
       "      <td>299.0</td>\n",
       "      <td>1</td>\n",
       "      <td>5</td>\n",
       "      <td>1</td>\n",
       "      <td>2458</td>\n",
       "      <td>0</td>\n",
       "      <td>0</td>\n",
       "    </tr>\n",
       "    <tr>\n",
       "      <th>2</th>\n",
       "      <td>2</td>\n",
       "      <td>1</td>\n",
       "      <td>3</td>\n",
       "      <td>1</td>\n",
       "      <td>3</td>\n",
       "      <td>16.0</td>\n",
       "      <td>10.0</td>\n",
       "      <td>306.0</td>\n",
       "      <td>2</td>\n",
       "      <td>5</td>\n",
       "      <td>1</td>\n",
       "      <td>5710</td>\n",
       "      <td>0</td>\n",
       "      <td>1</td>\n",
       "    </tr>\n",
       "    <tr>\n",
       "      <th>3</th>\n",
       "      <td>1</td>\n",
       "      <td>1</td>\n",
       "      <td>1</td>\n",
       "      <td>1</td>\n",
       "      <td>1</td>\n",
       "      <td>305.0</td>\n",
       "      <td>47.0</td>\n",
       "      <td>180.0</td>\n",
       "      <td>2</td>\n",
       "      <td>5</td>\n",
       "      <td>1</td>\n",
       "      <td>5888</td>\n",
       "      <td>1</td>\n",
       "      <td>1</td>\n",
       "    </tr>\n",
       "    <tr>\n",
       "      <th>4</th>\n",
       "      <td>1</td>\n",
       "      <td>1</td>\n",
       "      <td>1</td>\n",
       "      <td>1</td>\n",
       "      <td>3</td>\n",
       "      <td>24.0</td>\n",
       "      <td>37.0</td>\n",
       "      <td>20.0</td>\n",
       "      <td>2</td>\n",
       "      <td>3</td>\n",
       "      <td>2</td>\n",
       "      <td>289</td>\n",
       "      <td>0</td>\n",
       "      <td>1</td>\n",
       "    </tr>\n",
       "  </tbody>\n",
       "</table>\n",
       "</div>"
      ],
      "text/plain": [
       "   loan_type  property_type  loan_purpose  ...  lender  co_applicant  accepted\n",
       "0          3              1             1  ...    4536             0         1\n",
       "1          1              1             3  ...    2458             0         0\n",
       "2          2              1             3  ...    5710             0         1\n",
       "3          1              1             1  ...    5888             1         1\n",
       "4          1              1             1  ...     289             0         1\n",
       "\n",
       "[5 rows x 14 columns]"
      ]
     },
     "execution_count": 13,
     "metadata": {
      "tags": []
     },
     "output_type": "execute_result"
    }
   ],
   "source": [
    "data_cat = data.drop(data_num1.columns,1)\n",
    "data_cat[\"accepted\"] = data[\"accepted\"]\n",
    "data_cat.head()"
   ]
  },
  {
   "cell_type": "code",
   "execution_count": 0,
   "metadata": {
    "colab": {},
    "colab_type": "code",
    "id": "GynersPX9BYp"
   },
   "outputs": [],
   "source": [
    "#print the counts for categorical columns \n",
    "for col in data_cat.columns:\n",
    "    print('\\nColumn Name:', col,)\n",
    "    print(data_cat[col].value_counts())"
   ]
  },
  {
   "cell_type": "code",
   "execution_count": 0,
   "metadata": {
    "colab": {},
    "colab_type": "code",
    "id": "ajrozFwt9BY9"
   },
   "outputs": [],
   "source": [
    "data_num2 = data_num1.drop(\"accepted\", axis=1)\n",
    "data_num = (data_num2 - data_num2.mean()) / (data_num2.max() - data_num2.min())"
   ]
  },
  {
   "cell_type": "code",
   "execution_count": 15,
   "metadata": {
    "colab": {
     "base_uri": "https://localhost:8080/",
     "height": 439
    },
    "colab_type": "code",
    "id": "49IRkPzU9BZR",
    "outputId": "b4f582a9-b8a8-4f2a-e581-802f5819c495"
   },
   "outputs": [
    {
     "data": {
      "text/html": [
       "<div>\n",
       "<style scoped>\n",
       "    .dataframe tbody tr th:only-of-type {\n",
       "        vertical-align: middle;\n",
       "    }\n",
       "\n",
       "    .dataframe tbody tr th {\n",
       "        vertical-align: top;\n",
       "    }\n",
       "\n",
       "    .dataframe thead th {\n",
       "        text-align: right;\n",
       "    }\n",
       "</style>\n",
       "<table border=\"1\" class=\"dataframe\">\n",
       "  <thead>\n",
       "    <tr style=\"text-align: right;\">\n",
       "      <th></th>\n",
       "      <th>loan_amount</th>\n",
       "      <th>applicant_income</th>\n",
       "      <th>population</th>\n",
       "      <th>minority_population_pct</th>\n",
       "      <th>ffiecmedian_family_income</th>\n",
       "      <th>tract_to_msa_md_income_pct</th>\n",
       "      <th>number_of_owner_occupied_units</th>\n",
       "      <th>number_of_1_to_4_family_units</th>\n",
       "      <th>accepted</th>\n",
       "    </tr>\n",
       "  </thead>\n",
       "  <tbody>\n",
       "    <tr>\n",
       "      <th>0</th>\n",
       "      <td>-0.007965</td>\n",
       "      <td>-0.246102</td>\n",
       "      <td>0.017874</td>\n",
       "      <td>0.108854</td>\n",
       "      <td>-0.095600</td>\n",
       "      <td>-0.432855</td>\n",
       "      <td>-0.083642</td>\n",
       "      <td>0.056499</td>\n",
       "      <td>1</td>\n",
       "    </tr>\n",
       "    <tr>\n",
       "      <th>1</th>\n",
       "      <td>-0.001207</td>\n",
       "      <td>-0.113572</td>\n",
       "      <td>0.006287</td>\n",
       "      <td>-0.176281</td>\n",
       "      <td>-0.149301</td>\n",
       "      <td>0.090437</td>\n",
       "      <td>0.019700</td>\n",
       "      <td>0.017298</td>\n",
       "      <td>0</td>\n",
       "    </tr>\n",
       "    <tr>\n",
       "      <th>2</th>\n",
       "      <td>-0.002146</td>\n",
       "      <td>-0.073411</td>\n",
       "      <td>0.014930</td>\n",
       "      <td>0.280388</td>\n",
       "      <td>-0.029197</td>\n",
       "      <td>0.090437</td>\n",
       "      <td>-0.078623</td>\n",
       "      <td>-0.060517</td>\n",
       "      <td>1</td>\n",
       "    </tr>\n",
       "    <tr>\n",
       "      <th>3</th>\n",
       "      <td>-0.002646</td>\n",
       "      <td>0.079199</td>\n",
       "      <td>0.030407</td>\n",
       "      <td>-0.273513</td>\n",
       "      <td>0.070626</td>\n",
       "      <td>0.090437</td>\n",
       "      <td>0.065668</td>\n",
       "      <td>0.031319</td>\n",
       "      <td>1</td>\n",
       "    </tr>\n",
       "    <tr>\n",
       "      <th>4</th>\n",
       "      <td>0.006739</td>\n",
       "      <td>-0.057347</td>\n",
       "      <td>0.032162</td>\n",
       "      <td>0.670265</td>\n",
       "      <td>-0.072441</td>\n",
       "      <td>-0.099397</td>\n",
       "      <td>0.001678</td>\n",
       "      <td>-0.001862</td>\n",
       "      <td>1</td>\n",
       "    </tr>\n",
       "    <tr>\n",
       "      <th>...</th>\n",
       "      <td>...</td>\n",
       "      <td>...</td>\n",
       "      <td>...</td>\n",
       "      <td>...</td>\n",
       "      <td>...</td>\n",
       "      <td>...</td>\n",
       "      <td>...</td>\n",
       "      <td>...</td>\n",
       "      <td>...</td>\n",
       "    </tr>\n",
       "    <tr>\n",
       "      <th>499992</th>\n",
       "      <td>0.007052</td>\n",
       "      <td>0.211730</td>\n",
       "      <td>-0.018455</td>\n",
       "      <td>-0.233750</td>\n",
       "      <td>0.027624</td>\n",
       "      <td>0.090437</td>\n",
       "      <td>0.007039</td>\n",
       "      <td>-0.005092</td>\n",
       "      <td>1</td>\n",
       "    </tr>\n",
       "    <tr>\n",
       "      <th>499993</th>\n",
       "      <td>0.000169</td>\n",
       "      <td>0.167553</td>\n",
       "      <td>0.107872</td>\n",
       "      <td>-0.280177</td>\n",
       "      <td>-0.053221</td>\n",
       "      <td>0.090437</td>\n",
       "      <td>0.166957</td>\n",
       "      <td>0.103996</td>\n",
       "      <td>0</td>\n",
       "    </tr>\n",
       "    <tr>\n",
       "      <th>499996</th>\n",
       "      <td>-0.003585</td>\n",
       "      <td>0.524983</td>\n",
       "      <td>-0.056431</td>\n",
       "      <td>-0.267061</td>\n",
       "      <td>0.143892</td>\n",
       "      <td>0.090437</td>\n",
       "      <td>-0.002998</td>\n",
       "      <td>0.005259</td>\n",
       "      <td>0</td>\n",
       "    </tr>\n",
       "    <tr>\n",
       "      <th>499998</th>\n",
       "      <td>-0.010155</td>\n",
       "      <td>-0.177829</td>\n",
       "      <td>-0.056701</td>\n",
       "      <td>0.658981</td>\n",
       "      <td>-0.098030</td>\n",
       "      <td>-0.306263</td>\n",
       "      <td>-0.094820</td>\n",
       "      <td>-0.042238</td>\n",
       "      <td>0</td>\n",
       "    </tr>\n",
       "    <tr>\n",
       "      <th>499999</th>\n",
       "      <td>-0.007902</td>\n",
       "      <td>-0.001122</td>\n",
       "      <td>-0.045519</td>\n",
       "      <td>-0.214634</td>\n",
       "      <td>-0.240446</td>\n",
       "      <td>0.090437</td>\n",
       "      <td>0.008636</td>\n",
       "      <td>0.064428</td>\n",
       "      <td>0</td>\n",
       "    </tr>\n",
       "  </tbody>\n",
       "</table>\n",
       "<p>366601 rows × 9 columns</p>\n",
       "</div>"
      ],
      "text/plain": [
       "        loan_amount  applicant_income  ...  number_of_1_to_4_family_units  accepted\n",
       "0         -0.007965         -0.246102  ...                       0.056499         1\n",
       "1         -0.001207         -0.113572  ...                       0.017298         0\n",
       "2         -0.002146         -0.073411  ...                      -0.060517         1\n",
       "3         -0.002646          0.079199  ...                       0.031319         1\n",
       "4          0.006739         -0.057347  ...                      -0.001862         1\n",
       "...             ...               ...  ...                            ...       ...\n",
       "499992     0.007052          0.211730  ...                      -0.005092         1\n",
       "499993     0.000169          0.167553  ...                       0.103996         0\n",
       "499996    -0.003585          0.524983  ...                       0.005259         0\n",
       "499998    -0.010155         -0.177829  ...                      -0.042238         0\n",
       "499999    -0.007902         -0.001122  ...                       0.064428         0\n",
       "\n",
       "[366601 rows x 9 columns]"
      ]
     },
     "execution_count": 15,
     "metadata": {
      "tags": []
     },
     "output_type": "execute_result"
    }
   ],
   "source": [
    "data_num[\"accepted\"] = data_num1[\"accepted\"]\n",
    "data_num"
   ]
  },
  {
   "cell_type": "code",
   "execution_count": 16,
   "metadata": {
    "colab": {
     "base_uri": "https://localhost:8080/",
     "height": 249
    },
    "colab_type": "code",
    "id": "lnPOUCNl9BZX",
    "outputId": "4a7c0932-b6b6-4905-8065-818dc0ad9e26"
   },
   "outputs": [
    {
     "data": {
      "text/html": [
       "<style  type=\"text/css\" >\n",
       "    #T_0c5ec7be_2373_11ea_8eec_0242ac1c0002row0_col0 {\n",
       "            background-color:  #b40426;\n",
       "            color:  #f1f1f1;\n",
       "        }    #T_0c5ec7be_2373_11ea_8eec_0242ac1c0002row0_col1 {\n",
       "            background-color:  #edd2c3;\n",
       "            color:  #000000;\n",
       "        }    #T_0c5ec7be_2373_11ea_8eec_0242ac1c0002row0_col2 {\n",
       "            background-color:  #4f69d9;\n",
       "            color:  #000000;\n",
       "        }    #T_0c5ec7be_2373_11ea_8eec_0242ac1c0002row0_col3 {\n",
       "            background-color:  #a1c0ff;\n",
       "            color:  #000000;\n",
       "        }    #T_0c5ec7be_2373_11ea_8eec_0242ac1c0002row0_col4 {\n",
       "            background-color:  #bbd1f8;\n",
       "            color:  #000000;\n",
       "        }    #T_0c5ec7be_2373_11ea_8eec_0242ac1c0002row0_col5 {\n",
       "            background-color:  #cdd9ec;\n",
       "            color:  #000000;\n",
       "        }    #T_0c5ec7be_2373_11ea_8eec_0242ac1c0002row0_col6 {\n",
       "            background-color:  #799cf8;\n",
       "            color:  #000000;\n",
       "        }    #T_0c5ec7be_2373_11ea_8eec_0242ac1c0002row0_col7 {\n",
       "            background-color:  #5572df;\n",
       "            color:  #000000;\n",
       "        }    #T_0c5ec7be_2373_11ea_8eec_0242ac1c0002row0_col8 {\n",
       "            background-color:  #7b9ff9;\n",
       "            color:  #000000;\n",
       "        }    #T_0c5ec7be_2373_11ea_8eec_0242ac1c0002row1_col0 {\n",
       "            background-color:  #e9d5cb;\n",
       "            color:  #000000;\n",
       "        }    #T_0c5ec7be_2373_11ea_8eec_0242ac1c0002row1_col1 {\n",
       "            background-color:  #b40426;\n",
       "            color:  #f1f1f1;\n",
       "        }    #T_0c5ec7be_2373_11ea_8eec_0242ac1c0002row1_col2 {\n",
       "            background-color:  #536edd;\n",
       "            color:  #000000;\n",
       "        }    #T_0c5ec7be_2373_11ea_8eec_0242ac1c0002row1_col3 {\n",
       "            background-color:  #89acfd;\n",
       "            color:  #000000;\n",
       "        }    #T_0c5ec7be_2373_11ea_8eec_0242ac1c0002row1_col4 {\n",
       "            background-color:  #a3c2fe;\n",
       "            color:  #000000;\n",
       "        }    #T_0c5ec7be_2373_11ea_8eec_0242ac1c0002row1_col5 {\n",
       "            background-color:  #d1dae9;\n",
       "            color:  #000000;\n",
       "        }    #T_0c5ec7be_2373_11ea_8eec_0242ac1c0002row1_col6 {\n",
       "            background-color:  #86a9fc;\n",
       "            color:  #000000;\n",
       "        }    #T_0c5ec7be_2373_11ea_8eec_0242ac1c0002row1_col7 {\n",
       "            background-color:  #6180e9;\n",
       "            color:  #000000;\n",
       "        }    #T_0c5ec7be_2373_11ea_8eec_0242ac1c0002row1_col8 {\n",
       "            background-color:  #89acfd;\n",
       "            color:  #000000;\n",
       "        }    #T_0c5ec7be_2373_11ea_8eec_0242ac1c0002row2_col0 {\n",
       "            background-color:  #4f69d9;\n",
       "            color:  #000000;\n",
       "        }    #T_0c5ec7be_2373_11ea_8eec_0242ac1c0002row2_col1 {\n",
       "            background-color:  #5e7de7;\n",
       "            color:  #000000;\n",
       "        }    #T_0c5ec7be_2373_11ea_8eec_0242ac1c0002row2_col2 {\n",
       "            background-color:  #b40426;\n",
       "            color:  #f1f1f1;\n",
       "        }    #T_0c5ec7be_2373_11ea_8eec_0242ac1c0002row2_col3 {\n",
       "            background-color:  #afcafc;\n",
       "            color:  #000000;\n",
       "        }    #T_0c5ec7be_2373_11ea_8eec_0242ac1c0002row2_col4 {\n",
       "            background-color:  #506bda;\n",
       "            color:  #000000;\n",
       "        }    #T_0c5ec7be_2373_11ea_8eec_0242ac1c0002row2_col5 {\n",
       "            background-color:  #c6d6f1;\n",
       "            color:  #000000;\n",
       "        }    #T_0c5ec7be_2373_11ea_8eec_0242ac1c0002row2_col6 {\n",
       "            background-color:  #d95847;\n",
       "            color:  #000000;\n",
       "        }    #T_0c5ec7be_2373_11ea_8eec_0242ac1c0002row2_col7 {\n",
       "            background-color:  #de614d;\n",
       "            color:  #000000;\n",
       "        }    #T_0c5ec7be_2373_11ea_8eec_0242ac1c0002row2_col8 {\n",
       "            background-color:  #5e7de7;\n",
       "            color:  #000000;\n",
       "        }    #T_0c5ec7be_2373_11ea_8eec_0242ac1c0002row3_col0 {\n",
       "            background-color:  #4961d2;\n",
       "            color:  #f1f1f1;\n",
       "        }    #T_0c5ec7be_2373_11ea_8eec_0242ac1c0002row3_col1 {\n",
       "            background-color:  #3b4cc0;\n",
       "            color:  #f1f1f1;\n",
       "        }    #T_0c5ec7be_2373_11ea_8eec_0242ac1c0002row3_col2 {\n",
       "            background-color:  #5b7ae5;\n",
       "            color:  #000000;\n",
       "        }    #T_0c5ec7be_2373_11ea_8eec_0242ac1c0002row3_col3 {\n",
       "            background-color:  #b40426;\n",
       "            color:  #f1f1f1;\n",
       "        }    #T_0c5ec7be_2373_11ea_8eec_0242ac1c0002row3_col4 {\n",
       "            background-color:  #5470de;\n",
       "            color:  #000000;\n",
       "        }    #T_0c5ec7be_2373_11ea_8eec_0242ac1c0002row3_col5 {\n",
       "            background-color:  #3b4cc0;\n",
       "            color:  #f1f1f1;\n",
       "        }    #T_0c5ec7be_2373_11ea_8eec_0242ac1c0002row3_col6 {\n",
       "            background-color:  #3b4cc0;\n",
       "            color:  #f1f1f1;\n",
       "        }    #T_0c5ec7be_2373_11ea_8eec_0242ac1c0002row3_col7 {\n",
       "            background-color:  #3b4cc0;\n",
       "            color:  #f1f1f1;\n",
       "        }    #T_0c5ec7be_2373_11ea_8eec_0242ac1c0002row3_col8 {\n",
       "            background-color:  #3b4cc0;\n",
       "            color:  #f1f1f1;\n",
       "        }    #T_0c5ec7be_2373_11ea_8eec_0242ac1c0002row4_col0 {\n",
       "            background-color:  #abc8fd;\n",
       "            color:  #000000;\n",
       "        }    #T_0c5ec7be_2373_11ea_8eec_0242ac1c0002row4_col1 {\n",
       "            background-color:  #9abbff;\n",
       "            color:  #000000;\n",
       "        }    #T_0c5ec7be_2373_11ea_8eec_0242ac1c0002row4_col2 {\n",
       "            background-color:  #3b4cc0;\n",
       "            color:  #f1f1f1;\n",
       "        }    #T_0c5ec7be_2373_11ea_8eec_0242ac1c0002row4_col3 {\n",
       "            background-color:  #97b8ff;\n",
       "            color:  #000000;\n",
       "        }    #T_0c5ec7be_2373_11ea_8eec_0242ac1c0002row4_col4 {\n",
       "            background-color:  #b40426;\n",
       "            color:  #f1f1f1;\n",
       "        }    #T_0c5ec7be_2373_11ea_8eec_0242ac1c0002row4_col5 {\n",
       "            background-color:  #96b7ff;\n",
       "            color:  #000000;\n",
       "        }    #T_0c5ec7be_2373_11ea_8eec_0242ac1c0002row4_col6 {\n",
       "            background-color:  #6c8ff1;\n",
       "            color:  #000000;\n",
       "        }    #T_0c5ec7be_2373_11ea_8eec_0242ac1c0002row4_col7 {\n",
       "            background-color:  #3f53c6;\n",
       "            color:  #f1f1f1;\n",
       "        }    #T_0c5ec7be_2373_11ea_8eec_0242ac1c0002row4_col8 {\n",
       "            background-color:  #688aef;\n",
       "            color:  #000000;\n",
       "        }    #T_0c5ec7be_2373_11ea_8eec_0242ac1c0002row5_col0 {\n",
       "            background-color:  #88abfd;\n",
       "            color:  #000000;\n",
       "        }    #T_0c5ec7be_2373_11ea_8eec_0242ac1c0002row5_col1 {\n",
       "            background-color:  #98b9ff;\n",
       "            color:  #000000;\n",
       "        }    #T_0c5ec7be_2373_11ea_8eec_0242ac1c0002row5_col2 {\n",
       "            background-color:  #7da0f9;\n",
       "            color:  #000000;\n",
       "        }    #T_0c5ec7be_2373_11ea_8eec_0242ac1c0002row5_col3 {\n",
       "            background-color:  #3b4cc0;\n",
       "            color:  #f1f1f1;\n",
       "        }    #T_0c5ec7be_2373_11ea_8eec_0242ac1c0002row5_col4 {\n",
       "            background-color:  #536edd;\n",
       "            color:  #000000;\n",
       "        }    #T_0c5ec7be_2373_11ea_8eec_0242ac1c0002row5_col5 {\n",
       "            background-color:  #b40426;\n",
       "            color:  #f1f1f1;\n",
       "        }    #T_0c5ec7be_2373_11ea_8eec_0242ac1c0002row5_col6 {\n",
       "            background-color:  #dadce0;\n",
       "            color:  #000000;\n",
       "        }    #T_0c5ec7be_2373_11ea_8eec_0242ac1c0002row5_col7 {\n",
       "            background-color:  #a6c4fe;\n",
       "            color:  #000000;\n",
       "        }    #T_0c5ec7be_2373_11ea_8eec_0242ac1c0002row5_col8 {\n",
       "            background-color:  #779af7;\n",
       "            color:  #000000;\n",
       "        }    #T_0c5ec7be_2373_11ea_8eec_0242ac1c0002row6_col0 {\n",
       "            background-color:  #4b64d5;\n",
       "            color:  #f1f1f1;\n",
       "        }    #T_0c5ec7be_2373_11ea_8eec_0242ac1c0002row6_col1 {\n",
       "            background-color:  #6485ec;\n",
       "            color:  #000000;\n",
       "        }    #T_0c5ec7be_2373_11ea_8eec_0242ac1c0002row6_col2 {\n",
       "            background-color:  #df634e;\n",
       "            color:  #000000;\n",
       "        }    #T_0c5ec7be_2373_11ea_8eec_0242ac1c0002row6_col3 {\n",
       "            background-color:  #688aef;\n",
       "            color:  #000000;\n",
       "        }    #T_0c5ec7be_2373_11ea_8eec_0242ac1c0002row6_col4 {\n",
       "            background-color:  #5470de;\n",
       "            color:  #000000;\n",
       "        }    #T_0c5ec7be_2373_11ea_8eec_0242ac1c0002row6_col5 {\n",
       "            background-color:  #ecd3c5;\n",
       "            color:  #000000;\n",
       "        }    #T_0c5ec7be_2373_11ea_8eec_0242ac1c0002row6_col6 {\n",
       "            background-color:  #b40426;\n",
       "            color:  #f1f1f1;\n",
       "        }    #T_0c5ec7be_2373_11ea_8eec_0242ac1c0002row6_col7 {\n",
       "            background-color:  #cf453c;\n",
       "            color:  #f1f1f1;\n",
       "        }    #T_0c5ec7be_2373_11ea_8eec_0242ac1c0002row6_col8 {\n",
       "            background-color:  #6485ec;\n",
       "            color:  #000000;\n",
       "        }    #T_0c5ec7be_2373_11ea_8eec_0242ac1c0002row7_col0 {\n",
       "            background-color:  #3b4cc0;\n",
       "            color:  #f1f1f1;\n",
       "        }    #T_0c5ec7be_2373_11ea_8eec_0242ac1c0002row7_col1 {\n",
       "            background-color:  #516ddb;\n",
       "            color:  #000000;\n",
       "        }    #T_0c5ec7be_2373_11ea_8eec_0242ac1c0002row7_col2 {\n",
       "            background-color:  #e26952;\n",
       "            color:  #000000;\n",
       "        }    #T_0c5ec7be_2373_11ea_8eec_0242ac1c0002row7_col3 {\n",
       "            background-color:  #7b9ff9;\n",
       "            color:  #000000;\n",
       "        }    #T_0c5ec7be_2373_11ea_8eec_0242ac1c0002row7_col4 {\n",
       "            background-color:  #3b4cc0;\n",
       "            color:  #f1f1f1;\n",
       "        }    #T_0c5ec7be_2373_11ea_8eec_0242ac1c0002row7_col5 {\n",
       "            background-color:  #d2dbe8;\n",
       "            color:  #000000;\n",
       "        }    #T_0c5ec7be_2373_11ea_8eec_0242ac1c0002row7_col6 {\n",
       "            background-color:  #cd423b;\n",
       "            color:  #f1f1f1;\n",
       "        }    #T_0c5ec7be_2373_11ea_8eec_0242ac1c0002row7_col7 {\n",
       "            background-color:  #b40426;\n",
       "            color:  #f1f1f1;\n",
       "        }    #T_0c5ec7be_2373_11ea_8eec_0242ac1c0002row7_col8 {\n",
       "            background-color:  #5d7ce6;\n",
       "            color:  #000000;\n",
       "        }    #T_0c5ec7be_2373_11ea_8eec_0242ac1c0002row8_col0 {\n",
       "            background-color:  #6e90f2;\n",
       "            color:  #000000;\n",
       "        }    #T_0c5ec7be_2373_11ea_8eec_0242ac1c0002row8_col1 {\n",
       "            background-color:  #85a8fc;\n",
       "            color:  #000000;\n",
       "        }    #T_0c5ec7be_2373_11ea_8eec_0242ac1c0002row8_col2 {\n",
       "            background-color:  #4f69d9;\n",
       "            color:  #000000;\n",
       "        }    #T_0c5ec7be_2373_11ea_8eec_0242ac1c0002row8_col3 {\n",
       "            background-color:  #86a9fc;\n",
       "            color:  #000000;\n",
       "        }    #T_0c5ec7be_2373_11ea_8eec_0242ac1c0002row8_col4 {\n",
       "            background-color:  #7093f3;\n",
       "            color:  #000000;\n",
       "        }    #T_0c5ec7be_2373_11ea_8eec_0242ac1c0002row8_col5 {\n",
       "            background-color:  #bad0f8;\n",
       "            color:  #000000;\n",
       "        }    #T_0c5ec7be_2373_11ea_8eec_0242ac1c0002row8_col6 {\n",
       "            background-color:  #84a7fc;\n",
       "            color:  #000000;\n",
       "        }    #T_0c5ec7be_2373_11ea_8eec_0242ac1c0002row8_col7 {\n",
       "            background-color:  #688aef;\n",
       "            color:  #000000;\n",
       "        }    #T_0c5ec7be_2373_11ea_8eec_0242ac1c0002row8_col8 {\n",
       "            background-color:  #b40426;\n",
       "            color:  #f1f1f1;\n",
       "        }</style><table id=\"T_0c5ec7be_2373_11ea_8eec_0242ac1c0002\" ><thead>    <tr>        <th class=\"blank level0\" ></th>        <th class=\"col_heading level0 col0\" >loan_amount</th>        <th class=\"col_heading level0 col1\" >applicant_income</th>        <th class=\"col_heading level0 col2\" >population</th>        <th class=\"col_heading level0 col3\" >minority_population_pct</th>        <th class=\"col_heading level0 col4\" >ffiecmedian_family_income</th>        <th class=\"col_heading level0 col5\" >tract_to_msa_md_income_pct</th>        <th class=\"col_heading level0 col6\" >number_of_owner_occupied_units</th>        <th class=\"col_heading level0 col7\" >number_of_1_to_4_family_units</th>        <th class=\"col_heading level0 col8\" >accepted</th>    </tr></thead><tbody>\n",
       "                <tr>\n",
       "                        <th id=\"T_0c5ec7be_2373_11ea_8eec_0242ac1c0002level0_row0\" class=\"row_heading level0 row0\" >loan_amount</th>\n",
       "                        <td id=\"T_0c5ec7be_2373_11ea_8eec_0242ac1c0002row0_col0\" class=\"data row0 col0\" >1</td>\n",
       "                        <td id=\"T_0c5ec7be_2373_11ea_8eec_0242ac1c0002row0_col1\" class=\"data row0 col1\" >0.525129</td>\n",
       "                        <td id=\"T_0c5ec7be_2373_11ea_8eec_0242ac1c0002row0_col2\" class=\"data row0 col2\" >0.018175</td>\n",
       "                        <td id=\"T_0c5ec7be_2373_11ea_8eec_0242ac1c0002row0_col3\" class=\"data row0 col3\" >-0.00256084</td>\n",
       "                        <td id=\"T_0c5ec7be_2373_11ea_8eec_0242ac1c0002row0_col4\" class=\"data row0 col4\" >0.299727</td>\n",
       "                        <td id=\"T_0c5ec7be_2373_11ea_8eec_0242ac1c0002row0_col5\" class=\"data row0 col5\" >0.194565</td>\n",
       "                        <td id=\"T_0c5ec7be_2373_11ea_8eec_0242ac1c0002row0_col6\" class=\"data row0 col6\" >0.00320304</td>\n",
       "                        <td id=\"T_0c5ec7be_2373_11ea_8eec_0242ac1c0002row0_col7\" class=\"data row0 col7\" >-0.0549395</td>\n",
       "                        <td id=\"T_0c5ec7be_2373_11ea_8eec_0242ac1c0002row0_col8\" class=\"data row0 col8\" >0.114547</td>\n",
       "            </tr>\n",
       "            <tr>\n",
       "                        <th id=\"T_0c5ec7be_2373_11ea_8eec_0242ac1c0002level0_row1\" class=\"row_heading level0 row1\" >applicant_income</th>\n",
       "                        <td id=\"T_0c5ec7be_2373_11ea_8eec_0242ac1c0002row1_col0\" class=\"data row1 col0\" >0.525129</td>\n",
       "                        <td id=\"T_0c5ec7be_2373_11ea_8eec_0242ac1c0002row1_col1\" class=\"data row1 col1\" >1</td>\n",
       "                        <td id=\"T_0c5ec7be_2373_11ea_8eec_0242ac1c0002row1_col2\" class=\"data row1 col2\" >0.0290233</td>\n",
       "                        <td id=\"T_0c5ec7be_2373_11ea_8eec_0242ac1c0002row1_col3\" class=\"data row1 col3\" >-0.0978974</td>\n",
       "                        <td id=\"T_0c5ec7be_2373_11ea_8eec_0242ac1c0002row1_col4\" class=\"data row1 col4\" >0.21937</td>\n",
       "                        <td id=\"T_0c5ec7be_2373_11ea_8eec_0242ac1c0002row1_col5\" class=\"data row1 col5\" >0.211246</td>\n",
       "                        <td id=\"T_0c5ec7be_2373_11ea_8eec_0242ac1c0002row1_col6\" class=\"data row1 col6\" >0.0482036</td>\n",
       "                        <td id=\"T_0c5ec7be_2373_11ea_8eec_0242ac1c0002row1_col7\" class=\"data row1 col7\" >-0.0157141</td>\n",
       "                        <td id=\"T_0c5ec7be_2373_11ea_8eec_0242ac1c0002row1_col8\" class=\"data row1 col8\" >0.15469</td>\n",
       "            </tr>\n",
       "            <tr>\n",
       "                        <th id=\"T_0c5ec7be_2373_11ea_8eec_0242ac1c0002level0_row2\" class=\"row_heading level0 row2\" >population</th>\n",
       "                        <td id=\"T_0c5ec7be_2373_11ea_8eec_0242ac1c0002row2_col0\" class=\"data row2 col0\" >0.018175</td>\n",
       "                        <td id=\"T_0c5ec7be_2373_11ea_8eec_0242ac1c0002row2_col1\" class=\"data row2 col1\" >0.0290233</td>\n",
       "                        <td id=\"T_0c5ec7be_2373_11ea_8eec_0242ac1c0002row2_col2\" class=\"data row2 col2\" >1</td>\n",
       "                        <td id=\"T_0c5ec7be_2373_11ea_8eec_0242ac1c0002row2_col3\" class=\"data row2 col3\" >0.0602903</td>\n",
       "                        <td id=\"T_0c5ec7be_2373_11ea_8eec_0242ac1c0002row2_col4\" class=\"data row2 col4\" >-0.0534746</td>\n",
       "                        <td id=\"T_0c5ec7be_2373_11ea_8eec_0242ac1c0002row2_col5\" class=\"data row2 col5\" >0.162192</td>\n",
       "                        <td id=\"T_0c5ec7be_2373_11ea_8eec_0242ac1c0002row2_col6\" class=\"data row2 col6\" >0.862679</td>\n",
       "                        <td id=\"T_0c5ec7be_2373_11ea_8eec_0242ac1c0002row2_col7\" class=\"data row2 col7\" >0.851133</td>\n",
       "                        <td id=\"T_0c5ec7be_2373_11ea_8eec_0242ac1c0002row2_col8\" class=\"data row2 col8\" >0.0179476</td>\n",
       "            </tr>\n",
       "            <tr>\n",
       "                        <th id=\"T_0c5ec7be_2373_11ea_8eec_0242ac1c0002level0_row3\" class=\"row_heading level0 row3\" >minority_population_pct</th>\n",
       "                        <td id=\"T_0c5ec7be_2373_11ea_8eec_0242ac1c0002row3_col0\" class=\"data row3 col0\" >-0.00256084</td>\n",
       "                        <td id=\"T_0c5ec7be_2373_11ea_8eec_0242ac1c0002row3_col1\" class=\"data row3 col1\" >-0.0978974</td>\n",
       "                        <td id=\"T_0c5ec7be_2373_11ea_8eec_0242ac1c0002row3_col2\" class=\"data row3 col2\" >0.0602903</td>\n",
       "                        <td id=\"T_0c5ec7be_2373_11ea_8eec_0242ac1c0002row3_col3\" class=\"data row3 col3\" >1</td>\n",
       "                        <td id=\"T_0c5ec7be_2373_11ea_8eec_0242ac1c0002row3_col4\" class=\"data row3 col4\" >-0.0419318</td>\n",
       "                        <td id=\"T_0c5ec7be_2373_11ea_8eec_0242ac1c0002row3_col5\" class=\"data row3 col5\" >-0.447405</td>\n",
       "                        <td id=\"T_0c5ec7be_2373_11ea_8eec_0242ac1c0002row3_col6\" class=\"data row3 col6\" >-0.237305</td>\n",
       "                        <td id=\"T_0c5ec7be_2373_11ea_8eec_0242ac1c0002row3_col7\" class=\"data row3 col7\" >-0.156789</td>\n",
       "                        <td id=\"T_0c5ec7be_2373_11ea_8eec_0242ac1c0002row3_col8\" class=\"data row3 col8\" >-0.110269</td>\n",
       "            </tr>\n",
       "            <tr>\n",
       "                        <th id=\"T_0c5ec7be_2373_11ea_8eec_0242ac1c0002level0_row4\" class=\"row_heading level0 row4\" >ffiecmedian_family_income</th>\n",
       "                        <td id=\"T_0c5ec7be_2373_11ea_8eec_0242ac1c0002row4_col0\" class=\"data row4 col0\" >0.299727</td>\n",
       "                        <td id=\"T_0c5ec7be_2373_11ea_8eec_0242ac1c0002row4_col1\" class=\"data row4 col1\" >0.21937</td>\n",
       "                        <td id=\"T_0c5ec7be_2373_11ea_8eec_0242ac1c0002row4_col2\" class=\"data row4 col2\" >-0.0534746</td>\n",
       "                        <td id=\"T_0c5ec7be_2373_11ea_8eec_0242ac1c0002row4_col3\" class=\"data row4 col3\" >-0.0419318</td>\n",
       "                        <td id=\"T_0c5ec7be_2373_11ea_8eec_0242ac1c0002row4_col4\" class=\"data row4 col4\" >1</td>\n",
       "                        <td id=\"T_0c5ec7be_2373_11ea_8eec_0242ac1c0002row4_col5\" class=\"data row4 col5\" >-0.0477615</td>\n",
       "                        <td id=\"T_0c5ec7be_2373_11ea_8eec_0242ac1c0002row4_col6\" class=\"data row4 col6\" >-0.0431276</td>\n",
       "                        <td id=\"T_0c5ec7be_2373_11ea_8eec_0242ac1c0002row4_col7\" class=\"data row4 col7\" >-0.137368</td>\n",
       "                        <td id=\"T_0c5ec7be_2373_11ea_8eec_0242ac1c0002row4_col8\" class=\"data row4 col8\" >0.0543474</td>\n",
       "            </tr>\n",
       "            <tr>\n",
       "                        <th id=\"T_0c5ec7be_2373_11ea_8eec_0242ac1c0002level0_row5\" class=\"row_heading level0 row5\" >tract_to_msa_md_income_pct</th>\n",
       "                        <td id=\"T_0c5ec7be_2373_11ea_8eec_0242ac1c0002row5_col0\" class=\"data row5 col0\" >0.194565</td>\n",
       "                        <td id=\"T_0c5ec7be_2373_11ea_8eec_0242ac1c0002row5_col1\" class=\"data row5 col1\" >0.211246</td>\n",
       "                        <td id=\"T_0c5ec7be_2373_11ea_8eec_0242ac1c0002row5_col2\" class=\"data row5 col2\" >0.162192</td>\n",
       "                        <td id=\"T_0c5ec7be_2373_11ea_8eec_0242ac1c0002row5_col3\" class=\"data row5 col3\" >-0.447405</td>\n",
       "                        <td id=\"T_0c5ec7be_2373_11ea_8eec_0242ac1c0002row5_col4\" class=\"data row5 col4\" >-0.0477615</td>\n",
       "                        <td id=\"T_0c5ec7be_2373_11ea_8eec_0242ac1c0002row5_col5\" class=\"data row5 col5\" >1</td>\n",
       "                        <td id=\"T_0c5ec7be_2373_11ea_8eec_0242ac1c0002row5_col6\" class=\"data row5 col6\" >0.370191</td>\n",
       "                        <td id=\"T_0c5ec7be_2373_11ea_8eec_0242ac1c0002row5_col7\" class=\"data row5 col7\" >0.215134</td>\n",
       "                        <td id=\"T_0c5ec7be_2373_11ea_8eec_0242ac1c0002row5_col8\" class=\"data row5 col8\" >0.102119</td>\n",
       "            </tr>\n",
       "            <tr>\n",
       "                        <th id=\"T_0c5ec7be_2373_11ea_8eec_0242ac1c0002level0_row6\" class=\"row_heading level0 row6\" >number_of_owner_occupied_units</th>\n",
       "                        <td id=\"T_0c5ec7be_2373_11ea_8eec_0242ac1c0002row6_col0\" class=\"data row6 col0\" >0.00320304</td>\n",
       "                        <td id=\"T_0c5ec7be_2373_11ea_8eec_0242ac1c0002row6_col1\" class=\"data row6 col1\" >0.0482036</td>\n",
       "                        <td id=\"T_0c5ec7be_2373_11ea_8eec_0242ac1c0002row6_col2\" class=\"data row6 col2\" >0.862679</td>\n",
       "                        <td id=\"T_0c5ec7be_2373_11ea_8eec_0242ac1c0002row6_col3\" class=\"data row6 col3\" >-0.237305</td>\n",
       "                        <td id=\"T_0c5ec7be_2373_11ea_8eec_0242ac1c0002row6_col4\" class=\"data row6 col4\" >-0.0431276</td>\n",
       "                        <td id=\"T_0c5ec7be_2373_11ea_8eec_0242ac1c0002row6_col5\" class=\"data row6 col5\" >0.370191</td>\n",
       "                        <td id=\"T_0c5ec7be_2373_11ea_8eec_0242ac1c0002row6_col6\" class=\"data row6 col6\" >1</td>\n",
       "                        <td id=\"T_0c5ec7be_2373_11ea_8eec_0242ac1c0002row6_col7\" class=\"data row6 col7\" >0.910196</td>\n",
       "                        <td id=\"T_0c5ec7be_2373_11ea_8eec_0242ac1c0002row6_col8\" class=\"data row6 col8\" >0.0403975</td>\n",
       "            </tr>\n",
       "            <tr>\n",
       "                        <th id=\"T_0c5ec7be_2373_11ea_8eec_0242ac1c0002level0_row7\" class=\"row_heading level0 row7\" >number_of_1_to_4_family_units</th>\n",
       "                        <td id=\"T_0c5ec7be_2373_11ea_8eec_0242ac1c0002row7_col0\" class=\"data row7 col0\" >-0.0549395</td>\n",
       "                        <td id=\"T_0c5ec7be_2373_11ea_8eec_0242ac1c0002row7_col1\" class=\"data row7 col1\" >-0.0157141</td>\n",
       "                        <td id=\"T_0c5ec7be_2373_11ea_8eec_0242ac1c0002row7_col2\" class=\"data row7 col2\" >0.851133</td>\n",
       "                        <td id=\"T_0c5ec7be_2373_11ea_8eec_0242ac1c0002row7_col3\" class=\"data row7 col3\" >-0.156789</td>\n",
       "                        <td id=\"T_0c5ec7be_2373_11ea_8eec_0242ac1c0002row7_col4\" class=\"data row7 col4\" >-0.137368</td>\n",
       "                        <td id=\"T_0c5ec7be_2373_11ea_8eec_0242ac1c0002row7_col5\" class=\"data row7 col5\" >0.215134</td>\n",
       "                        <td id=\"T_0c5ec7be_2373_11ea_8eec_0242ac1c0002row7_col6\" class=\"data row7 col6\" >0.910196</td>\n",
       "                        <td id=\"T_0c5ec7be_2373_11ea_8eec_0242ac1c0002row7_col7\" class=\"data row7 col7\" >1</td>\n",
       "                        <td id=\"T_0c5ec7be_2373_11ea_8eec_0242ac1c0002row7_col8\" class=\"data row7 col8\" >0.0118397</td>\n",
       "            </tr>\n",
       "            <tr>\n",
       "                        <th id=\"T_0c5ec7be_2373_11ea_8eec_0242ac1c0002level0_row8\" class=\"row_heading level0 row8\" >accepted</th>\n",
       "                        <td id=\"T_0c5ec7be_2373_11ea_8eec_0242ac1c0002row8_col0\" class=\"data row8 col0\" >0.114547</td>\n",
       "                        <td id=\"T_0c5ec7be_2373_11ea_8eec_0242ac1c0002row8_col1\" class=\"data row8 col1\" >0.15469</td>\n",
       "                        <td id=\"T_0c5ec7be_2373_11ea_8eec_0242ac1c0002row8_col2\" class=\"data row8 col2\" >0.0179476</td>\n",
       "                        <td id=\"T_0c5ec7be_2373_11ea_8eec_0242ac1c0002row8_col3\" class=\"data row8 col3\" >-0.110269</td>\n",
       "                        <td id=\"T_0c5ec7be_2373_11ea_8eec_0242ac1c0002row8_col4\" class=\"data row8 col4\" >0.0543474</td>\n",
       "                        <td id=\"T_0c5ec7be_2373_11ea_8eec_0242ac1c0002row8_col5\" class=\"data row8 col5\" >0.102119</td>\n",
       "                        <td id=\"T_0c5ec7be_2373_11ea_8eec_0242ac1c0002row8_col6\" class=\"data row8 col6\" >0.0403975</td>\n",
       "                        <td id=\"T_0c5ec7be_2373_11ea_8eec_0242ac1c0002row8_col7\" class=\"data row8 col7\" >0.0118397</td>\n",
       "                        <td id=\"T_0c5ec7be_2373_11ea_8eec_0242ac1c0002row8_col8\" class=\"data row8 col8\" >1</td>\n",
       "            </tr>\n",
       "    </tbody></table>"
      ],
      "text/plain": [
       "<pandas.io.formats.style.Styler at 0x7fd79991eef0>"
      ]
     },
     "execution_count": 16,
     "metadata": {
      "tags": []
     },
     "output_type": "execute_result"
    }
   ],
   "source": [
    "corr = data_num.corr()\n",
    "corr.style.background_gradient(cmap='coolwarm')"
   ]
  },
  {
   "cell_type": "code",
   "execution_count": 0,
   "metadata": {
    "colab": {},
    "colab_type": "code",
    "id": "xK660uPG9BZc"
   },
   "outputs": [],
   "source": [
    "\n",
    "def select_kbest_clf(data_frame, target, method ,k):\n",
    "    \"\"\"\n",
    "    Selecting K-Best features for classification\n",
    "    :param data_frame: A pandas dataFrame with the training data\n",
    "    :param target: target variable name in DataFrame\n",
    "    :param k: desired number of features from the data\n",
    "    :returns feature_scores: scores for each feature in the data as \n",
    "    pandas DataFrame\n",
    "    \"\"\"\n",
    "    feat_selector = SelectKBest(method, k=k)\n",
    "    _ = feat_selector.fit(data_frame.drop(target, axis=1), data_frame[target])\n",
    "    \n",
    "    feat_scores = pd.DataFrame()\n",
    "    feat_scores[\"F Score\"] = feat_selector.scores_\n",
    "    feat_scores[\"P Value\"] = feat_selector.pvalues_\n",
    "    feat_scores[\"Support\"] = feat_selector.get_support()\n",
    "    feat_scores[\"Attribute\"] = data_frame.drop(target, axis=1).columns\n",
    "    \n",
    "    return feat_scores "
   ]
  },
  {
   "cell_type": "code",
   "execution_count": 18,
   "metadata": {
    "colab": {
     "base_uri": "https://localhost:8080/",
     "height": 297
    },
    "colab_type": "code",
    "id": "OK8Fsui39BZs",
    "outputId": "9a7e5a3f-1eb0-4785-d190-d5760a9989e2"
   },
   "outputs": [
    {
     "data": {
      "text/html": [
       "<div>\n",
       "<style scoped>\n",
       "    .dataframe tbody tr th:only-of-type {\n",
       "        vertical-align: middle;\n",
       "    }\n",
       "\n",
       "    .dataframe tbody tr th {\n",
       "        vertical-align: top;\n",
       "    }\n",
       "\n",
       "    .dataframe thead th {\n",
       "        text-align: right;\n",
       "    }\n",
       "</style>\n",
       "<table border=\"1\" class=\"dataframe\">\n",
       "  <thead>\n",
       "    <tr style=\"text-align: right;\">\n",
       "      <th></th>\n",
       "      <th>F Score</th>\n",
       "      <th>P Value</th>\n",
       "      <th>Support</th>\n",
       "      <th>Attribute</th>\n",
       "    </tr>\n",
       "  </thead>\n",
       "  <tbody>\n",
       "    <tr>\n",
       "      <th>0</th>\n",
       "      <td>4874.111506</td>\n",
       "      <td>0.000000e+00</td>\n",
       "      <td>True</td>\n",
       "      <td>loan_amount</td>\n",
       "    </tr>\n",
       "    <tr>\n",
       "      <th>1</th>\n",
       "      <td>8987.410524</td>\n",
       "      <td>0.000000e+00</td>\n",
       "      <td>True</td>\n",
       "      <td>applicant_income</td>\n",
       "    </tr>\n",
       "    <tr>\n",
       "      <th>2</th>\n",
       "      <td>118.126041</td>\n",
       "      <td>1.642945e-27</td>\n",
       "      <td>False</td>\n",
       "      <td>population</td>\n",
       "    </tr>\n",
       "    <tr>\n",
       "      <th>3</th>\n",
       "      <td>4512.452103</td>\n",
       "      <td>0.000000e+00</td>\n",
       "      <td>True</td>\n",
       "      <td>minority_population_pct</td>\n",
       "    </tr>\n",
       "    <tr>\n",
       "      <th>4</th>\n",
       "      <td>1086.007237</td>\n",
       "      <td>8.117142e-238</td>\n",
       "      <td>False</td>\n",
       "      <td>ffiecmedian_family_income</td>\n",
       "    </tr>\n",
       "    <tr>\n",
       "      <th>5</th>\n",
       "      <td>3863.295529</td>\n",
       "      <td>0.000000e+00</td>\n",
       "      <td>True</td>\n",
       "      <td>tract_to_msa_md_income_pct</td>\n",
       "    </tr>\n",
       "    <tr>\n",
       "      <th>6</th>\n",
       "      <td>599.251482</td>\n",
       "      <td>3.113149e-132</td>\n",
       "      <td>False</td>\n",
       "      <td>number_of_owner_occupied_units</td>\n",
       "    </tr>\n",
       "    <tr>\n",
       "      <th>7</th>\n",
       "      <td>51.396611</td>\n",
       "      <td>7.561002e-13</td>\n",
       "      <td>False</td>\n",
       "      <td>number_of_1_to_4_family_units</td>\n",
       "    </tr>\n",
       "  </tbody>\n",
       "</table>\n",
       "</div>"
      ],
      "text/plain": [
       "       F Score        P Value  Support                       Attribute\n",
       "0  4874.111506   0.000000e+00     True                     loan_amount\n",
       "1  8987.410524   0.000000e+00     True                applicant_income\n",
       "2   118.126041   1.642945e-27    False                      population\n",
       "3  4512.452103   0.000000e+00     True         minority_population_pct\n",
       "4  1086.007237  8.117142e-238    False       ffiecmedian_family_income\n",
       "5  3863.295529   0.000000e+00     True      tract_to_msa_md_income_pct\n",
       "6   599.251482  3.113149e-132    False  number_of_owner_occupied_units\n",
       "7    51.396611   7.561002e-13    False   number_of_1_to_4_family_units"
      ]
     },
     "execution_count": 18,
     "metadata": {
      "tags": []
     },
     "output_type": "execute_result"
    }
   ],
   "source": [
    "\n",
    "select_kbest_clf(data_num, \"accepted\" ,method=f_classif, k=4 )"
   ]
  },
  {
   "cell_type": "code",
   "execution_count": 19,
   "metadata": {
    "colab": {
     "base_uri": "https://localhost:8080/",
     "height": 452
    },
    "colab_type": "code",
    "id": "vC1lsccs9BZw",
    "outputId": "8a76d15d-a3b9-412a-c95f-a72ddea6d744"
   },
   "outputs": [
    {
     "data": {
      "text/html": [
       "<div>\n",
       "<style scoped>\n",
       "    .dataframe tbody tr th:only-of-type {\n",
       "        vertical-align: middle;\n",
       "    }\n",
       "\n",
       "    .dataframe tbody tr th {\n",
       "        vertical-align: top;\n",
       "    }\n",
       "\n",
       "    .dataframe thead th {\n",
       "        text-align: right;\n",
       "    }\n",
       "</style>\n",
       "<table border=\"1\" class=\"dataframe\">\n",
       "  <thead>\n",
       "    <tr style=\"text-align: right;\">\n",
       "      <th></th>\n",
       "      <th>F Score</th>\n",
       "      <th>P Value</th>\n",
       "      <th>Support</th>\n",
       "      <th>Attribute</th>\n",
       "    </tr>\n",
       "  </thead>\n",
       "  <tbody>\n",
       "    <tr>\n",
       "      <th>0</th>\n",
       "      <td>52.912577</td>\n",
       "      <td>3.487295e-13</td>\n",
       "      <td>False</td>\n",
       "      <td>loan_type</td>\n",
       "    </tr>\n",
       "    <tr>\n",
       "      <th>1</th>\n",
       "      <td>90.538595</td>\n",
       "      <td>1.814036e-21</td>\n",
       "      <td>True</td>\n",
       "      <td>property_type</td>\n",
       "    </tr>\n",
       "    <tr>\n",
       "      <th>2</th>\n",
       "      <td>6968.260471</td>\n",
       "      <td>0.000000e+00</td>\n",
       "      <td>True</td>\n",
       "      <td>loan_purpose</td>\n",
       "    </tr>\n",
       "    <tr>\n",
       "      <th>3</th>\n",
       "      <td>14.552915</td>\n",
       "      <td>1.362777e-04</td>\n",
       "      <td>False</td>\n",
       "      <td>occupancy</td>\n",
       "    </tr>\n",
       "    <tr>\n",
       "      <th>4</th>\n",
       "      <td>468.998048</td>\n",
       "      <td>5.294211e-104</td>\n",
       "      <td>True</td>\n",
       "      <td>preapproval</td>\n",
       "    </tr>\n",
       "    <tr>\n",
       "      <th>5</th>\n",
       "      <td>358.031546</td>\n",
       "      <td>7.554614e-80</td>\n",
       "      <td>True</td>\n",
       "      <td>msa_md</td>\n",
       "    </tr>\n",
       "    <tr>\n",
       "      <th>6</th>\n",
       "      <td>3902.355519</td>\n",
       "      <td>0.000000e+00</td>\n",
       "      <td>True</td>\n",
       "      <td>state_code</td>\n",
       "    </tr>\n",
       "    <tr>\n",
       "      <th>7</th>\n",
       "      <td>425.486756</td>\n",
       "      <td>1.560296e-94</td>\n",
       "      <td>True</td>\n",
       "      <td>county_code</td>\n",
       "    </tr>\n",
       "    <tr>\n",
       "      <th>8</th>\n",
       "      <td>3.181273</td>\n",
       "      <td>7.448668e-02</td>\n",
       "      <td>False</td>\n",
       "      <td>applicant_ethnicity</td>\n",
       "    </tr>\n",
       "    <tr>\n",
       "      <th>9</th>\n",
       "      <td>99.235596</td>\n",
       "      <td>2.241812e-23</td>\n",
       "      <td>True</td>\n",
       "      <td>applicant_race</td>\n",
       "    </tr>\n",
       "    <tr>\n",
       "      <th>10</th>\n",
       "      <td>422.677498</td>\n",
       "      <td>6.377662e-94</td>\n",
       "      <td>True</td>\n",
       "      <td>applicant_sex</td>\n",
       "    </tr>\n",
       "    <tr>\n",
       "      <th>11</th>\n",
       "      <td>4081.355947</td>\n",
       "      <td>0.000000e+00</td>\n",
       "      <td>True</td>\n",
       "      <td>lender</td>\n",
       "    </tr>\n",
       "    <tr>\n",
       "      <th>12</th>\n",
       "      <td>2366.198117</td>\n",
       "      <td>0.000000e+00</td>\n",
       "      <td>True</td>\n",
       "      <td>co_applicant</td>\n",
       "    </tr>\n",
       "  </tbody>\n",
       "</table>\n",
       "</div>"
      ],
      "text/plain": [
       "        F Score        P Value  Support            Attribute\n",
       "0     52.912577   3.487295e-13    False            loan_type\n",
       "1     90.538595   1.814036e-21     True        property_type\n",
       "2   6968.260471   0.000000e+00     True         loan_purpose\n",
       "3     14.552915   1.362777e-04    False            occupancy\n",
       "4    468.998048  5.294211e-104     True          preapproval\n",
       "5    358.031546   7.554614e-80     True               msa_md\n",
       "6   3902.355519   0.000000e+00     True           state_code\n",
       "7    425.486756   1.560296e-94     True          county_code\n",
       "8      3.181273   7.448668e-02    False  applicant_ethnicity\n",
       "9     99.235596   2.241812e-23     True       applicant_race\n",
       "10   422.677498   6.377662e-94     True        applicant_sex\n",
       "11  4081.355947   0.000000e+00     True               lender\n",
       "12  2366.198117   0.000000e+00     True         co_applicant"
      ]
     },
     "execution_count": 19,
     "metadata": {
      "tags": []
     },
     "output_type": "execute_result"
    }
   ],
   "source": [
    "select_kbest_clf(data_cat, \"accepted\" ,method=chi2, k=10)"
   ]
  },
  {
   "cell_type": "code",
   "execution_count": 20,
   "metadata": {
    "colab": {
     "base_uri": "https://localhost:8080/",
     "height": 452
    },
    "colab_type": "code",
    "id": "_kkJsmEm9BZ1",
    "outputId": "2b633e58-41b0-4297-aa7e-a80ed4478680"
   },
   "outputs": [
    {
     "data": {
      "text/html": [
       "<div>\n",
       "<style scoped>\n",
       "    .dataframe tbody tr th:only-of-type {\n",
       "        vertical-align: middle;\n",
       "    }\n",
       "\n",
       "    .dataframe tbody tr th {\n",
       "        vertical-align: top;\n",
       "    }\n",
       "\n",
       "    .dataframe thead th {\n",
       "        text-align: right;\n",
       "    }\n",
       "</style>\n",
       "<table border=\"1\" class=\"dataframe\">\n",
       "  <thead>\n",
       "    <tr style=\"text-align: right;\">\n",
       "      <th></th>\n",
       "      <th>F Score</th>\n",
       "      <th>P Value</th>\n",
       "      <th>Support</th>\n",
       "      <th>Attribute</th>\n",
       "    </tr>\n",
       "  </thead>\n",
       "  <tbody>\n",
       "    <tr>\n",
       "      <th>0</th>\n",
       "      <td>0.022378</td>\n",
       "      <td>None</td>\n",
       "      <td>False</td>\n",
       "      <td>loan_type</td>\n",
       "    </tr>\n",
       "    <tr>\n",
       "      <th>1</th>\n",
       "      <td>0.047907</td>\n",
       "      <td>None</td>\n",
       "      <td>True</td>\n",
       "      <td>property_type</td>\n",
       "    </tr>\n",
       "    <tr>\n",
       "      <th>2</th>\n",
       "      <td>0.049744</td>\n",
       "      <td>None</td>\n",
       "      <td>True</td>\n",
       "      <td>loan_purpose</td>\n",
       "    </tr>\n",
       "    <tr>\n",
       "      <th>3</th>\n",
       "      <td>0.035401</td>\n",
       "      <td>None</td>\n",
       "      <td>True</td>\n",
       "      <td>occupancy</td>\n",
       "    </tr>\n",
       "    <tr>\n",
       "      <th>4</th>\n",
       "      <td>0.038346</td>\n",
       "      <td>None</td>\n",
       "      <td>True</td>\n",
       "      <td>preapproval</td>\n",
       "    </tr>\n",
       "    <tr>\n",
       "      <th>5</th>\n",
       "      <td>0.007073</td>\n",
       "      <td>None</td>\n",
       "      <td>False</td>\n",
       "      <td>msa_md</td>\n",
       "    </tr>\n",
       "    <tr>\n",
       "      <th>6</th>\n",
       "      <td>0.008276</td>\n",
       "      <td>None</td>\n",
       "      <td>False</td>\n",
       "      <td>state_code</td>\n",
       "    </tr>\n",
       "    <tr>\n",
       "      <th>7</th>\n",
       "      <td>0.002089</td>\n",
       "      <td>None</td>\n",
       "      <td>False</td>\n",
       "      <td>county_code</td>\n",
       "    </tr>\n",
       "    <tr>\n",
       "      <th>8</th>\n",
       "      <td>0.031821</td>\n",
       "      <td>None</td>\n",
       "      <td>True</td>\n",
       "      <td>applicant_ethnicity</td>\n",
       "    </tr>\n",
       "    <tr>\n",
       "      <th>9</th>\n",
       "      <td>0.035991</td>\n",
       "      <td>None</td>\n",
       "      <td>True</td>\n",
       "      <td>applicant_race</td>\n",
       "    </tr>\n",
       "    <tr>\n",
       "      <th>10</th>\n",
       "      <td>0.019303</td>\n",
       "      <td>None</td>\n",
       "      <td>False</td>\n",
       "      <td>applicant_sex</td>\n",
       "    </tr>\n",
       "    <tr>\n",
       "      <th>11</th>\n",
       "      <td>0.101223</td>\n",
       "      <td>None</td>\n",
       "      <td>True</td>\n",
       "      <td>lender</td>\n",
       "    </tr>\n",
       "    <tr>\n",
       "      <th>12</th>\n",
       "      <td>0.013110</td>\n",
       "      <td>None</td>\n",
       "      <td>False</td>\n",
       "      <td>co_applicant</td>\n",
       "    </tr>\n",
       "  </tbody>\n",
       "</table>\n",
       "</div>"
      ],
      "text/plain": [
       "     F Score P Value  Support            Attribute\n",
       "0   0.022378    None    False            loan_type\n",
       "1   0.047907    None     True        property_type\n",
       "2   0.049744    None     True         loan_purpose\n",
       "3   0.035401    None     True            occupancy\n",
       "4   0.038346    None     True          preapproval\n",
       "5   0.007073    None    False               msa_md\n",
       "6   0.008276    None    False           state_code\n",
       "7   0.002089    None    False          county_code\n",
       "8   0.031821    None     True  applicant_ethnicity\n",
       "9   0.035991    None     True       applicant_race\n",
       "10  0.019303    None    False        applicant_sex\n",
       "11  0.101223    None     True               lender\n",
       "12  0.013110    None    False         co_applicant"
      ]
     },
     "execution_count": 20,
     "metadata": {
      "tags": []
     },
     "output_type": "execute_result"
    }
   ],
   "source": [
    "select_kbest_clf(data_cat, \"accepted\" ,method=mutual_info_classif, k=7)"
   ]
  },
  {
   "cell_type": "markdown",
   "metadata": {
    "colab_type": "text",
    "id": "tJiKVjv69BaF"
   },
   "source": [
    "Grid search"
   ]
  },
  {
   "cell_type": "code",
   "execution_count": 0,
   "metadata": {
    "colab": {},
    "colab_type": "code",
    "id": "ErYjywjB9BaG"
   },
   "outputs": [],
   "source": [
    "from sklearn.model_selection import GridSearchCV, RandomizedSearchCV\n",
    "from sklearn.ensemble import RandomForestClassifier"
   ]
  },
  {
   "cell_type": "code",
   "execution_count": 0,
   "metadata": {
    "colab": {},
    "colab_type": "code",
    "id": "uMPc0uM69BaK"
   },
   "outputs": [],
   "source": [
    "#RandomForestClassifier?"
   ]
  },
  {
   "cell_type": "code",
   "execution_count": 0,
   "metadata": {
    "colab": {},
    "colab_type": "code",
    "id": "yiUZSlhE9Baa"
   },
   "outputs": [],
   "source": [
    "rfc=RandomForestClassifier(random_state=42)"
   ]
  },
  {
   "cell_type": "code",
   "execution_count": 0,
   "metadata": {
    "colab": {},
    "colab_type": "code",
    "id": "TB1j0gAf9Bag"
   },
   "outputs": [],
   "source": [
    "gsc = RandomizedSearchCV(\n",
    "        estimator=rfc,\n",
    "        param_distributions={\n",
    "            'n_estimators': [100,200,300],\n",
    "            'max_features': [\"auto\",\"sqrt\",\"log2\"],\n",
    "            'max_depth': [4,5,6,7,8],\n",
    "            'criterion':[\"gini\",\"entropy\"]\n",
    "        },\n",
    "        cv=5, scoring='neg_mean_squared_error', verbose=0,n_iter=5)"
   ]
  },
  {
   "cell_type": "code",
   "execution_count": 0,
   "metadata": {
    "colab": {},
    "colab_type": "code",
    "id": "u2g_CtK39Bak"
   },
   "outputs": [],
   "source": [
    "feature_col =['loan_type','property_type','loan_purpose','occupancy', 'preapproval',\n",
    "              'applicant_race','loan_amount','applicant_income',\n",
    "              'minority_population_pct','tract_to_msa_md_income_pct']\n",
    "X = data[feature_col] #Features\n",
    "y = data['accepted'] #target"
   ]
  },
  {
   "cell_type": "code",
   "execution_count": 0,
   "metadata": {
    "colab": {},
    "colab_type": "code",
    "id": "vPZujWf39Ba2"
   },
   "outputs": [],
   "source": [
    "# Split dataset into training set and test set\n",
    "X_train, X_test, y_train, y_test = train_test_split(X, y, test_size=0.3, random_state=1) # 70% training and 30% test"
   ]
  },
  {
   "cell_type": "code",
   "execution_count": 0,
   "metadata": {
    "colab": {},
    "colab_type": "code",
    "id": "kchRh5K59Ba5"
   },
   "outputs": [],
   "source": [
    "grid_result = gsc.fit(X_train, y_train)"
   ]
  },
  {
   "cell_type": "code",
   "execution_count": 0,
   "metadata": {
    "colab": {},
    "colab_type": "code",
    "id": "p5WUeN5t9Ba9"
   },
   "outputs": [],
   "source": [
    "best_params = grid_result.best_params_"
   ]
  },
  {
   "cell_type": "code",
   "execution_count": 38,
   "metadata": {
    "colab": {
     "base_uri": "https://localhost:8080/",
     "height": 89
    },
    "colab_type": "code",
    "id": "rdKsx-0J9BbM",
    "outputId": "cbab28ba-e4f6-4444-b299-4f12b4ddb009"
   },
   "outputs": [
    {
     "data": {
      "text/plain": [
       "{'criterion': 'gini',\n",
       " 'max_depth': 7,\n",
       " 'max_features': 'auto',\n",
       " 'n_estimators': 300}"
      ]
     },
     "execution_count": 38,
     "metadata": {
      "tags": []
     },
     "output_type": "execute_result"
    }
   ],
   "source": [
    "best_params"
   ]
  },
  {
   "cell_type": "code",
   "execution_count": 41,
   "metadata": {
    "colab": {
     "base_uri": "https://localhost:8080/",
     "height": 35
    },
    "colab_type": "code",
    "id": "IWgxb1kF9BbS",
    "outputId": "dcbb58a9-b57a-4dbc-fe6c-43630ab91e81"
   },
   "outputs": [
    {
     "name": "stdout",
     "output_type": "stream",
     "text": [
      "Accuracy 0.657150450949989\n"
     ]
    }
   ],
   "source": [
    "# Create Random Forest classifer object\n",
    "clf = RandomForestClassifier(n_estimators=300, max_depth=7, max_features='auto', criterion='gini')\n",
    "#10-fold cross validation\n",
    "scores = cross_val_score(clf, X, y, cv=10, scoring='accuracy')\n",
    "print(\"Accuracy\",scores.mean())"
   ]
  },
  {
   "cell_type": "markdown",
   "metadata": {
    "colab_type": "text",
    "id": "bXXJjmygI6IJ"
   },
   "source": [
    "ANN\n"
   ]
  },
  {
   "cell_type": "code",
   "execution_count": 0,
   "metadata": {
    "colab": {},
    "colab_type": "code",
    "id": "YDYeVZ439Bbm"
   },
   "outputs": [],
   "source": [
    "# define the model\n",
    "def baseline():\n",
    "    model = Sequential()\n",
    "    model.add(Dense(25, input_dim=10, activation='relu'))\n",
    "    model.add(Dense(15, activation='relu'))\n",
    "    model.add(Dense(15, activation='relu'))\n",
    "    model.add(Dense(15, activation='relu'))\n",
    "    model.add(Dense(15, activation='relu'))\n",
    "    model.add(Dense(15, activation='relu'))\n",
    "    model.add(Dense(15, activation='relu'))\n",
    "    model.add(Dense(15, activation='relu'))\n",
    "    model.add(Dense(15, activation='relu'))\n",
    "    model.add(Dense(15, activation='relu'))\n",
    "    model.add(Dense(15, activation='relu'))\n",
    "    model.add(Dense(15, activation='relu'))\n",
    "    model.add(Dense(15, activation='relu'))\n",
    "    model.add(Dense(15, activation='relu'))\n",
    "    model.add(Dense(2, activation='softmax'))\n",
    "    # Compile model\n",
    "    model.compile(loss='categorical_crossentropy', optimizer='adam', metrics=['accuracy'])\n",
    "    \n",
    "    return model"
   ]
  },
  {
   "cell_type": "code",
   "execution_count": 0,
   "metadata": {
    "colab": {},
    "colab_type": "code",
    "id": "ZjEV5ORf9Bbp"
   },
   "outputs": [],
   "source": [
    "model = baseline()"
   ]
  },
  {
   "cell_type": "code",
   "execution_count": 146,
   "metadata": {
    "colab": {
     "base_uri": "https://localhost:8080/",
     "height": 1000
    },
    "colab_type": "code",
    "id": "2Eg4YAgeKaYv",
    "outputId": "ca4a1c42-7026-429c-ac98-f4bd6908580a"
   },
   "outputs": [
    {
     "name": "stdout",
     "output_type": "stream",
     "text": [
      "Epoch 1/10\n",
      "256620/256620 [==============================] - 57s 221us/step - loss: 0.6512 - acc: 0.6212\n",
      "Epoch 2/10\n",
      "256620/256620 [==============================] - 54s 211us/step - loss: 0.6346 - acc: 0.6418\n",
      "Epoch 3/10\n",
      "256620/256620 [==============================] - 53s 208us/step - loss: 0.6325 - acc: 0.6438\n",
      "Epoch 4/10\n",
      "256620/256620 [==============================] - 53s 208us/step - loss: 0.6310 - acc: 0.6443\n",
      "Epoch 5/10\n",
      "256620/256620 [==============================] - 54s 210us/step - loss: 0.6296 - acc: 0.6461\n",
      "Epoch 6/10\n",
      "256620/256620 [==============================] - 53s 205us/step - loss: 0.6288 - acc: 0.6463\n",
      "Epoch 7/10\n",
      "256620/256620 [==============================] - 53s 206us/step - loss: 0.6278 - acc: 0.6474\n",
      "Epoch 8/10\n",
      "256620/256620 [==============================] - 52s 203us/step - loss: 0.6273 - acc: 0.6479\n",
      "Epoch 9/10\n",
      "256620/256620 [==============================] - 52s 204us/step - loss: 0.6266 - acc: 0.6487\n",
      "Epoch 10/10\n",
      "256620/256620 [==============================] - 52s 204us/step - loss: 0.6259 - acc: 0.6502\n",
      "Model: \"sequential_13\"\n",
      "_________________________________________________________________\n",
      "Layer (type)                 Output Shape              Param #   \n",
      "=================================================================\n",
      "dense_120 (Dense)            (None, 25)                275       \n",
      "_________________________________________________________________\n",
      "dense_121 (Dense)            (None, 15)                390       \n",
      "_________________________________________________________________\n",
      "dense_122 (Dense)            (None, 15)                240       \n",
      "_________________________________________________________________\n",
      "dense_123 (Dense)            (None, 15)                240       \n",
      "_________________________________________________________________\n",
      "dense_124 (Dense)            (None, 15)                240       \n",
      "_________________________________________________________________\n",
      "dense_125 (Dense)            (None, 15)                240       \n",
      "_________________________________________________________________\n",
      "dense_126 (Dense)            (None, 15)                240       \n",
      "_________________________________________________________________\n",
      "dense_127 (Dense)            (None, 15)                240       \n",
      "_________________________________________________________________\n",
      "dense_128 (Dense)            (None, 15)                240       \n",
      "_________________________________________________________________\n",
      "dense_129 (Dense)            (None, 15)                240       \n",
      "_________________________________________________________________\n",
      "dense_130 (Dense)            (None, 15)                240       \n",
      "_________________________________________________________________\n",
      "dense_131 (Dense)            (None, 15)                240       \n",
      "_________________________________________________________________\n",
      "dense_132 (Dense)            (None, 15)                240       \n",
      "_________________________________________________________________\n",
      "dense_133 (Dense)            (None, 15)                240       \n",
      "_________________________________________________________________\n",
      "dense_134 (Dense)            (None, 2)                 32        \n",
      "=================================================================\n",
      "Total params: 3,577\n",
      "Trainable params: 3,577\n",
      "Non-trainable params: 0\n",
      "_________________________________________________________________\n"
     ]
    }
   ],
   "source": [
    "X_train = np.array(X_train)\n",
    "y_train = to_categorical(np.array(y_train))\n",
    "history = model.fit(X_train, y_train,epochs = 10)\n",
    "model.summary()"
   ]
  },
  {
   "cell_type": "code",
   "execution_count": 0,
   "metadata": {
    "colab": {},
    "colab_type": "code",
    "id": "qvo6zyLpfgbP"
   },
   "outputs": [],
   "source": [
    "prediction = model.predict(X_test)\n",
    "prediction_classes = model.predict_classes(X_test)"
   ]
  },
  {
   "cell_type": "code",
   "execution_count": 148,
   "metadata": {
    "colab": {
     "base_uri": "https://localhost:8080/",
     "height": 53
    },
    "colab_type": "code",
    "id": "9ZZhtddbKf7h",
    "outputId": "1b11e8c6-aaf3-4bd0-a8e6-6f1cb61d5ace"
   },
   "outputs": [
    {
     "data": {
      "text/plain": [
       "array([[33803, 18488],\n",
       "       [19814, 37876]])"
      ]
     },
     "execution_count": 148,
     "metadata": {
      "tags": []
     },
     "output_type": "execute_result"
    }
   ],
   "source": [
    "confusion_matrix(np.array(y_test), prediction_classes)"
   ]
  },
  {
   "cell_type": "code",
   "execution_count": 149,
   "metadata": {
    "colab": {
     "base_uri": "https://localhost:8080/",
     "height": 35
    },
    "colab_type": "code",
    "id": "Fdl0Xd8nKilY",
    "outputId": "b5e30f54-9ec1-432b-e88c-1b877d17eaea"
   },
   "outputs": [
    {
     "data": {
      "text/plain": [
       "0.6517398459733954"
      ]
     },
     "execution_count": 149,
     "metadata": {
      "tags": []
     },
     "output_type": "execute_result"
    }
   ],
   "source": [
    "accuracy_score(np.array(y_test), prediction_classes)"
   ]
  },
  {
   "cell_type": "code",
   "execution_count": 0,
   "metadata": {
    "colab": {},
    "colab_type": "code",
    "id": "fQIUDaX-9Bb7"
   },
   "outputs": [],
   "source": [
    "def plot_hist(h, xsize=6, ysize=10):\n",
    "\n",
    "    fig_size = plt.rcParams[\"figure.figsize\"]\n",
    "    plt.rcParams[\"figure.figsize\"] = [xsize, ysize]\n",
    "    fig, axes = plt.subplots(nrows=1, ncols=1, sharex=True)\n",
    "    \n",
    "    # summarize history for Accuracy\n",
    "    plt.subplot(211)\n",
    "    plt.plot(h['acc'])\n",
    "    plt.plot(h['loss'])\n",
    "    plt.title('Training Performance')\n",
    "    plt.ylabel('Accuracy')\n",
    "    plt.xlabel('Epochs')\n",
    "    plt.legend(['Accuracy', 'Loss'], loc='best')    \n",
    "    plt.draw()\n",
    "    plt.show()\n",
    "\n",
    "    return"
   ]
  },
  {
   "cell_type": "code",
   "execution_count": 153,
   "metadata": {
    "colab": {
     "base_uri": "https://localhost:8080/",
     "height": 374
    },
    "colab_type": "code",
    "id": "AeK6xfV09BcN",
    "outputId": "1ec95322-2b43-44de-833d-1c477c3da206"
   },
   "outputs": [
    {
     "data": {
      "image/png": "[encoded data removed]",
      "text/plain": [
       "<Figure size 576x864 with 1 Axes>"
      ]
     },
     "metadata": {
      "tags": []
     },
     "output_type": "display_data"
    }
   ],
   "source": [
    "plot_hist(history.history, xsize=8, ysize=12)"
   ]
  },
  {
   "cell_type": "code",
   "execution_count": 154,
   "metadata": {
    "colab": {
     "base_uri": "https://localhost:8080/",
     "height": 730
    },
    "colab_type": "code",
    "id": "0JXL6LBh9BcR",
    "outputId": "accbef9f-1f9d-4786-8f82-1fae69365837"
   },
   "outputs": [
    {
     "data": {
      "image/png": "[encoded data removed]",
      "text/plain": [
       "<Figure size 576x864 with 1 Axes>"
      ]
     },
     "metadata": {
      "tags": []
     },
     "output_type": "display_data"
    }
   ],
   "source": [
    "fpr, tpr, threshold = sklearn.metrics.roc_curve(y_test, prediction_classes)\n",
    "roc_auc = sklearn.metrics.auc(fpr, tpr)\n",
    "\n",
    "# method I: plt\n",
    "plt.title('Receiver Operating Characteristic (ROC)')\n",
    "plt.plot(fpr, tpr, 'b', label = 'AUC = %0.2f' % roc_auc)\n",
    "plt.legend(loc = 'lower right')\n",
    "plt.plot([0, 1], [0, 1],'r--')\n",
    "plt.xlim([0, 1])\n",
    "plt.ylim([0, 1])\n",
    "plt.ylabel('True Positive Rate')\n",
    "plt.xlabel('False Positive Rate')\n",
    "plt.show()\n"
   ]
  },
  {
   "cell_type": "code",
   "execution_count": 0,
   "metadata": {
    "colab": {},
    "colab_type": "code",
    "id": "4mC9r8kp9Okd"
   },
   "outputs": [],
   "source": []
  }
 ],
 "metadata": {
  "accelerator": "GPU",
  "colab": {
   "name": "Loans.ipynb",
   "provenance": []
  },
  "kernelspec": {
   "display_name": "Python 3",
   "language": "python",
   "name": "python3"
  },
  "language_info": {
   "codemirror_mode": {
    "name": "ipython",
    "version": 3
   },
   "file_extension": ".py",
   "mimetype": "text/x-python",
   "name": "python",
   "nbconvert_exporter": "python",
   "pygments_lexer": "ipython3",
   "version": "3.7.4"
  }
 },
 "nbformat": 4,
 "nbformat_minor": 1
}
