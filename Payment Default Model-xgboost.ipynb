{
 "cells": [
  {
   "cell_type": "code",
   "execution_count": 34,
   "metadata": {},
   "outputs": [],
   "source": [
    "import numpy as np\n",
    "import pandas as pd\n",
    "from xgboost import XGBClassifier\n",
    "from sklearn.model_selection import train_test_split\n",
    "from sklearn.model_selection import GridSearchCV, KFold\n",
    "from sklearn import metrics\n",
    "from imblearn.over_sampling import SMOTE "
   ]
  },
  {
   "cell_type": "code",
   "execution_count": 35,
   "metadata": {},
   "outputs": [],
   "source": [
    "train = pd.read_csv(\"C:/Users/user/Documents/likely to default training data/training_data_29_02_2024.csv\")"
   ]
  },
  {
   "cell_type": "code",
   "execution_count": 36,
   "metadata": {},
   "outputs": [],
   "source": [
    "train = train.dropna()"
   ]
  },
  {
   "cell_type": "code",
   "execution_count": 37,
   "metadata": {},
   "outputs": [
    {
     "data": {
      "text/html": [
       "<div>\n",
       "<style scoped>\n",
       "    .dataframe tbody tr th:only-of-type {\n",
       "        vertical-align: middle;\n",
       "    }\n",
       "\n",
       "    .dataframe tbody tr th {\n",
       "        vertical-align: top;\n",
       "    }\n",
       "\n",
       "    .dataframe thead th {\n",
       "        text-align: right;\n",
       "    }\n",
       "</style>\n",
       "<table border=\"1\" class=\"dataframe\">\n",
       "  <thead>\n",
       "    <tr style=\"text-align: right;\">\n",
       "      <th></th>\n",
       "      <th>accountId</th>\n",
       "      <th>end_of_month</th>\n",
       "      <th>paymentSequence</th>\n",
       "      <th>repaid</th>\n",
       "      <th>in_default_30</th>\n",
       "      <th>in_default_60</th>\n",
       "    </tr>\n",
       "  </thead>\n",
       "  <tbody>\n",
       "    <tr>\n",
       "      <th>0</th>\n",
       "      <td>2</td>\n",
       "      <td>8/31/2021 12:00:00 AM</td>\n",
       "      <td>1</td>\n",
       "      <td>1.0</td>\n",
       "      <td>0</td>\n",
       "      <td>0</td>\n",
       "    </tr>\n",
       "    <tr>\n",
       "      <th>1</th>\n",
       "      <td>2</td>\n",
       "      <td>9/30/2021 12:00:00 AM</td>\n",
       "      <td>2</td>\n",
       "      <td>1.0</td>\n",
       "      <td>0</td>\n",
       "      <td>0</td>\n",
       "    </tr>\n",
       "    <tr>\n",
       "      <th>2</th>\n",
       "      <td>2</td>\n",
       "      <td>10/31/2021 12:00:00 AM</td>\n",
       "      <td>3</td>\n",
       "      <td>1.0</td>\n",
       "      <td>0</td>\n",
       "      <td>0</td>\n",
       "    </tr>\n",
       "    <tr>\n",
       "      <th>3</th>\n",
       "      <td>2</td>\n",
       "      <td>11/30/2021 12:00:00 AM</td>\n",
       "      <td>4</td>\n",
       "      <td>0.8</td>\n",
       "      <td>0</td>\n",
       "      <td>0</td>\n",
       "    </tr>\n",
       "    <tr>\n",
       "      <th>4</th>\n",
       "      <td>2</td>\n",
       "      <td>12/31/2021 12:00:00 AM</td>\n",
       "      <td>5</td>\n",
       "      <td>0.8</td>\n",
       "      <td>0</td>\n",
       "      <td>0</td>\n",
       "    </tr>\n",
       "  </tbody>\n",
       "</table>\n",
       "</div>"
      ],
      "text/plain": [
       "   accountId            end_of_month  paymentSequence  repaid  in_default_30  \\\n",
       "0          2   8/31/2021 12:00:00 AM                1     1.0              0   \n",
       "1          2   9/30/2021 12:00:00 AM                2     1.0              0   \n",
       "2          2  10/31/2021 12:00:00 AM                3     1.0              0   \n",
       "3          2  11/30/2021 12:00:00 AM                4     0.8              0   \n",
       "4          2  12/31/2021 12:00:00 AM                5     0.8              0   \n",
       "\n",
       "   in_default_60  \n",
       "0              0  \n",
       "1              0  \n",
       "2              0  \n",
       "3              0  \n",
       "4              0  "
      ]
     },
     "execution_count": 37,
     "metadata": {},
     "output_type": "execute_result"
    }
   ],
   "source": [
    "train.head()"
   ]
  },
  {
   "cell_type": "code",
   "execution_count": 38,
   "metadata": {},
   "outputs": [
    {
     "data": {
      "text/plain": [
       "in_default_30\n",
       "0    290374\n",
       "1    116270\n",
       "Name: count, dtype: int64"
      ]
     },
     "execution_count": 38,
     "metadata": {},
     "output_type": "execute_result"
    }
   ],
   "source": [
    "train.in_default_30.value_counts()"
   ]
  },
  {
   "cell_type": "code",
   "execution_count": 39,
   "metadata": {},
   "outputs": [
    {
     "data": {
      "text/plain": [
       "0         1.0\n",
       "1         1.0\n",
       "2         1.0\n",
       "3         0.8\n",
       "4         0.8\n",
       "         ... \n",
       "406639    1.0\n",
       "406640    1.0\n",
       "406641    1.0\n",
       "406642    1.0\n",
       "406643    1.0\n",
       "Name: repaid, Length: 406644, dtype: category\n",
       "Categories (24, float64): [0.0, 0.1, 0.2, 0.3, ..., 2.0, 2.2, 3.0, 4.0]"
      ]
     },
     "execution_count": 39,
     "metadata": {},
     "output_type": "execute_result"
    }
   ],
   "source": [
    "train[\"repaid\"].astype(\"category\")"
   ]
  },
  {
   "cell_type": "code",
   "execution_count": 40,
   "metadata": {},
   "outputs": [
    {
     "name": "stdout",
     "output_type": "stream",
     "text": [
      "        repaid\n",
      "0          1.0\n",
      "1          1.0\n",
      "2          1.0\n",
      "3          0.8\n",
      "4          0.8\n",
      "...        ...\n",
      "406639     1.0\n",
      "406640     1.0\n",
      "406641     1.0\n",
      "406642     1.0\n",
      "406643     1.0\n",
      "\n",
      "[406644 rows x 1 columns]\n"
     ]
    }
   ],
   "source": [
    "X = train.iloc[:,[3]]\n",
    "print(X)"
   ]
  },
  {
   "cell_type": "code",
   "execution_count": 41,
   "metadata": {},
   "outputs": [
    {
     "name": "stdout",
     "output_type": "stream",
     "text": [
      "        in_default_30\n",
      "0                   0\n",
      "1                   0\n",
      "2                   0\n",
      "3                   0\n",
      "4                   0\n",
      "...               ...\n",
      "406639              0\n",
      "406640              0\n",
      "406641              0\n",
      "406642              0\n",
      "406643              0\n",
      "\n",
      "[406644 rows x 1 columns]\n"
     ]
    }
   ],
   "source": [
    "y = train.iloc[:,[4]]\n",
    "print(y)"
   ]
  },
  {
   "cell_type": "code",
   "execution_count": 42,
   "metadata": {},
   "outputs": [],
   "source": [
    "os = SMOTE(random_state = 0)\n",
    "X_train, X_test, y_train, y_test = train_test_split(X,y,test_size = 0.25, random_state = 100)\n",
    "columns = X_train.columns"
   ]
  },
  {
   "cell_type": "code",
   "execution_count": 43,
   "metadata": {},
   "outputs": [],
   "source": [
    "smote_data_X, smote_data_y = os.fit_resample(X_train,y_train)"
   ]
  },
  {
   "cell_type": "code",
   "execution_count": 44,
   "metadata": {},
   "outputs": [],
   "source": [
    "smote_data_X = pd.DataFrame(data=smote_data_X, columns=columns)"
   ]
  },
  {
   "cell_type": "code",
   "execution_count": 45,
   "metadata": {},
   "outputs": [],
   "source": [
    "smote_data_y = pd.DataFrame(data=smote_data_y, columns=[\"in_default_30\"])"
   ]
  },
  {
   "cell_type": "code",
   "execution_count": 46,
   "metadata": {},
   "outputs": [],
   "source": [
    "#params = {\n",
    "#    'n_estimators': [100, 200, 500],\n",
    "#    'learning_rate': [0.01,0.05,0.1],\n",
    "#    'booster': ['gbtree', 'gblinear'],\n",
    "#    'gamma': [0, 0.5, 1],\n",
    "#    'reg_alpha': [0, 0.5, 1],\n",
    "#    'reg_lambda': [0.5, 1, 5],\n",
    "#    'base_score': [0.2, 0.5, 1]\n",
    "#}"
   ]
  },
  {
   "cell_type": "code",
   "execution_count": 47,
   "metadata": {},
   "outputs": [],
   "source": [
    "Xgb = XGBClassifier()\n",
    "#Gs =  GridSearchCV(Xgb, params, n_jobs=-1, cv=KFold(n_splits=3), scoring='precision')"
   ]
  },
  {
   "cell_type": "code",
   "execution_count": 48,
   "metadata": {},
   "outputs": [],
   "source": [
    "model = Xgb.fit(smote_data_X, smote_data_y.values.ravel())"
   ]
  },
  {
   "cell_type": "code",
   "execution_count": 49,
   "metadata": {},
   "outputs": [],
   "source": [
    "#print('Best score:', model.best_score_)\n",
    "#print('Best score:', model.best_params_)"
   ]
  },
  {
   "cell_type": "code",
   "execution_count": 50,
   "metadata": {},
   "outputs": [],
   "source": [
    "y_predicted = model.predict(X_test)"
   ]
  },
  {
   "cell_type": "code",
   "execution_count": 52,
   "metadata": {},
   "outputs": [
    {
     "name": "stdout",
     "output_type": "stream",
     "text": [
      "[[64156  8436]\n",
      " [    8 29061]]\n",
      "              precision    recall  f1-score   support\n",
      "\n",
      "           0       1.00      0.88      0.94     72592\n",
      "           1       0.78      1.00      0.87     29069\n",
      "\n",
      "    accuracy                           0.92    101661\n",
      "   macro avg       0.89      0.94      0.91    101661\n",
      "weighted avg       0.94      0.92      0.92    101661\n",
      "\n",
      "0.941756819995212\n"
     ]
    }
   ],
   "source": [
    "print(confusion_matrix(y_test,y_predicted))\n",
    "print(classification_report(y_test,y_predicted))\n",
    "print(roc_auc_score(y_test,y_predicted))"
   ]
  },
  {
   "cell_type": "code",
   "execution_count": 60,
   "metadata": {},
   "outputs": [],
   "source": [
    "test = pd.ExcelFile(\"C:/Users/user/Downloads/probability of default (1).xlsx\").parse(\"probability of default\")"
   ]
  },
  {
   "cell_type": "code",
   "execution_count": 61,
   "metadata": {},
   "outputs": [],
   "source": [
    "test = test.dropna()"
   ]
  },
  {
   "cell_type": "code",
   "execution_count": 62,
   "metadata": {},
   "outputs": [
    {
     "data": {
      "text/html": [
       "<div>\n",
       "<style scoped>\n",
       "    .dataframe tbody tr th:only-of-type {\n",
       "        vertical-align: middle;\n",
       "    }\n",
       "\n",
       "    .dataframe tbody tr th {\n",
       "        vertical-align: top;\n",
       "    }\n",
       "\n",
       "    .dataframe thead th {\n",
       "        text-align: right;\n",
       "    }\n",
       "</style>\n",
       "<table border=\"1\" class=\"dataframe\">\n",
       "  <thead>\n",
       "    <tr style=\"text-align: right;\">\n",
       "      <th></th>\n",
       "      <th>accountId</th>\n",
       "      <th>account_ref</th>\n",
       "      <th>customer_names</th>\n",
       "      <th>phone_number</th>\n",
       "      <th>product</th>\n",
       "      <th>status</th>\n",
       "      <th>end_of_month</th>\n",
       "      <th>paymentSequence</th>\n",
       "      <th>repaid</th>\n",
       "    </tr>\n",
       "  </thead>\n",
       "  <tbody>\n",
       "    <tr>\n",
       "      <th>0</th>\n",
       "      <td>6</td>\n",
       "      <td>29863318</td>\n",
       "      <td>John Oluoch Oguto</td>\n",
       "      <td>254717459831</td>\n",
       "      <td>RainMaker 2 + TV</td>\n",
       "      <td>Current</td>\n",
       "      <td>2024-03-31</td>\n",
       "      <td>32</td>\n",
       "      <td>0.968967</td>\n",
       "    </tr>\n",
       "    <tr>\n",
       "      <th>1</th>\n",
       "      <td>61</td>\n",
       "      <td>21983558</td>\n",
       "      <td>Silas Kariuki</td>\n",
       "      <td>254727431365</td>\n",
       "      <td>CS + TV</td>\n",
       "      <td>Arrears</td>\n",
       "      <td>2024-03-31</td>\n",
       "      <td>23</td>\n",
       "      <td>0.869565</td>\n",
       "    </tr>\n",
       "    <tr>\n",
       "      <th>2</th>\n",
       "      <td>66</td>\n",
       "      <td>27922697-1</td>\n",
       "      <td>Gilbert Rono</td>\n",
       "      <td>254717895246</td>\n",
       "      <td>RainMaker 2 + TV</td>\n",
       "      <td>Current</td>\n",
       "      <td>2024-03-31</td>\n",
       "      <td>26</td>\n",
       "      <td>0.961538</td>\n",
       "    </tr>\n",
       "    <tr>\n",
       "      <th>3</th>\n",
       "      <td>87</td>\n",
       "      <td>29952002</td>\n",
       "      <td>Oscar Kagari</td>\n",
       "      <td>254717436446</td>\n",
       "      <td>CS + TV</td>\n",
       "      <td>Current</td>\n",
       "      <td>2024-03-31</td>\n",
       "      <td>23</td>\n",
       "      <td>0.962799</td>\n",
       "    </tr>\n",
       "    <tr>\n",
       "      <th>4</th>\n",
       "      <td>105</td>\n",
       "      <td>36319526</td>\n",
       "      <td>Nathan kirui</td>\n",
       "      <td>254706839511</td>\n",
       "      <td>RainMaker 2.0</td>\n",
       "      <td>Current</td>\n",
       "      <td>2024-03-31</td>\n",
       "      <td>21</td>\n",
       "      <td>0.990909</td>\n",
       "    </tr>\n",
       "  </tbody>\n",
       "</table>\n",
       "</div>"
      ],
      "text/plain": [
       "   accountId account_ref     customer_names  phone_number           product  \\\n",
       "0          6    29863318  John Oluoch Oguto  254717459831  RainMaker 2 + TV   \n",
       "1         61    21983558      Silas Kariuki  254727431365           CS + TV   \n",
       "2         66  27922697-1       Gilbert Rono  254717895246  RainMaker 2 + TV   \n",
       "3         87    29952002       Oscar Kagari  254717436446           CS + TV   \n",
       "4        105    36319526       Nathan kirui  254706839511     RainMaker 2.0   \n",
       "\n",
       "    status end_of_month  paymentSequence    repaid  \n",
       "0  Current   2024-03-31               32  0.968967  \n",
       "1  Arrears   2024-03-31               23  0.869565  \n",
       "2  Current   2024-03-31               26  0.961538  \n",
       "3  Current   2024-03-31               23  0.962799  \n",
       "4  Current   2024-03-31               21  0.990909  "
      ]
     },
     "execution_count": 62,
     "metadata": {},
     "output_type": "execute_result"
    }
   ],
   "source": [
    "test.head()"
   ]
  },
  {
   "cell_type": "code",
   "execution_count": 64,
   "metadata": {},
   "outputs": [
    {
     "data": {
      "text/plain": [
       "0        1.0\n",
       "1        0.9\n",
       "2        1.0\n",
       "3        1.0\n",
       "4        1.0\n",
       "        ... \n",
       "10411    0.0\n",
       "10412    0.0\n",
       "10416    0.1\n",
       "10417    0.0\n",
       "10418    0.0\n",
       "Name: repaid, Length: 10114, dtype: category\n",
       "Categories (18, float64): [0.0, 0.1, 0.2, 0.3, ..., 1.4, 1.6, 1.8, 2.0]"
      ]
     },
     "execution_count": 64,
     "metadata": {},
     "output_type": "execute_result"
    }
   ],
   "source": [
    "test[\"repaid\"].round(1).astype(\"category\")"
   ]
  },
  {
   "cell_type": "code",
   "execution_count": 65,
   "metadata": {},
   "outputs": [],
   "source": [
    "X_new = test.iloc[:,[8]]"
   ]
  },
  {
   "cell_type": "code",
   "execution_count": 66,
   "metadata": {},
   "outputs": [],
   "source": [
    "Y_predict = model.predict(X_new)"
   ]
  },
  {
   "cell_type": "code",
   "execution_count": 67,
   "metadata": {},
   "outputs": [],
   "source": [
    "Y_predict_prob = model.predict_proba(X_new)"
   ]
  },
  {
   "cell_type": "code",
   "execution_count": 69,
   "metadata": {},
   "outputs": [],
   "source": [
    "#test[\"missing_payment_result\"] = Y_predict.tolist()\n",
    "test[\"default_result_prob\"] = Y_predict_prob.tolist()\n",
    "test[\"default_result\"] = Y_predict.tolist()"
   ]
  },
  {
   "cell_type": "code",
   "execution_count": 70,
   "metadata": {},
   "outputs": [],
   "source": [
    "test.to_csv(\"C:/Users/user/Documents/likely to default training data/results_29_02_24.csv\")"
   ]
  },
  {
   "cell_type": "code",
   "execution_count": null,
   "metadata": {},
   "outputs": [],
   "source": []
  }
 ],
 "metadata": {
  "kernelspec": {
   "display_name": "Python 3 (ipykernel)",
   "language": "python",
   "name": "python3"
  },
  "language_info": {
   "codemirror_mode": {
    "name": "ipython",
    "version": 3
   },
   "file_extension": ".py",
   "mimetype": "text/x-python",
   "name": "python",
   "nbconvert_exporter": "python",
   "pygments_lexer": "ipython3",
   "version": "3.11.5"
  }
 },
 "nbformat": 4,
 "nbformat_minor": 4
}
