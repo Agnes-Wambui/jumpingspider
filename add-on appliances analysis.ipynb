{
 "cells": [
  {
   "cell_type": "code",
   "execution_count": 5,
   "metadata": {},
   "outputs": [],
   "source": [
    "import pandas as pd\n",
    "import scipy.stats as stats"
   ]
  },
  {
   "cell_type": "code",
   "execution_count": 14,
   "metadata": {},
   "outputs": [],
   "source": [
    "data = pd.read_excel(r\"C:\\Users\\sarah\\Downloads\\Surveys Data Recording - Add-on Appliances.xlsx\",skiprows=[0])\n",
    "data1 = pd.DataFrame(data)\n",
    "data2 = data1.dropna(axis=0, subset=['Customer ID'])"
   ]
  },
  {
   "cell_type": "code",
   "execution_count": 15,
   "metadata": {},
   "outputs": [
    {
     "name": "stdout",
     "output_type": "stream",
     "text": [
      "      Customer ID           Customer Name  Phone Number        Category  \\\n",
      "0        28498388  Eliud Kipkosgei Mosbei  2.547290e+11    Good Repayer   \n",
      "1        25189908   Hillary Kiprono Kitur  2.547172e+11    Good Repayer   \n",
      "2        23556771          Nicolas Koimur  2.547240e+11    Good Repayer   \n",
      "3        29371715     Kipng'etich Maritim  2.547231e+11    Good Repayer   \n",
      "4        11650018             John Rotich  2.547203e+11    Good Repayer   \n",
      "..            ...                     ...           ...             ...   \n",
      "721  254722366848         William K Kemei  2.547224e+11  Hot Sales Lead   \n",
      "722     722412571                  Aloice  2.547224e+11  Hot Sales Lead   \n",
      "723      20609972                 collins  2.547206e+11  Hot Sales Lead   \n",
      "724      10093899                  Joseph  2.541101e+11  Hot Sales Lead   \n",
      "725        568683                  Monica  2.547142e+11  Hot Sales Lead   \n",
      "\n",
      "    1st Priority Item 2nd Priority Item 3 rd Priority Item  \\\n",
      "0      Security Light        Smartphone                NaN   \n",
      "1              Fridge    Security Light     Speaker System   \n",
      "2                 NaN               NaN                NaN   \n",
      "3                 NaN               NaN                NaN   \n",
      "4      Kinyozi/shaver               NaN                NaN   \n",
      "..                ...               ...                ...   \n",
      "721    Security Light               NaN                NaN   \n",
      "722               NaN               NaN                NaN   \n",
      "723               NaN               NaN                NaN   \n",
      "724               NaN               NaN                NaN   \n",
      "725               NaN               NaN                NaN   \n",
      "\n",
      "     Expected Cost 1st Priority Item (KES)  Unnamed: 8  \\\n",
      "0                                      NaN         NaN   \n",
      "1                                  15000.0     20000.0   \n",
      "2                                      NaN         NaN   \n",
      "3                                      NaN         NaN   \n",
      "4                                      NaN         NaN   \n",
      "..                                     ...         ...   \n",
      "721                                 1500.0         NaN   \n",
      "722                                    NaN         NaN   \n",
      "723                                    NaN         NaN   \n",
      "724                                    NaN         NaN   \n",
      "725                                    NaN         NaN   \n",
      "\n",
      "     Expected Cost 2nd Priority Item (KES)  ...  Other Recommended Product  \\\n",
      "0                                  10000.0  ...                        NaN   \n",
      "1                                  30000.0  ...                        NaN   \n",
      "2                                      NaN  ...                        NaN   \n",
      "3                                      NaN  ...                        NaN   \n",
      "4                                      NaN  ...                        NaN   \n",
      "..                                     ...  ...                        ...   \n",
      "721                                    NaN  ...                      Solar   \n",
      "722                                    NaN  ...                        NaN   \n",
      "723                                    NaN  ...                        NaN   \n",
      "724                                    NaN  ...                        NaN   \n",
      "725                                    NaN  ...                        NaN   \n",
      "\n",
      "     Avg Expected Amount 1st Priority Item  \\\n",
      "0                                      NaN   \n",
      "1                                  17500.0   \n",
      "2                                      NaN   \n",
      "3                                      NaN   \n",
      "4                                      NaN   \n",
      "..                                     ...   \n",
      "721                                 1500.0   \n",
      "722                                    NaN   \n",
      "723                                    NaN   \n",
      "724                                    NaN   \n",
      "725                                    NaN   \n",
      "\n",
      "     Avg Expected Amount 2nd Priority Item  \\\n",
      "0                                  10000.0   \n",
      "1                                  30000.0   \n",
      "2                                      NaN   \n",
      "3                                      NaN   \n",
      "4                                      NaN   \n",
      "..                                     ...   \n",
      "721                                    NaN   \n",
      "722                                    NaN   \n",
      "723                                    NaN   \n",
      "724                                    NaN   \n",
      "725                                    NaN   \n",
      "\n",
      "    Avg Expected Amount 3rd Priority Item Unnamed: 22 Unnamed: 23 Unnamed: 24  \\\n",
      "0                                     NaN         NaN         NaN         NaN   \n",
      "1                                  9000.0         NaN         NaN         NaN   \n",
      "2                                     NaN         NaN         NaN         NaN   \n",
      "3                                     NaN         NaN         NaN         NaN   \n",
      "4                                     NaN         NaN         NaN         NaN   \n",
      "..                                    ...         ...         ...         ...   \n",
      "721                                   NaN         NaN         NaN         NaN   \n",
      "722                                   NaN         NaN         NaN         NaN   \n",
      "723                                   NaN         NaN         NaN         NaN   \n",
      "724                                   NaN         NaN         NaN         NaN   \n",
      "725                                   NaN         NaN         NaN         NaN   \n",
      "\n",
      "    Unnamed: 25 Unnamed: 26  #NAME?  \n",
      "0           NaN         NaN     NaN  \n",
      "1           NaN         NaN     NaN  \n",
      "2           NaN         NaN     NaN  \n",
      "3           NaN         NaN     NaN  \n",
      "4           NaN         NaN     NaN  \n",
      "..          ...         ...     ...  \n",
      "721         NaN         NaN     NaN  \n",
      "722         NaN         NaN     NaN  \n",
      "723         NaN         NaN     NaN  \n",
      "724         NaN         NaN     NaN  \n",
      "725         NaN         NaN     NaN  \n",
      "\n",
      "[726 rows x 28 columns]\n"
     ]
    }
   ],
   "source": [
    "print(data2)"
   ]
  },
  {
   "cell_type": "code",
   "execution_count": 18,
   "metadata": {},
   "outputs": [],
   "source": [
    "data_crosstab= pd.crosstab(data2['Category'],data2['1st Priority Item'],margins=True, margins_name=\"Total\")"
   ]
  },
  {
   "cell_type": "code",
   "execution_count": 19,
   "metadata": {},
   "outputs": [
    {
     "name": "stdout",
     "output_type": "stream",
     "text": [
      "1st Priority Item  DC - AC Inverter  Electronic mosquito repellant  Fridge  \\\n",
      "Category                                                                     \n",
      "Bad Repayer                      16                              2      34   \n",
      "Good Repayer                     20                              2      47   \n",
      "Hot Sales Lead                    5                              1       9   \n",
      "Total                            41                              5      90   \n",
      "\n",
      "1st Priority Item  Kinyozi/shaver  Laptop Charger  Other  \\\n",
      "Category                                                   \n",
      "Bad Repayer                    24               2      2   \n",
      "Good Repayer                   16               4      1   \n",
      "Hot Sales Lead                  3               2      2   \n",
      "Total                          43               8      5   \n",
      "\n",
      "1st Priority Item  Power bank/portable charger  Radio  Security Light  \\\n",
      "Category                                                                \n",
      "Bad Repayer                                  2     10              38   \n",
      "Good Repayer                                 2      6              30   \n",
      "Hot Sales Lead                               1      1              16   \n",
      "Total                                        5     17              84   \n",
      "\n",
      "1st Priority Item  Smartphone  Speaker System  Torch  Total  \n",
      "Category                                                     \n",
      "Bad Repayer                21               6      1    158  \n",
      "Good Repayer                8              14      5    155  \n",
      "Hot Sales Lead              9               7      1     57  \n",
      "Total                      38              27      7    370  \n"
     ]
    }
   ],
   "source": [
    "print(data_crosstab)"
   ]
  },
  {
   "cell_type": "code",
   "execution_count": 34,
   "metadata": {},
   "outputs": [
    {
     "name": "stdout",
     "output_type": "stream",
     "text": [
      "['Good Repayer' 'Bad Repayer' 'Hot Sales Lead']\n",
      "['Security Light' 'Fridge' 'Kinyozi/shaver' 'Speaker System' 'Smartphone'\n",
      " 'Electronic mosquito repellant' 'Torch' 'Power bank/portable charger'\n",
      " 'DC - AC Inverter' 'Radio' 'Laptop Charger' 'Other']\n"
     ]
    }
   ],
   "source": [
    "# significance level\n",
    "alpha = 0.05\n",
    "\n",
    "# Calcualtion of Chisquare test statistics\n",
    "chi_square = 0\n",
    "rows = data2['Category'].dropna().unique()\n",
    "columns = data2['1st Priority Item'].dropna().unique()\n",
    "print(rows)\n",
    "print(columns)"
   ]
  },
  {
   "cell_type": "code",
   "execution_count": 36,
   "metadata": {},
   "outputs": [],
   "source": [
    "for i in columns:\n",
    "    for j in rows:\n",
    "        O = data_crosstab[i][j]\n",
    "        E = data_crosstab[i]['Total'] * data_crosstab['Total'][j] / data_crosstab['Total']['Total']\n",
    "        chi_square += (O-E)**2/E"
   ]
  },
  {
   "cell_type": "code",
   "execution_count": 37,
   "metadata": {},
   "outputs": [
    {
     "name": "stdout",
     "output_type": "stream",
     "text": [
      "Approach 1: The p-value approach to hypothesis testing in the decision rule\n",
      "chisquare-score is: 32.09499397879735  and p value is: 0.0\n",
      "Null Hypothesis is rejected.\n"
     ]
    }
   ],
   "source": [
    "# The p-value approach\n",
    "print(\"Approach 1: The p-value approach to hypothesis testing in the decision rule\")\n",
    "p_value = 1 - stats.norm.cdf(chi_square, (len(rows)-1)*(len(columns)-1))\n",
    "conclusion = \"Failed to reject the null hypothesis.\"\n",
    "if p_value <= alpha:\n",
    "    conclusion = \"Null Hypothesis is rejected.\"\n",
    "        \n",
    "print(\"chisquare-score is:\", chi_square, \" and p value is:\", p_value)\n",
    "print(conclusion)"
   ]
  },
  {
   "cell_type": "code",
   "execution_count": 38,
   "metadata": {},
   "outputs": [],
   "source": [
    "data_crosstab1= pd.crosstab(data2['Category'],data2['Preference Payment 1st Item'],margins=True, margins_name=\"Total\")"
   ]
  },
  {
   "cell_type": "code",
   "execution_count": 39,
   "metadata": {},
   "outputs": [
    {
     "name": "stdout",
     "output_type": "stream",
     "text": [
      "Preference Payment 1st Item  Cash  Loan  Total\n",
      "Category                                      \n",
      "Bad Repayer                    38    86    124\n",
      "Good Repayer                   51    70    121\n",
      "Hot Sales Lead                 19    30     49\n",
      "Total                         108   186    294\n"
     ]
    }
   ],
   "source": [
    "print(data_crosstab1)"
   ]
  },
  {
   "cell_type": "code",
   "execution_count": 40,
   "metadata": {},
   "outputs": [
    {
     "name": "stdout",
     "output_type": "stream",
     "text": [
      "['Good Repayer' 'Bad Repayer' 'Hot Sales Lead']\n",
      "['Loan' 'Cash']\n"
     ]
    }
   ],
   "source": [
    "rows = data2['Category'].dropna().unique()\n",
    "columns = data2['Preference Payment 1st Item'].dropna().unique()\n",
    "print(rows)\n",
    "print(columns)"
   ]
  },
  {
   "cell_type": "code",
   "execution_count": 42,
   "metadata": {},
   "outputs": [],
   "source": [
    "for i in columns:\n",
    "    for j in rows:\n",
    "        O = data_crosstab1[i][j]\n",
    "        E = data_crosstab1[i]['Total'] * data_crosstab1['Total'][j] / data_crosstab1['Total']['Total']\n",
    "        chi_square += (O-E)**2/E"
   ]
  },
  {
   "cell_type": "code",
   "execution_count": 43,
   "metadata": {},
   "outputs": [
    {
     "name": "stdout",
     "output_type": "stream",
     "text": [
      "Approach 1: The p-value approach to hypothesis testing in the decision rule\n",
      "chisquare-score is: 35.687486398978734  and p value is: 0.0\n",
      "Null Hypothesis is rejected.\n"
     ]
    }
   ],
   "source": [
    "# The p-value approach\n",
    "print(\"Approach 1: The p-value approach to hypothesis testing in the decision rule\")\n",
    "p_value = 1 - stats.norm.cdf(chi_square, (len(rows)-1)*(len(columns)-1))\n",
    "conclusion = \"Failed to reject the null hypothesis.\"\n",
    "if p_value <= alpha:\n",
    "    conclusion = \"Null Hypothesis is rejected.\"\n",
    "        \n",
    "print(\"chisquare-score is:\", chi_square, \" and p value is:\", p_value)\n",
    "print(conclusion)"
   ]
  },
  {
   "cell_type": "code",
   "execution_count": 44,
   "metadata": {},
   "outputs": [
    {
     "name": "stdout",
     "output_type": "stream",
     "text": [
      "Approach 1: The p-value approach to hypothesis testing in the decision rule\n",
      "chisquare-score is: 37.59069209868361  and p value is: 0.0\n",
      "Null Hypothesis is rejected.\n"
     ]
    }
   ],
   "source": [
    "data_crosstab2= pd.crosstab(data2['Category'],data2['Preference Payment 2nd Item'],margins=True, margins_name=\"Total\")\n",
    "rows = data2['Category'].dropna().unique()\n",
    "columns = data2['Preference Payment 1st Item'].dropna().unique()\n",
    "for i in columns:\n",
    "    for j in rows:\n",
    "        O = data_crosstab2[i][j]\n",
    "        E = data_crosstab2[i]['Total'] * data_crosstab2['Total'][j] / data_crosstab2['Total']['Total']\n",
    "        chi_square += (O-E)**2/E\n",
    "# The p-value approach\n",
    "print(\"Approach 1: The p-value approach to hypothesis testing in the decision rule\")\n",
    "p_value = 1 - stats.norm.cdf(chi_square, (len(rows)-1)*(len(columns)-1))\n",
    "conclusion = \"Failed to reject the null hypothesis.\"\n",
    "if p_value <= alpha:\n",
    "    conclusion = \"Null Hypothesis is rejected.\"\n",
    "        \n",
    "print(\"chisquare-score is:\", chi_square, \" and p value is:\", p_value)\n",
    "print(conclusion)"
   ]
  },
  {
   "cell_type": "code",
   "execution_count": 45,
   "metadata": {},
   "outputs": [
    {
     "name": "stdout",
     "output_type": "stream",
     "text": [
      "Approach 1: The p-value approach to hypothesis testing in the decision rule\n",
      "chisquare-score is: 42.57003174637769  and p value is: 0.0\n",
      "Null Hypothesis is rejected.\n"
     ]
    }
   ],
   "source": [
    "data_crosstab3= pd.crosstab(data2['Category'],data2['Preference Payment 3rd item'],margins=True, margins_name=\"Total\")\n",
    "rows = data2['Category'].dropna().unique()\n",
    "columns = data2['Preference Payment 1st Item'].dropna().unique()\n",
    "for i in columns:\n",
    "    for j in rows:\n",
    "        O = data_crosstab3[i][j]\n",
    "        E = data_crosstab3[i]['Total'] * data_crosstab3['Total'][j] / data_crosstab3['Total']['Total']\n",
    "        chi_square += (O-E)**2/E\n",
    "# The p-value approach\n",
    "print(\"Approach 1: The p-value approach to hypothesis testing in the decision rule\")\n",
    "p_value = 1 - stats.norm.cdf(chi_square, (len(rows)-1)*(len(columns)-1))\n",
    "conclusion = \"Failed to reject the null hypothesis.\"\n",
    "if p_value <= alpha:\n",
    "    conclusion = \"Null Hypothesis is rejected.\"\n",
    "        \n",
    "print(\"chisquare-score is:\", chi_square, \" and p value is:\", p_value)\n",
    "print(conclusion)"
   ]
  },
  {
   "cell_type": "code",
   "execution_count": 47,
   "metadata": {},
   "outputs": [
    {
     "name": "stdout",
     "output_type": "stream",
     "text": [
      "Approach 1: The p-value approach to hypothesis testing in the decision rule\n",
      "chisquare-score is: 42.93490375877739  and p value is: 0.0\n",
      "Null Hypothesis is rejected.\n"
     ]
    }
   ],
   "source": [
    "data_crosstab4= pd.crosstab(data2['Category'],data2['Item usage (Home/Business)'],margins=True, margins_name=\"Total\")\n",
    "rows = data2['Category'].dropna().unique()\n",
    "columns = data2['Item usage (Home/Business)'].dropna().unique()\n",
    "for i in columns:\n",
    "    for j in rows:\n",
    "        O = data_crosstab4[i][j]\n",
    "        E = data_crosstab4[i]['Total'] * data_crosstab4['Total'][j] / data_crosstab4['Total']['Total']\n",
    "        chi_square += (O-E)**2/E\n",
    "# The p-value approach\n",
    "print(\"Approach 1: The p-value approach to hypothesis testing in the decision rule\")\n",
    "p_value = 1 - stats.norm.cdf(chi_square, (len(rows)-1)*(len(columns)-1))\n",
    "conclusion = \"Failed to reject the null hypothesis.\"\n",
    "if p_value <= alpha:\n",
    "    conclusion = \"Null Hypothesis is rejected.\"\n",
    "        \n",
    "print(\"chisquare-score is:\", chi_square, \" and p value is:\", p_value)\n",
    "print(conclusion)"
   ]
  },
  {
   "cell_type": "code",
   "execution_count": 48,
   "metadata": {},
   "outputs": [
    {
     "name": "stdout",
     "output_type": "stream",
     "text": [
      "Approach 1: The p-value approach to hypothesis testing in the decision rule\n",
      "chisquare-score is: 75.37689062547456  and p value is: 0.0\n",
      "Null Hypothesis is rejected.\n"
     ]
    }
   ],
   "source": [
    "data_crosstab5= pd.crosstab(data2['1st Priority Item'],data2['Item usage (Home/Business)'],margins=True, margins_name=\"Total\")\n",
    "rows = data2['1st Priority Item'].dropna().unique()\n",
    "columns = data2['Item usage (Home/Business)'].dropna().unique()\n",
    "for i in columns:\n",
    "    for j in rows:\n",
    "        O = data_crosstab5[i][j]\n",
    "        E = data_crosstab5[i]['Total'] * data_crosstab5['Total'][j] / data_crosstab5['Total']['Total']\n",
    "        chi_square += (O-E)**2/E\n",
    "# The p-value approach\n",
    "print(\"Approach 1: The p-value approach to hypothesis testing in the decision rule\")\n",
    "p_value = 1 - stats.norm.cdf(chi_square, (len(rows)-1)*(len(columns)-1))\n",
    "conclusion = \"Failed to reject the null hypothesis.\"\n",
    "if p_value <= alpha:\n",
    "    conclusion = \"Null Hypothesis is rejected.\"\n",
    "        \n",
    "print(\"chisquare-score is:\", chi_square, \" and p value is:\", p_value)\n",
    "print(conclusion)"
   ]
  },
  {
   "cell_type": "code",
   "execution_count": null,
   "metadata": {},
   "outputs": [],
   "source": []
  }
 ],
 "metadata": {
  "kernelspec": {
   "display_name": "Python 3 (ipykernel)",
   "language": "python",
   "name": "python3"
  },
  "language_info": {
   "codemirror_mode": {
    "name": "ipython",
    "version": 3
   },
   "file_extension": ".py",
   "mimetype": "text/x-python",
   "name": "python",
   "nbconvert_exporter": "python",
   "pygments_lexer": "ipython3",
   "version": "3.11.5"
  }
 },
 "nbformat": 4,
 "nbformat_minor": 4
}
