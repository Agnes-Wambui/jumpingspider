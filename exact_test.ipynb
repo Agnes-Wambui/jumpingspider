{
 "cells": [
  {
   "cell_type": "code",
   "execution_count": 121,
   "metadata": {
    "collapsed": true
   },
   "outputs": [],
   "source": [
    "import operator as op\n",
    "import collections\n",
    "import math\n",
    "from functools import reduce\n",
    "\n",
    "def ncr(n, r):\n",
    "    \"\"\"This function returns n Choose r\"\"\"\n",
    "    r = min(r, n-r)\n",
    "    numer = reduce(op.mul, range(n, n-r, -1), 1)\n",
    "    denom = reduce(op.mul, range(1, r+1), 1)\n",
    "    return numer / denom"
   ]
  },
  {
   "cell_type": "code",
   "execution_count": 123,
   "metadata": {
    "collapsed": false
   },
   "outputs": [],
   "source": [
    "def prob(n,n1,n12):\n",
    "    \"\"\"This function returns P(n12|n1,n2)\"\"\"\n",
    "    return ((ncr(n, n12) * ncr(n-n12, int((n1-n12)/2)))/ncr(2*n,n1))* 2**n12"
   ]
  },
  {
   "cell_type": "code",
   "execution_count": 128,
   "metadata": {
    "collapsed": false
   },
   "outputs": [],
   "source": [
    "def exact_test(n11,n12,n22):\n",
    "    \"\"\"This function return the rejection region and p value of the exact test\"\"\"\n",
    "    total = 0\n",
    "    pval = 0\n",
    "    alpha = 0.05\n",
    "    probs_dict = {}\n",
    "    rejection_vals = []\n",
    "    n = n11 + n12 + n22 #sample size\n",
    "    n1 = 2*n11 + n12 # number of allele A\n",
    "    n2 = 2*n22 + n12 #number of allele a\n",
    "    m = min(n1,n2)\n",
    "    #print(\"m:\", m)\n",
    "    \n",
    "    if n1%2 == 0 and n2%2 == 0:\n",
    "        poss_vals = list(range(2, m+1, 2)) #if n1 and n2 are even possible values of n12 start at 2\n",
    "    else:\n",
    "        poss_vals = list(range(1, m+1, 2)) #if n1 and n2 are odd possible values of n12 start at 1\n",
    "    #print(\"p:\",poss_vals)\n",
    "    for i in poss_vals:\n",
    "        probs_dict[prob(n,n1,i)] = i #find probability of each possible value using function prob() and store in a dict\n",
    "    \n",
    "    probs_dict = collections.OrderedDict(sorted(probs_dict.items())) #sorting by probability\n",
    "    #print(\"pd:\",probs_dict)\n",
    "    probs = list(probs_dict.keys())\n",
    "    #print(\"ap:\", probs)\n",
    "    for i in probs:\n",
    "        if total < alpha:\n",
    "            rejection_vals.append(probs_dict[i]) #Rejection region\n",
    "            total += i\n",
    "        else:\n",
    "            break\n",
    "    #testing\n",
    "    if n12 in rejection_vals:\n",
    "        print(\"Reject H0\")\n",
    "    else:\n",
    "        print(\"Don't reject H0\")\n",
    "    \n",
    "    #Calculating p value\n",
    "    j = list(probs_dict.keys())[list(probs_dict.values()).index(n12)]\n",
    "    for i in probs:\n",
    "        if i <= j:\n",
    "            pval += i\n",
    "        else:\n",
    "            break\n",
    "    \n",
    "    #testing\n",
    "    if pval < alpha:\n",
    "        print(\"Reject H0\")\n",
    "    else: \n",
    "        print(\"Don't reject H0\")\n",
    "    \n",
    "    return (print(rejection_vals), pval)     \n",
    "        "
   ]
  },
  {
   "cell_type": "code",
   "execution_count": 129,
   "metadata": {
    "collapsed": false
   },
   "outputs": [
    {
     "name": "stdout",
     "output_type": "stream",
     "text": [
      "Don't reject H0\n",
      "Don't reject H0\n",
      "[2, 4, 6, 8, 10, 12, 14, 16, 18, 20, 22, 24, 26, 28, 30, 32, 34, 36, 38, 40, 42, 44, 46, 48, 50, 52, 54, 56, 58, 80, 60, 62, 78]\n"
     ]
    },
    {
     "data": {
      "text/plain": [
       "(None, 0.2901438511184949)"
      ]
     },
     "execution_count": 129,
     "metadata": {},
     "output_type": "execute_result"
    }
   ],
   "source": [
    "exact_test(265, 66, 7)"
   ]
  },
  {
   "cell_type": "code",
   "execution_count": 130,
   "metadata": {
    "collapsed": false,
    "scrolled": true
   },
   "outputs": [
    {
     "name": "stdout",
     "output_type": "stream",
     "text": [
      "Reject H0\n",
      "Reject H0\n",
      "[2, 4, 6, 8, 10, 12, 14, 16, 18, 20, 22, 24, 26, 28, 30, 32, 34, 36, 38, 40, 42, 44, 46, 48, 50, 52, 54, 56, 58, 60, 62, 64, 66, 68, 106, 70, 72, 104, 74, 102, 76, 78, 100, 80]\n"
     ]
    },
    {
     "data": {
      "text/plain": [
       "(None, 0.03693701569488812)"
      ]
     },
     "execution_count": 130,
     "metadata": {},
     "output_type": "execute_result"
    }
   ],
   "source": [
    "exact_test(235,100,3)"
   ]
  },
  {
   "cell_type": "code",
   "execution_count": null,
   "metadata": {
    "collapsed": true
   },
   "outputs": [],
   "source": []
  }
 ],
 "metadata": {
  "kernelspec": {
   "display_name": "Python 3",
   "language": "python",
   "name": "python3"
  },
  "language_info": {
   "codemirror_mode": {
    "name": "ipython",
    "version": 3
   },
   "file_extension": ".py",
   "mimetype": "text/x-python",
   "name": "python",
   "nbconvert_exporter": "python",
   "pygments_lexer": "ipython3",
   "version": "3.5.3"
  }
 },
 "nbformat": 4,
 "nbformat_minor": 2
}
