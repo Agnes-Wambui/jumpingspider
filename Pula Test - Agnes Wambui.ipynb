{
 "cells": [
  {
   "cell_type": "code",
   "execution_count": 1,
   "metadata": {},
   "outputs": [],
   "source": [
    "import pandas as pd\n",
    "import numpy as np\n",
    "import matplotlib\n",
    "import matplotlib.pyplot as plt\n",
    "import seaborn as sns\n",
    "import numpy_financial as npf"
   ]
  },
  {
   "cell_type": "code",
   "execution_count": 2,
   "metadata": {},
   "outputs": [],
   "source": [
    "data = pd.read_excel(\"Junior Data Analyst _ Data.xlsx\")"
   ]
  },
  {
   "cell_type": "code",
   "execution_count": 3,
   "metadata": {},
   "outputs": [],
   "source": [
    "# drop first row\n",
    "data = data.iloc[1:, :]\n",
    "#reset index values\n",
    "data.reset_index(drop=True, inplace=True)"
   ]
  },
  {
   "cell_type": "code",
   "execution_count": 4,
   "metadata": {},
   "outputs": [],
   "source": [
    "#set column names equal to values in row index position 0\n",
    "data.columns = data.iloc[0]\n",
    "\n",
    "#remove first row from DataFrame\n",
    "data = data[1:]"
   ]
  },
  {
   "cell_type": "code",
   "execution_count": 5,
   "metadata": {},
   "outputs": [
    {
     "data": {
      "text/html": [
       "<div>\n",
       "<style scoped>\n",
       "    .dataframe tbody tr th:only-of-type {\n",
       "        vertical-align: middle;\n",
       "    }\n",
       "\n",
       "    .dataframe tbody tr th {\n",
       "        vertical-align: top;\n",
       "    }\n",
       "\n",
       "    .dataframe thead th {\n",
       "        text-align: right;\n",
       "    }\n",
       "</style>\n",
       "<table border=\"1\" class=\"dataframe\">\n",
       "  <thead>\n",
       "    <tr style=\"text-align: right;\">\n",
       "      <th></th>\n",
       "      <th>Hour</th>\n",
       "      <th>Date/hour start</th>\n",
       "      <th>Solar electricity generation (kWh)</th>\n",
       "      <th>Electricity usage (kWh)</th>\n",
       "    </tr>\n",
       "  </thead>\n",
       "  <tbody>\n",
       "    <tr>\n",
       "      <th>1</th>\n",
       "      <td>0</td>\n",
       "      <td>2020-01-01 00:00:00</td>\n",
       "      <td>0</td>\n",
       "      <td>1.50985</td>\n",
       "    </tr>\n",
       "    <tr>\n",
       "      <th>2</th>\n",
       "      <td>1</td>\n",
       "      <td>2020-01-01 01:00:00</td>\n",
       "      <td>0</td>\n",
       "      <td>1.41186</td>\n",
       "    </tr>\n",
       "    <tr>\n",
       "      <th>3</th>\n",
       "      <td>2</td>\n",
       "      <td>2020-01-01 02:00:00</td>\n",
       "      <td>0</td>\n",
       "      <td>1.0239</td>\n",
       "    </tr>\n",
       "    <tr>\n",
       "      <th>4</th>\n",
       "      <td>3</td>\n",
       "      <td>2020-01-01 03:00:00</td>\n",
       "      <td>0</td>\n",
       "      <td>0.642</td>\n",
       "    </tr>\n",
       "    <tr>\n",
       "      <th>5</th>\n",
       "      <td>4</td>\n",
       "      <td>2020-01-01 04:00:00</td>\n",
       "      <td>0</td>\n",
       "      <td>0.96</td>\n",
       "    </tr>\n",
       "  </tbody>\n",
       "</table>\n",
       "</div>"
      ],
      "text/plain": [
       "0 Hour      Date/hour start Solar electricity generation (kWh)  \\\n",
       "1    0  2020-01-01 00:00:00                                  0   \n",
       "2    1  2020-01-01 01:00:00                                  0   \n",
       "3    2  2020-01-01 02:00:00                                  0   \n",
       "4    3  2020-01-01 03:00:00                                  0   \n",
       "5    4  2020-01-01 04:00:00                                  0   \n",
       "\n",
       "0 Electricity usage (kWh)  \n",
       "1                 1.50985  \n",
       "2                 1.41186  \n",
       "3                  1.0239  \n",
       "4                   0.642  \n",
       "5                    0.96  "
      ]
     },
     "execution_count": 5,
     "metadata": {},
     "output_type": "execute_result"
    }
   ],
   "source": [
    "data.head()"
   ]
  },
  {
   "cell_type": "code",
   "execution_count": 6,
   "metadata": {},
   "outputs": [],
   "source": [
    "#resonable checks\n",
    "data[\"Solar electricity generation (kWh)\"] = np.where((data[\"Solar electricity generation (kWh)\"] > 0) &\n",
    "                                                      (data[\"Hour\"] <= 5) ,np.nan , data[\"Solar electricity generation (kWh)\"])\n",
    "data[\"Solar electricity generation (kWh)\"] = np.where((data[\"Solar electricity generation (kWh)\"] > 0) &\n",
    "                                                      (data[\"Hour\"] >= 18 ) ,np.nan , data[\"Solar electricity generation (kWh)\"])\n",
    "data[\"Electricity usage (kWh)\"] = np.where((data[\"Electricity usage (kWh)\"] < 0) |\n",
    "                                           (data[\"Electricity usage (kWh)\"] >= 70 ),np.nan , data[\"Electricity usage (kWh)\"])"
   ]
  },
  {
   "cell_type": "code",
   "execution_count": 7,
   "metadata": {},
   "outputs": [],
   "source": [
    "#convert datatypes\n",
    "data[[\"Solar electricity generation (kWh)\", \"Electricity usage (kWh)\"]] = data[[\"Solar electricity generation (kWh)\", \"Electricity usage (kWh)\"]].apply(pd.to_numeric)"
   ]
  },
  {
   "cell_type": "code",
   "execution_count": 8,
   "metadata": {},
   "outputs": [],
   "source": [
    "#electricity required to be bought\n",
    "data[\"Electricity required to be bought without battery (kWh)\"] = data[\"Electricity usage (kWh)\"] - data[\"Solar electricity generation (kWh)\"]\n",
    "data[\"Electricity required to be bought without battery (kWh)\"] = np.where((data[\"Electricity required to be bought without battery (kWh)\"] < 0) ,0 , data[\"Electricity required to be bought without battery (kWh)\"])"
   ]
  },
  {
   "cell_type": "code",
   "execution_count": 9,
   "metadata": {},
   "outputs": [],
   "source": [
    "#excess solar generated\n",
    "data[\"Excess solar generation (kWh)\"] = data[\"Solar electricity generation (kWh)\"] - data[\"Electricity usage (kWh)\"]\n",
    "data[\"Excess solar generation (kWh)\"] = np.where((data[\"Excess solar generation (kWh)\"] < 0) ,0 , data[\"Excess solar generation (kWh)\"])"
   ]
  },
  {
   "cell_type": "code",
   "execution_count": 10,
   "metadata": {},
   "outputs": [],
   "source": [
    "#battery charge level\n",
    "data[\"Battery charge level (kWh)\"] = data[\"Excess solar generation (kWh)\"].cumsum()\n",
    "data[\"Battery charge level (kWh)\"] = np.where((data[\"Battery charge level (kWh)\"] > 12.5) ,12.5 , data[\"Battery charge level (kWh)\"])"
   ]
  },
  {
   "cell_type": "code",
   "execution_count": 11,
   "metadata": {},
   "outputs": [],
   "source": [
    "#electricity required to be bought with battery\n",
    "data[\"Electricity required to be bought with battery (kWh)\"] = data[\"Electricity usage (kWh)\"] - data[\"Solar electricity generation (kWh)\"] - data[\"Battery charge level (kWh)\"]\n",
    "data[\"Electricity required to be bought with battery (kWh)\"] = np.where((data[\"Electricity required to be bought with battery (kWh)\"] < 0) ,0 , data[\"Electricity required to be bought with battery (kWh)\"])"
   ]
  },
  {
   "cell_type": "code",
   "execution_count": 12,
   "metadata": {},
   "outputs": [],
   "source": [
    "data[\"Month\"] = data[\"Date/hour start\"].dt.strftime('%B')"
   ]
  },
  {
   "cell_type": "code",
   "execution_count": 13,
   "metadata": {},
   "outputs": [
    {
     "data": {
      "text/html": [
       "<div>\n",
       "<style scoped>\n",
       "    .dataframe tbody tr th:only-of-type {\n",
       "        vertical-align: middle;\n",
       "    }\n",
       "\n",
       "    .dataframe tbody tr th {\n",
       "        vertical-align: top;\n",
       "    }\n",
       "\n",
       "    .dataframe thead th {\n",
       "        text-align: right;\n",
       "    }\n",
       "</style>\n",
       "<table border=\"1\" class=\"dataframe\">\n",
       "  <thead>\n",
       "    <tr style=\"text-align: right;\">\n",
       "      <th></th>\n",
       "      <th>Hour</th>\n",
       "      <th>Date/hour start</th>\n",
       "      <th>Solar electricity generation (kWh)</th>\n",
       "      <th>Electricity usage (kWh)</th>\n",
       "      <th>Electricity required to be bought without battery (kWh)</th>\n",
       "      <th>Excess solar generation (kWh)</th>\n",
       "      <th>Battery charge level (kWh)</th>\n",
       "      <th>Electricity required to be bought with battery (kWh)</th>\n",
       "      <th>Month</th>\n",
       "    </tr>\n",
       "  </thead>\n",
       "  <tbody>\n",
       "    <tr>\n",
       "      <th>1</th>\n",
       "      <td>0</td>\n",
       "      <td>2020-01-01 00:00:00</td>\n",
       "      <td>0.0</td>\n",
       "      <td>1.509849</td>\n",
       "      <td>1.509849</td>\n",
       "      <td>0.0</td>\n",
       "      <td>0.0</td>\n",
       "      <td>1.509849</td>\n",
       "      <td>January</td>\n",
       "    </tr>\n",
       "    <tr>\n",
       "      <th>2</th>\n",
       "      <td>1</td>\n",
       "      <td>2020-01-01 01:00:00</td>\n",
       "      <td>0.0</td>\n",
       "      <td>1.411859</td>\n",
       "      <td>1.411859</td>\n",
       "      <td>0.0</td>\n",
       "      <td>0.0</td>\n",
       "      <td>1.411859</td>\n",
       "      <td>January</td>\n",
       "    </tr>\n",
       "    <tr>\n",
       "      <th>3</th>\n",
       "      <td>2</td>\n",
       "      <td>2020-01-01 02:00:00</td>\n",
       "      <td>0.0</td>\n",
       "      <td>1.023898</td>\n",
       "      <td>1.023898</td>\n",
       "      <td>0.0</td>\n",
       "      <td>0.0</td>\n",
       "      <td>1.023898</td>\n",
       "      <td>January</td>\n",
       "    </tr>\n",
       "    <tr>\n",
       "      <th>4</th>\n",
       "      <td>3</td>\n",
       "      <td>2020-01-01 03:00:00</td>\n",
       "      <td>0.0</td>\n",
       "      <td>0.642000</td>\n",
       "      <td>0.642000</td>\n",
       "      <td>0.0</td>\n",
       "      <td>0.0</td>\n",
       "      <td>0.642000</td>\n",
       "      <td>January</td>\n",
       "    </tr>\n",
       "    <tr>\n",
       "      <th>5</th>\n",
       "      <td>4</td>\n",
       "      <td>2020-01-01 04:00:00</td>\n",
       "      <td>0.0</td>\n",
       "      <td>0.960000</td>\n",
       "      <td>0.960000</td>\n",
       "      <td>0.0</td>\n",
       "      <td>0.0</td>\n",
       "      <td>0.960000</td>\n",
       "      <td>January</td>\n",
       "    </tr>\n",
       "  </tbody>\n",
       "</table>\n",
       "</div>"
      ],
      "text/plain": [
       "0 Hour      Date/hour start  Solar electricity generation (kWh)  \\\n",
       "1    0  2020-01-01 00:00:00                                 0.0   \n",
       "2    1  2020-01-01 01:00:00                                 0.0   \n",
       "3    2  2020-01-01 02:00:00                                 0.0   \n",
       "4    3  2020-01-01 03:00:00                                 0.0   \n",
       "5    4  2020-01-01 04:00:00                                 0.0   \n",
       "\n",
       "0  Electricity usage (kWh)  \\\n",
       "1                 1.509849   \n",
       "2                 1.411859   \n",
       "3                 1.023898   \n",
       "4                 0.642000   \n",
       "5                 0.960000   \n",
       "\n",
       "0  Electricity required to be bought without battery (kWh)  \\\n",
       "1                                           1.509849         \n",
       "2                                           1.411859         \n",
       "3                                           1.023898         \n",
       "4                                           0.642000         \n",
       "5                                           0.960000         \n",
       "\n",
       "0  Excess solar generation (kWh)  Battery charge level (kWh)  \\\n",
       "1                            0.0                         0.0   \n",
       "2                            0.0                         0.0   \n",
       "3                            0.0                         0.0   \n",
       "4                            0.0                         0.0   \n",
       "5                            0.0                         0.0   \n",
       "\n",
       "0  Electricity required to be bought with battery (kWh)    Month  \n",
       "1                                           1.509849     January  \n",
       "2                                           1.411859     January  \n",
       "3                                           1.023898     January  \n",
       "4                                           0.642000     January  \n",
       "5                                           0.960000     January  "
      ]
     },
     "execution_count": 13,
     "metadata": {},
     "output_type": "execute_result"
    }
   ],
   "source": [
    "data.head()"
   ]
  },
  {
   "cell_type": "code",
   "execution_count": 14,
   "metadata": {},
   "outputs": [
    {
     "name": "stdout",
     "output_type": "stream",
     "text": [
      "1101.5995347100002\n"
     ]
    }
   ],
   "source": [
    "# total cost savings in 2020\n",
    "savings = (data[\"Electricity required to be bought without battery (kWh)\"].sum()*0.17) - (data[\"Electricity required to be bought with battery (kWh)\"].sum()*0.17)\n",
    "print (savings)"
   ]
  },
  {
   "cell_type": "code",
   "execution_count": 15,
   "metadata": {},
   "outputs": [
    {
     "data": {
      "text/plain": [
       "Hour\n",
       "0    0.0\n",
       "1    0.0\n",
       "2    0.0\n",
       "3    0.0\n",
       "4    0.0\n",
       "Name: Solar electricity generation (kWh), dtype: float64"
      ]
     },
     "execution_count": 15,
     "metadata": {},
     "output_type": "execute_result"
    }
   ],
   "source": [
    "# average solar electricity generated by hour in 2020\n",
    "data_avg = data.groupby(by = \"Hour\").mean()[\"Solar electricity generation (kWh)\"]\n",
    "data_avg.head()"
   ]
  },
  {
   "cell_type": "code",
   "execution_count": 16,
   "metadata": {},
   "outputs": [
    {
     "data": {
      "image/png": "[encoded data removed]",
      "text/plain": [
       "<Figure size 432x288 with 1 Axes>"
      ]
     },
     "metadata": {
      "needs_background": "light"
     },
     "output_type": "display_data"
    }
   ],
   "source": [
    "data_avg.plot.bar() \n",
    "plt.xlabel(\"Hour\")\n",
    "plt.ylabel(\"Avg solar electricity generated (kWh)\")\n",
    "plt.title(\"Avg solar electricity generated (kWh) by hour in 2022\")\n",
    "plt.show()"
   ]
  },
  {
   "cell_type": "code",
   "execution_count": 17,
   "metadata": {},
   "outputs": [
    {
     "data": {
      "text/html": [
       "<div>\n",
       "<style scoped>\n",
       "    .dataframe tbody tr th:only-of-type {\n",
       "        vertical-align: middle;\n",
       "    }\n",
       "\n",
       "    .dataframe tbody tr th {\n",
       "        vertical-align: top;\n",
       "    }\n",
       "\n",
       "    .dataframe thead th {\n",
       "        text-align: right;\n",
       "    }\n",
       "</style>\n",
       "<table border=\"1\" class=\"dataframe\">\n",
       "  <thead>\n",
       "    <tr style=\"text-align: right;\">\n",
       "      <th></th>\n",
       "      <th>Month</th>\n",
       "      <th>Solar electricity generation (kWh)</th>\n",
       "      <th>Electricity usage (kWh)</th>\n",
       "      <th>Electricity required to be bought without battery (kWh)</th>\n",
       "      <th>Electricity required to be bought with battery (kWh)</th>\n",
       "    </tr>\n",
       "  </thead>\n",
       "  <tbody>\n",
       "    <tr>\n",
       "      <th>0</th>\n",
       "      <td>January</td>\n",
       "      <td>264.744</td>\n",
       "      <td>1717.804181</td>\n",
       "      <td>920.477381</td>\n",
       "      <td>191.592631</td>\n",
       "    </tr>\n",
       "    <tr>\n",
       "      <th>1</th>\n",
       "      <td>February</td>\n",
       "      <td>447.936</td>\n",
       "      <td>1559.929310</td>\n",
       "      <td>675.839510</td>\n",
       "      <td>100.264400</td>\n",
       "    </tr>\n",
       "    <tr>\n",
       "      <th>2</th>\n",
       "      <td>March</td>\n",
       "      <td>577.767</td>\n",
       "      <td>1797.859450</td>\n",
       "      <td>741.156450</td>\n",
       "      <td>83.796000</td>\n",
       "    </tr>\n",
       "    <tr>\n",
       "      <th>3</th>\n",
       "      <td>April</td>\n",
       "      <td>892.926</td>\n",
       "      <td>1726.356487</td>\n",
       "      <td>708.254519</td>\n",
       "      <td>142.083500</td>\n",
       "    </tr>\n",
       "    <tr>\n",
       "      <th>4</th>\n",
       "      <td>May</td>\n",
       "      <td>1602.519</td>\n",
       "      <td>946.317809</td>\n",
       "      <td>260.694209</td>\n",
       "      <td>30.483000</td>\n",
       "    </tr>\n",
       "    <tr>\n",
       "      <th>5</th>\n",
       "      <td>June</td>\n",
       "      <td>1344.621</td>\n",
       "      <td>1158.995538</td>\n",
       "      <td>389.842938</td>\n",
       "      <td>34.763000</td>\n",
       "    </tr>\n",
       "    <tr>\n",
       "      <th>6</th>\n",
       "      <td>July</td>\n",
       "      <td>1327.470</td>\n",
       "      <td>1196.957121</td>\n",
       "      <td>418.134321</td>\n",
       "      <td>54.908000</td>\n",
       "    </tr>\n",
       "    <tr>\n",
       "      <th>7</th>\n",
       "      <td>August</td>\n",
       "      <td>1141.950</td>\n",
       "      <td>1491.525351</td>\n",
       "      <td>611.829351</td>\n",
       "      <td>116.191700</td>\n",
       "    </tr>\n",
       "    <tr>\n",
       "      <th>8</th>\n",
       "      <td>September</td>\n",
       "      <td>831.333</td>\n",
       "      <td>1622.691165</td>\n",
       "      <td>630.891165</td>\n",
       "      <td>102.015000</td>\n",
       "    </tr>\n",
       "    <tr>\n",
       "      <th>9</th>\n",
       "      <td>October</td>\n",
       "      <td>543.969</td>\n",
       "      <td>1420.745585</td>\n",
       "      <td>650.934185</td>\n",
       "      <td>122.900600</td>\n",
       "    </tr>\n",
       "    <tr>\n",
       "      <th>10</th>\n",
       "      <td>November</td>\n",
       "      <td>379.593</td>\n",
       "      <td>1479.005869</td>\n",
       "      <td>652.262869</td>\n",
       "      <td>138.885600</td>\n",
       "    </tr>\n",
       "    <tr>\n",
       "      <th>11</th>\n",
       "      <td>December</td>\n",
       "      <td>199.866</td>\n",
       "      <td>1960.563395</td>\n",
       "      <td>1090.083795</td>\n",
       "      <td>152.520000</td>\n",
       "    </tr>\n",
       "  </tbody>\n",
       "</table>\n",
       "</div>"
      ],
      "text/plain": [
       "0       Month  Solar electricity generation (kWh)  Electricity usage (kWh)  \\\n",
       "0     January                             264.744              1717.804181   \n",
       "1    February                             447.936              1559.929310   \n",
       "2       March                             577.767              1797.859450   \n",
       "3       April                             892.926              1726.356487   \n",
       "4         May                            1602.519               946.317809   \n",
       "5        June                            1344.621              1158.995538   \n",
       "6        July                            1327.470              1196.957121   \n",
       "7      August                            1141.950              1491.525351   \n",
       "8   September                             831.333              1622.691165   \n",
       "9     October                             543.969              1420.745585   \n",
       "10   November                             379.593              1479.005869   \n",
       "11   December                             199.866              1960.563395   \n",
       "\n",
       "0   Electricity required to be bought without battery (kWh)  \\\n",
       "0                                          920.477381         \n",
       "1                                          675.839510         \n",
       "2                                          741.156450         \n",
       "3                                          708.254519         \n",
       "4                                          260.694209         \n",
       "5                                          389.842938         \n",
       "6                                          418.134321         \n",
       "7                                          611.829351         \n",
       "8                                          630.891165         \n",
       "9                                          650.934185         \n",
       "10                                         652.262869         \n",
       "11                                        1090.083795         \n",
       "\n",
       "0   Electricity required to be bought with battery (kWh)  \n",
       "0                                          191.592631     \n",
       "1                                          100.264400     \n",
       "2                                           83.796000     \n",
       "3                                          142.083500     \n",
       "4                                           30.483000     \n",
       "5                                           34.763000     \n",
       "6                                           54.908000     \n",
       "7                                          116.191700     \n",
       "8                                          102.015000     \n",
       "9                                          122.900600     \n",
       "10                                         138.885600     \n",
       "11                                         152.520000     "
      ]
     },
     "execution_count": 17,
     "metadata": {},
     "output_type": "execute_result"
    }
   ],
   "source": [
    "#tabulation of data\n",
    "data_monthly = data.groupby(by = \"Month\", as_index = False)[[\"Solar electricity generation (kWh)\",\"Electricity usage (kWh)\",\"Electricity required to be bought without battery (kWh)\",\"Electricity required to be bought with battery (kWh)\"]].sum()\n",
    "months_in_order = ['January', 'February', 'March', 'April', 'May', 'June', 'July', 'August', 'September', 'October', 'November', 'December']\n",
    "data_monthly[\"Month\"] = pd.Categorical(data_monthly[\"Month\"],categories=months_in_order,ordered=True)\n",
    "data_monthly = data_monthly.sort_values(\"Month\")\n",
    "data_monthly = data_monthly.reset_index(drop=True)\n",
    "data_monthly"
   ]
  },
  {
   "cell_type": "code",
   "execution_count": 18,
   "metadata": {},
   "outputs": [
    {
     "data": {
      "image/png": "[encoded data removed]",
      "text/plain": [
       "<Figure size 432x288 with 1 Axes>"
      ]
     },
     "metadata": {
      "needs_background": "light"
     },
     "output_type": "display_data"
    }
   ],
   "source": [
    "data_monthly.plot() \n",
    "plt.xticks(data_monthly.index,months_in_order,rotation=45)\n",
    "plt.xlabel(\"Month\")\n",
    "plt.ylabel(\"Total electricity generated (kWh)\")\n",
    "plt.title(\"Total electricity generated (kWh) by month in 2022\")\n",
    "plt.show()"
   ]
  },
  {
   "cell_type": "code",
   "execution_count": 19,
   "metadata": {},
   "outputs": [
    {
     "name": "stdout",
     "output_type": "stream",
     "text": [
      "    index  year  price_20_a    savings_a\n",
      "0       0  2022    0.170000  1101.599535\n",
      "1       1  2023    0.176800  1145.663516\n",
      "2       2  2024    0.183872  1191.490057\n",
      "3       3  2025    0.191227  1239.149659\n",
      "4       4  2026    0.198876  1288.715645\n",
      "5       5  2027    0.206831  1340.264271\n",
      "6       6  2028    0.215104  1393.874842\n",
      "7       7  2029    0.223708  1449.629836\n",
      "8       8  2030    0.232657  1507.615029\n",
      "9       9  2031    0.241963  1567.919630\n",
      "10     10  2032    0.251642  1630.636416\n",
      "11     11  2033    0.261707  1695.861872\n",
      "12     12  2034    0.272175  1763.696347\n",
      "13     13  2035    0.283062  1834.244201\n",
      "14     14  2036    0.294385  1907.613969\n",
      "15     15  2037    0.306160  1983.918528\n",
      "16     16  2038    0.318407  2063.275269\n",
      "17     17  2039    0.331143  2145.806280\n",
      "18     18  2040    0.344389  2231.638531\n",
      "19     19  2041    0.358164  2320.904072\n"
     ]
    }
   ],
   "source": [
    "# annual savings under scenario a projection\n",
    "index = list(range(0,21))\n",
    "year = list(range(2022,2042))\n",
    "forcast = pd.DataFrame(list(zip(index, year)),columns =[\"index\", \"year\"])\n",
    "forcast[\"price_20_a\"] = 0.17*(1.04**forcast[\"index\"])\n",
    "forcast[\"savings_a\"] = (data[\"Electricity required to be bought without battery (kWh)\"].sum()-data[\"Electricity required to be bought with battery (kWh)\"].sum())*forcast[\"price_20_a\"]\n",
    "print(forcast)"
   ]
  },
  {
   "cell_type": "code",
   "execution_count": 20,
   "metadata": {},
   "outputs": [
    {
     "name": "stdout",
     "output_type": "stream",
     "text": [
      "18496.147760327025\n"
     ]
    }
   ],
   "source": [
    "# npv under scenario a\n",
    "npv_a = npf.npv(0.06,forcast[\"savings_a\"])\n",
    "print(npv_a)"
   ]
  },
  {
   "cell_type": "code",
   "execution_count": 21,
   "metadata": {},
   "outputs": [
    {
     "name": "stdout",
     "output_type": "stream",
     "text": [
      "0.18599720641163842\n"
     ]
    }
   ],
   "source": [
    "# irr under scenario a\n",
    "lst = [-7000]+list(forcast[\"savings_a\"])\n",
    "irr_a = npf.irr(lst)\n",
    "print(irr_a)"
   ]
  },
  {
   "cell_type": "code",
   "execution_count": 22,
   "metadata": {},
   "outputs": [
    {
     "name": "stdout",
     "output_type": "stream",
     "text": [
      "    index  year  price_20_a    savings_a  price_20_b    savings_b\n",
      "0       0  2022    0.170000  1101.599535    0.170000  1101.599535\n",
      "1       1  2023    0.176800  1145.663516    0.177225  1148.417515\n",
      "2       2  2024    0.183872  1191.490057    0.185200  1200.096303\n",
      "3       3  2025    0.191227  1239.149659    0.193997  1257.100878\n",
      "4       4  2026    0.198876  1288.715645    0.203697  1319.955921\n",
      "5       5  2027    0.206831  1340.264271    0.214391  1389.253607\n",
      "6       6  2028    0.215104  1393.874842    0.226183  1465.662556\n",
      "7       7  2029    0.223708  1449.629836    0.239188  1549.938153\n",
      "8       8  2030    0.232657  1507.615029    0.253539  1642.934442\n",
      "9       9  2031    0.241963  1567.919630    0.269386  1745.617844\n",
      "10     10  2032    0.251642  1630.636416    0.286896  1859.083004\n",
      "11     11  2033    0.261707  1695.861872    0.306261  1984.571107\n",
      "12     12  2034    0.272175  1763.696347    0.327699  2123.491085\n",
      "13     13  2035    0.283062  1834.244201    0.351458  2277.444188\n",
      "14     14  2036    0.294385  1907.613969    0.377817  2448.252502\n",
      "15     15  2037    0.306160  1983.918528    0.407098  2637.992071\n",
      "16     16  2038    0.318407  2063.275269    0.439666  2849.031437\n",
      "17     17  2039    0.331143  2145.806280    0.475938  3084.076530\n",
      "18     18  2040    0.344389  2231.638531    0.516393  3346.223036\n",
      "19     19  2041    0.358164  2320.904072    0.561577  3639.017551\n"
     ]
    }
   ],
   "source": [
    "# annual savings under scenario b projection\n",
    "prices = [0.17]\n",
    "for x in index:\n",
    "    prices.append(prices[x]*(1+(0.04+(0.0025*(x+1)))))\n",
    "forcast[\"price_20_b\"] = pd.Series(prices)\n",
    "forcast[\"savings_b\"] = (data[\"Electricity required to be bought without battery (kWh)\"].sum()-data[\"Electricity required to be bought with battery (kWh)\"].sum())*forcast[\"price_20_b\"]\n",
    "print(forcast)         "
   ]
  },
  {
   "cell_type": "code",
   "execution_count": 24,
   "metadata": {},
   "outputs": [
    {
     "name": "stdout",
     "output_type": "stream",
     "text": [
      "21552.41592925466\n"
     ]
    }
   ],
   "source": [
    "# npv under scenario b\n",
    "npv_b = npf.npv(0.06,forcast[\"savings_b\"])\n",
    "print(npv_b)"
   ]
  },
  {
   "cell_type": "code",
   "execution_count": 25,
   "metadata": {},
   "outputs": [
    {
     "name": "stdout",
     "output_type": "stream",
     "text": [
      "0.19939085047803684\n"
     ]
    }
   ],
   "source": [
    "# irr under scenario b\n",
    "lst = [-7000]+list(forcast[\"savings_b\"])\n",
    "irr_b = npf.irr(lst)\n",
    "print(irr_b)"
   ]
  }
 ],
 "metadata": {
  "kernelspec": {
   "display_name": "Python 3 (ipykernel)",
   "language": "python",
   "name": "python3"
  },
  "language_info": {
   "codemirror_mode": {
    "name": "ipython",
    "version": 3
   },
   "file_extension": ".py",
   "mimetype": "text/x-python",
   "name": "python",
   "nbconvert_exporter": "python",
   "pygments_lexer": "ipython3",
   "version": "3.11.5"
  }
 },
 "nbformat": 4,
 "nbformat_minor": 4
}
