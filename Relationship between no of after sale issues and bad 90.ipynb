{
 "cells": [
  {
   "cell_type": "code",
   "execution_count": 49,
   "metadata": {},
   "outputs": [],
   "source": [
    "import numpy as np, pandas as pd\n",
    "import seaborn as sns\n",
    "import matplotlib.pyplot as plt\n",
    "from scipy.stats import mannwhitneyu"
   ]
  },
  {
   "cell_type": "code",
   "execution_count": 50,
   "metadata": {},
   "outputs": [
    {
     "data": {
      "text/html": [
       "<div>\n",
       "<style scoped>\n",
       "    .dataframe tbody tr th:only-of-type {\n",
       "        vertical-align: middle;\n",
       "    }\n",
       "\n",
       "    .dataframe tbody tr th {\n",
       "        vertical-align: top;\n",
       "    }\n",
       "\n",
       "    .dataframe thead th {\n",
       "        text-align: right;\n",
       "    }\n",
       "</style>\n",
       "<table border=\"1\" class=\"dataframe\">\n",
       "  <thead>\n",
       "    <tr style=\"text-align: right;\">\n",
       "      <th></th>\n",
       "      <th>customer_id</th>\n",
       "      <th>product</th>\n",
       "      <th>status</th>\n",
       "      <th>frsh_created_at</th>\n",
       "      <th>failure_cause</th>\n",
       "      <th>issue</th>\n",
       "      <th>customer_name</th>\n",
       "      <th>aging_late</th>\n",
       "      <th>no_of_issues</th>\n",
       "      <th>bad  90</th>\n",
       "      <th>Risk</th>\n",
       "    </tr>\n",
       "  </thead>\n",
       "  <tbody>\n",
       "    <tr>\n",
       "      <th>0</th>\n",
       "      <td>0ce3ce2b</td>\n",
       "      <td>RainMaker 2 + TV</td>\n",
       "      <td>Advance</td>\n",
       "      <td>19/10/2021 10:39:37</td>\n",
       "      <td>NaN</td>\n",
       "      <td>NaN</td>\n",
       "      <td>Elvas Kipkemei</td>\n",
       "      <td>Current</td>\n",
       "      <td>1</td>\n",
       "      <td>0</td>\n",
       "      <td>Not At Risk</td>\n",
       "    </tr>\n",
       "    <tr>\n",
       "      <th>1</th>\n",
       "      <td>15JG4Q79</td>\n",
       "      <td>RainMaker 2 + TV</td>\n",
       "      <td>Advance</td>\n",
       "      <td>19/10/2021 10:57:44</td>\n",
       "      <td>NaN</td>\n",
       "      <td>NaN</td>\n",
       "      <td>John Kiplagat</td>\n",
       "      <td>Current</td>\n",
       "      <td>1</td>\n",
       "      <td>0</td>\n",
       "      <td>Not At Risk</td>\n",
       "    </tr>\n",
       "    <tr>\n",
       "      <th>2</th>\n",
       "      <td>b5b670e4</td>\n",
       "      <td>RainMaker 2 + TV</td>\n",
       "      <td>Advance</td>\n",
       "      <td>26/04/2021 06:01:46</td>\n",
       "      <td>NaN</td>\n",
       "      <td>NaN</td>\n",
       "      <td>James Chege</td>\n",
       "      <td>Current</td>\n",
       "      <td>1</td>\n",
       "      <td>0</td>\n",
       "      <td>Not At Risk</td>\n",
       "    </tr>\n",
       "    <tr>\n",
       "      <th>3</th>\n",
       "      <td>TCZXUQDM</td>\n",
       "      <td>RainMaker 2 + TV</td>\n",
       "      <td>Advance</td>\n",
       "      <td>19/10/2021 16:20:13</td>\n",
       "      <td>NaN</td>\n",
       "      <td>NaN</td>\n",
       "      <td>David Khaemba Kubabi</td>\n",
       "      <td>Current</td>\n",
       "      <td>1</td>\n",
       "      <td>0</td>\n",
       "      <td>Not At Risk</td>\n",
       "    </tr>\n",
       "    <tr>\n",
       "      <th>4</th>\n",
       "      <td>e714e9be</td>\n",
       "      <td>RainMaker 2 + TV</td>\n",
       "      <td>Advance</td>\n",
       "      <td>22/11/2021 07:28:01</td>\n",
       "      <td>NaN</td>\n",
       "      <td>NaN</td>\n",
       "      <td>Joseph Kemboi</td>\n",
       "      <td>Current</td>\n",
       "      <td>1</td>\n",
       "      <td>0</td>\n",
       "      <td>Not At Risk</td>\n",
       "    </tr>\n",
       "  </tbody>\n",
       "</table>\n",
       "</div>"
      ],
      "text/plain": [
       "  customer_id           product   status      frsh_created_at failure_cause  \\\n",
       "0    0ce3ce2b  RainMaker 2 + TV  Advance  19/10/2021 10:39:37           NaN   \n",
       "1    15JG4Q79  RainMaker 2 + TV  Advance  19/10/2021 10:57:44           NaN   \n",
       "2    b5b670e4  RainMaker 2 + TV  Advance  26/04/2021 06:01:46           NaN   \n",
       "3    TCZXUQDM  RainMaker 2 + TV  Advance  19/10/2021 16:20:13           NaN   \n",
       "4    e714e9be  RainMaker 2 + TV  Advance  22/11/2021 07:28:01           NaN   \n",
       "\n",
       "  issue         customer_name aging_late  no_of_issues  bad  90         Risk  \n",
       "0   NaN        Elvas Kipkemei    Current             1        0  Not At Risk  \n",
       "1   NaN         John Kiplagat    Current             1        0  Not At Risk  \n",
       "2   NaN           James Chege    Current             1        0  Not At Risk  \n",
       "3   NaN  David Khaemba Kubabi    Current             1        0  Not At Risk  \n",
       "4   NaN         Joseph Kemboi    Current             1        0  Not At Risk  "
      ]
     },
     "execution_count": 50,
     "metadata": {},
     "output_type": "execute_result"
    }
   ],
   "source": [
    "aftersale = pd.read_csv('C:/Users/sarah/Downloads/aftersale isues.csv')\n",
    "aftersale.head()"
   ]
  },
  {
   "cell_type": "code",
   "execution_count": 51,
   "metadata": {},
   "outputs": [
    {
     "data": {
      "text/plain": [
       "(0.0, 8.0)"
      ]
     },
     "execution_count": 51,
     "metadata": {},
     "output_type": "execute_result"
    },
    {
     "data": {
      "image/png": "[encoded data removed]",
      "text/plain": [
       "<Figure size 360x360 with 1 Axes>"
      ]
     },
     "metadata": {
      "needs_background": "light"
     },
     "output_type": "display_data"
    }
   ],
   "source": [
    "sns.catplot(x=\"Risk\", y=\"no_of_issues\", kind=\"box\", data=aftersale)\n",
    "plt.ylim(0, 8)"
   ]
  },
  {
   "cell_type": "code",
   "execution_count": 52,
   "metadata": {},
   "outputs": [
    {
     "data": {
      "text/plain": [
       "(0.0, 20.0)"
      ]
     },
     "execution_count": 52,
     "metadata": {},
     "output_type": "execute_result"
    },
    {
     "data": {
      "image/png": "[encoded data removed]",
      "text/plain": [
       "<Figure size 432x288 with 1 Axes>"
      ]
     },
     "metadata": {
      "needs_background": "light"
     },
     "output_type": "display_data"
    }
   ],
   "source": [
    "aftersale.groupby(\"Risk\").no_of_issues.plot(kind='kde')\n",
    "plt.xlim(0,20)"
   ]
  },
  {
   "cell_type": "code",
   "execution_count": 53,
   "metadata": {},
   "outputs": [
    {
     "data": {
      "text/html": [
       "<div>\n",
       "<style scoped>\n",
       "    .dataframe tbody tr th:only-of-type {\n",
       "        vertical-align: middle;\n",
       "    }\n",
       "\n",
       "    .dataframe tbody tr th {\n",
       "        vertical-align: top;\n",
       "    }\n",
       "\n",
       "    .dataframe thead th {\n",
       "        text-align: right;\n",
       "    }\n",
       "</style>\n",
       "<table border=\"1\" class=\"dataframe\">\n",
       "  <thead>\n",
       "    <tr style=\"text-align: right;\">\n",
       "      <th></th>\n",
       "      <th>Risk</th>\n",
       "      <th>count</th>\n",
       "      <th>mean</th>\n",
       "      <th>std</th>\n",
       "      <th>min</th>\n",
       "      <th>25%</th>\n",
       "      <th>50%</th>\n",
       "      <th>75%</th>\n",
       "      <th>max</th>\n",
       "    </tr>\n",
       "  </thead>\n",
       "  <tbody>\n",
       "    <tr>\n",
       "      <th>0</th>\n",
       "      <td>At Risk</td>\n",
       "      <td>727.0</td>\n",
       "      <td>2.055021</td>\n",
       "      <td>1.469525</td>\n",
       "      <td>1.0</td>\n",
       "      <td>1.0</td>\n",
       "      <td>2.0</td>\n",
       "      <td>3.0</td>\n",
       "      <td>12.0</td>\n",
       "    </tr>\n",
       "    <tr>\n",
       "      <th>1</th>\n",
       "      <td>Not At Risk</td>\n",
       "      <td>3128.0</td>\n",
       "      <td>1.972506</td>\n",
       "      <td>1.434826</td>\n",
       "      <td>1.0</td>\n",
       "      <td>1.0</td>\n",
       "      <td>1.0</td>\n",
       "      <td>2.0</td>\n",
       "      <td>15.0</td>\n",
       "    </tr>\n",
       "  </tbody>\n",
       "</table>\n",
       "</div>"
      ],
      "text/plain": [
       "          Risk   count      mean       std  min  25%  50%  75%   max\n",
       "0      At Risk   727.0  2.055021  1.469525  1.0  1.0  2.0  3.0  12.0\n",
       "1  Not At Risk  3128.0  1.972506  1.434826  1.0  1.0  1.0  2.0  15.0"
      ]
     },
     "execution_count": 53,
     "metadata": {},
     "output_type": "execute_result"
    }
   ],
   "source": [
    "aftersale.groupby(\"Risk\")[\"no_of_issues\"].describe().reset_index()"
   ]
  },
  {
   "cell_type": "code",
   "execution_count": 54,
   "metadata": {},
   "outputs": [],
   "source": [
    "aftersale_at_risk = aftersale[aftersale[\"Risk\"] == \"At Risk\"][\"no_of_issues\"]\n",
    "aftersale_not_at_risk = aftersale[aftersale[\"Risk\"] == \"Not At Risk\"][\"no_of_issues\"]"
   ]
  },
  {
   "cell_type": "code",
   "execution_count": 55,
   "metadata": {},
   "outputs": [
    {
     "name": "stdout",
     "output_type": "stream",
     "text": [
      "Statistics=1099829.000, p=0.068\n"
     ]
    }
   ],
   "source": [
    "stat, p = mannwhitneyu(aftersale_at_risk, aftersale_not_at_risk)\n",
    "print('Statistics=%.3f, p=%.3f' % (stat, p))"
   ]
  },
  {
   "cell_type": "code",
   "execution_count": null,
   "metadata": {},
   "outputs": [],
   "source": []
  }
 ],
 "metadata": {
  "kernelspec": {
   "display_name": "Python 3",
   "language": "python",
   "name": "python3"
  },
  "language_info": {
   "codemirror_mode": {
    "name": "ipython",
    "version": 3
   },
   "file_extension": ".py",
   "mimetype": "text/x-python",
   "name": "python",
   "nbconvert_exporter": "python",
   "pygments_lexer": "ipython3",
   "version": "3.8.3"
  }
 },
 "nbformat": 4,
 "nbformat_minor": 4
}
