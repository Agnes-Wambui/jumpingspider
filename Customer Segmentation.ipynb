{
 "cells": [
  {
   "cell_type": "code",
   "execution_count": 2,
   "metadata": {},
   "outputs": [
    {
     "data": {
      "text/html": [
       "<div>\n",
       "<style scoped>\n",
       "    .dataframe tbody tr th:only-of-type {\n",
       "        vertical-align: middle;\n",
       "    }\n",
       "\n",
       "    .dataframe tbody tr th {\n",
       "        vertical-align: top;\n",
       "    }\n",
       "\n",
       "    .dataframe thead th {\n",
       "        text-align: right;\n",
       "    }\n",
       "</style>\n",
       "<table border=\"1\" class=\"dataframe\">\n",
       "  <thead>\n",
       "    <tr style=\"text-align: right;\">\n",
       "      <th></th>\n",
       "      <th>customer_id</th>\n",
       "      <th>status</th>\n",
       "      <th>account_id</th>\n",
       "      <th>product_units</th>\n",
       "      <th>date</th>\n",
       "      <th>customer_names</th>\n",
       "      <th>product</th>\n",
       "      <th>account_type</th>\n",
       "      <th>customer_type</th>\n",
       "      <th>total_amount</th>\n",
       "      <th>...</th>\n",
       "      <th>town</th>\n",
       "      <th>sale_date</th>\n",
       "      <th>age</th>\n",
       "      <th>gender</th>\n",
       "      <th>promo_payplan</th>\n",
       "      <th>discount</th>\n",
       "      <th>promo_check</th>\n",
       "      <th>promo</th>\n",
       "      <th>customer_source</th>\n",
       "      <th>Conversion Time</th>\n",
       "    </tr>\n",
       "  </thead>\n",
       "  <tbody>\n",
       "    <tr>\n",
       "      <th>0</th>\n",
       "      <td>709ead92</td>\n",
       "      <td>NaN</td>\n",
       "      <td>0FC86540</td>\n",
       "      <td>1</td>\n",
       "      <td>12/04/2018 0:00:00</td>\n",
       "      <td>Charles Muange</td>\n",
       "      <td>Rainmaker</td>\n",
       "      <td>CASH</td>\n",
       "      <td>Individual</td>\n",
       "      <td>50000</td>\n",
       "      <td>...</td>\n",
       "      <td>NaN</td>\n",
       "      <td>12/04/2018 0:00:00</td>\n",
       "      <td>NaN</td>\n",
       "      <td>NaN</td>\n",
       "      <td>NaN</td>\n",
       "      <td>0</td>\n",
       "      <td>0</td>\n",
       "      <td>0</td>\n",
       "      <td>NaN</td>\n",
       "      <td>0.0</td>\n",
       "    </tr>\n",
       "    <tr>\n",
       "      <th>1</th>\n",
       "      <td>7BB639D0</td>\n",
       "      <td>NaN</td>\n",
       "      <td>0rnwpymN</td>\n",
       "      <td>1</td>\n",
       "      <td>19/01/2018 00:00:00</td>\n",
       "      <td>MACARIA SAMMY KIYO</td>\n",
       "      <td>Rainmaker</td>\n",
       "      <td>CASH</td>\n",
       "      <td>Individual</td>\n",
       "      <td>50000</td>\n",
       "      <td>...</td>\n",
       "      <td>NaN</td>\n",
       "      <td>19/01/2018 00:00:00</td>\n",
       "      <td>NaN</td>\n",
       "      <td>NaN</td>\n",
       "      <td>NaN</td>\n",
       "      <td>0</td>\n",
       "      <td>0</td>\n",
       "      <td>0</td>\n",
       "      <td>NaN</td>\n",
       "      <td>0.0</td>\n",
       "    </tr>\n",
       "    <tr>\n",
       "      <th>2</th>\n",
       "      <td>11Ffer4X</td>\n",
       "      <td>NaN</td>\n",
       "      <td>0WZdyMP4</td>\n",
       "      <td>1</td>\n",
       "      <td>28/08/2018 00:00:00</td>\n",
       "      <td>Fred Muoka</td>\n",
       "      <td>Rainmaker</td>\n",
       "      <td>CASH</td>\n",
       "      <td>Individual</td>\n",
       "      <td>50000</td>\n",
       "      <td>...</td>\n",
       "      <td>NaN</td>\n",
       "      <td>28/08/2018 15:04:00</td>\n",
       "      <td>NaN</td>\n",
       "      <td>NaN</td>\n",
       "      <td>NaN</td>\n",
       "      <td>0</td>\n",
       "      <td>0</td>\n",
       "      <td>0</td>\n",
       "      <td>NaN</td>\n",
       "      <td>0.0</td>\n",
       "    </tr>\n",
       "    <tr>\n",
       "      <th>3</th>\n",
       "      <td>v6iGCPzB</td>\n",
       "      <td>NaN</td>\n",
       "      <td>1EC21A07</td>\n",
       "      <td>1</td>\n",
       "      <td>24/10/2018 00:00:00</td>\n",
       "      <td>Francis Oulu</td>\n",
       "      <td>Rainmaker</td>\n",
       "      <td>CASH</td>\n",
       "      <td>Individual</td>\n",
       "      <td>50000</td>\n",
       "      <td>...</td>\n",
       "      <td>NaN</td>\n",
       "      <td>24/10/2018 12:38:00</td>\n",
       "      <td>NaN</td>\n",
       "      <td>NaN</td>\n",
       "      <td>NaN</td>\n",
       "      <td>0</td>\n",
       "      <td>0</td>\n",
       "      <td>0</td>\n",
       "      <td>NaN</td>\n",
       "      <td>0.0</td>\n",
       "    </tr>\n",
       "    <tr>\n",
       "      <th>4</th>\n",
       "      <td>1238AD44</td>\n",
       "      <td>NaN</td>\n",
       "      <td>1PGMRLP1</td>\n",
       "      <td>1</td>\n",
       "      <td>09/10/2017 0:00:00</td>\n",
       "      <td>Emmanuel Lomoit</td>\n",
       "      <td>Rainmaker</td>\n",
       "      <td>CASH</td>\n",
       "      <td>Individual</td>\n",
       "      <td>50000</td>\n",
       "      <td>...</td>\n",
       "      <td>NaN</td>\n",
       "      <td>09/10/2017 0:00:00</td>\n",
       "      <td>NaN</td>\n",
       "      <td>NaN</td>\n",
       "      <td>NaN</td>\n",
       "      <td>0</td>\n",
       "      <td>0</td>\n",
       "      <td>0</td>\n",
       "      <td>NaN</td>\n",
       "      <td>0.0</td>\n",
       "    </tr>\n",
       "  </tbody>\n",
       "</table>\n",
       "<p>5 rows × 26 columns</p>\n",
       "</div>"
      ],
      "text/plain": [
       "  customer_id status account_id  product_units                 date  \\\n",
       "0    709ead92    NaN   0FC86540              1   12/04/2018 0:00:00   \n",
       "1    7BB639D0    NaN   0rnwpymN              1  19/01/2018 00:00:00   \n",
       "2    11Ffer4X    NaN   0WZdyMP4              1  28/08/2018 00:00:00   \n",
       "3    v6iGCPzB    NaN   1EC21A07              1  24/10/2018 00:00:00   \n",
       "4    1238AD44    NaN   1PGMRLP1              1   09/10/2017 0:00:00   \n",
       "\n",
       "       customer_names    product account_type customer_type  total_amount  \\\n",
       "0      Charles Muange  Rainmaker         CASH    Individual         50000   \n",
       "1  MACARIA SAMMY KIYO  Rainmaker         CASH    Individual         50000   \n",
       "2          Fred Muoka  Rainmaker         CASH    Individual         50000   \n",
       "3        Francis Oulu  Rainmaker         CASH    Individual         50000   \n",
       "4     Emmanuel Lomoit  Rainmaker         CASH    Individual         50000   \n",
       "\n",
       "   ... town            sale_date  age gender promo_payplan  discount  \\\n",
       "0  ...  NaN   12/04/2018 0:00:00  NaN    NaN           NaN         0   \n",
       "1  ...  NaN  19/01/2018 00:00:00  NaN    NaN           NaN         0   \n",
       "2  ...  NaN  28/08/2018 15:04:00  NaN    NaN           NaN         0   \n",
       "3  ...  NaN  24/10/2018 12:38:00  NaN    NaN           NaN         0   \n",
       "4  ...  NaN   09/10/2017 0:00:00  NaN    NaN           NaN         0   \n",
       "\n",
       "  promo_check promo customer_source Conversion Time  \n",
       "0           0     0             NaN             0.0  \n",
       "1           0     0             NaN             0.0  \n",
       "2           0     0             NaN             0.0  \n",
       "3           0     0             NaN             0.0  \n",
       "4           0     0             NaN             0.0  \n",
       "\n",
       "[5 rows x 26 columns]"
      ]
     },
     "execution_count": 2,
     "metadata": {},
     "output_type": "execute_result"
    }
   ],
   "source": [
    "import numpy as np, pandas as pd\n",
    "import seaborn as sns\n",
    "import matplotlib.pyplot as plt\n",
    "import re\n",
    "import warnings\n",
    "warnings.filterwarnings(\"ignore\")\n",
    "sales = pd.read_csv('C:/Users/sarah/Downloads/sales_data5.csv')\n",
    "\n",
    "sales.head()"
   ]
  },
  {
   "cell_type": "code",
   "execution_count": 3,
   "metadata": {},
   "outputs": [
    {
     "name": "stdout",
     "output_type": "stream",
     "text": [
      "['customer_id', 'status', 'account_id', 'product_units', 'date', 'customer_names', 'product', 'account_type', 'customer_type', 'total_amount', 'region', 'county', 'payplan_name', 'department_name', 'employee_sa', 'total_price', 'town', 'sale_date', 'age', 'gender', 'promo_payplan', 'discount', 'promo_check', 'promo', 'customer_source', 'Conversion Time']\n"
     ]
    }
   ],
   "source": [
    "print(list(sales.columns))"
   ]
  },
  {
   "cell_type": "code",
   "execution_count": 4,
   "metadata": {},
   "outputs": [
    {
     "name": "stdout",
     "output_type": "stream",
     "text": [
      "['0' '18 to 30 years' '1947-01-01 12:00:00' '1950-01-01 14:50:53' '1959'\n",
      " '1961-10-08 15:24:47' '1962-08-25 16:25:56' '1963-06-04 17:45:38'\n",
      " '1965-05-14 12:10:23' '1966' '1967-01-01 0:00:00' '1970' '1973'\n",
      " '1975-01-01 13:06:11' '1975-11-18 16:28:45' '1977-07-10 16:46:55'\n",
      " '1977-10-30 11:38:55' '1977-12-22 12:20:59' '1981-12-12 10:49:21'\n",
      " '1986-06-03 12:49:15' '2020-05-13 11:45:58' '2020-05-13 12:55:45'\n",
      " '2020-05-13 14:05:19' '2020-05-13 14:12:32' '2020-05-13 15:24:19'\n",
      " '2020-05-13 15:30:46' '2020-05-13 15:48:23' '2020-05-13 17:40:25'\n",
      " '2020-05-14 12:06:21' '2020-05-14 12:22:51' '2020-05-14 12:29:09'\n",
      " '2020-05-14 15:15:11' '2020-05-14 15:53:34' '2020-05-15 15:25:21'\n",
      " '2020-05-15 16:14:58' '2020-05-20 15:59:02' '2020-05-21 10:57:16'\n",
      " '2020-06-09 11:49:48' '2020-06-09 14:25:23' '2020-06-09 15:00:38'\n",
      " '2020-06-10 13:02:26' '2020-06-24 11:12:58' '31 to 45 years'\n",
      " '46 to 55 years' 'Older than 55 years' 'Younger than 18' 'nan']\n"
     ]
    }
   ],
   "source": [
    "print(np.unique(sales['age'].tolist()))"
   ]
  },
  {
   "cell_type": "code",
   "execution_count": 5,
   "metadata": {},
   "outputs": [],
   "source": [
    "sales['age'] = sales['age'].replace(['0','1947-01-01 12:00:00','1950-01-01 14:50:53','1959',\n",
    " '1961-10-08 15:24:47','1962-08-25 16:25:56','1963-06-04 17:45:38',\n",
    " '1965-05-14 12:10:23','1966','1967-01-01 00:00:00','1967-01-01 0:00:00','1970','1973',\n",
    " '1975-01-01 13:06:11','1975-11-18 16:28:45','1977-07-10 16:46:55',\n",
    " '1977-10-30 11:38:55','1977-12-22 12:20:59','1981-12-12 10:49:21',\n",
    " '1986-06-03 12:49:15','2020-05-13 11:45:58','2020-05-13 12:55:45',\n",
    " '2020-05-13 14:05:19','2020-05-13 14:12:32','2020-05-13 15:24:19',\n",
    " '2020-05-13 15:30:46','2020-05-13 15:48:23','2020-05-13 17:40:25',\n",
    " '2020-05-14 12:06:21','2020-05-14 12:22:51','2020-05-14 12:29:09',\n",
    " '2020-05-14 15:15:11','2020-05-14 15:53:34','2020-05-15 15:25:21',\n",
    " '2020-05-15 16:14:58','2020-05-20 15:59:02','2020-05-21 10:57:16',\n",
    " '2020-06-09 11:49:48','2020-06-09 14:25:23','2020-06-09 15:00:38',\n",
    " '2020-06-10 13:02:26','2020-06-24 11:12:58' ],np.nan)"
   ]
  },
  {
   "cell_type": "code",
   "execution_count": 6,
   "metadata": {},
   "outputs": [
    {
     "data": {
      "text/html": [
       "<div>\n",
       "<style scoped>\n",
       "    .dataframe tbody tr th:only-of-type {\n",
       "        vertical-align: middle;\n",
       "    }\n",
       "\n",
       "    .dataframe tbody tr th {\n",
       "        vertical-align: top;\n",
       "    }\n",
       "\n",
       "    .dataframe thead th {\n",
       "        text-align: right;\n",
       "    }\n",
       "</style>\n",
       "<table border=\"1\" class=\"dataframe\">\n",
       "  <thead>\n",
       "    <tr style=\"text-align: right;\">\n",
       "      <th></th>\n",
       "      <th>product_units</th>\n",
       "      <th>total_amount</th>\n",
       "      <th>total_price</th>\n",
       "      <th>promo_payplan</th>\n",
       "      <th>discount</th>\n",
       "      <th>promo_check</th>\n",
       "      <th>promo</th>\n",
       "      <th>Conversion Time</th>\n",
       "    </tr>\n",
       "  </thead>\n",
       "  <tbody>\n",
       "    <tr>\n",
       "      <th>count</th>\n",
       "      <td>11696.000000</td>\n",
       "      <td>1.169600e+04</td>\n",
       "      <td>1.169600e+04</td>\n",
       "      <td>1174.0</td>\n",
       "      <td>11696.000000</td>\n",
       "      <td>11696.000000</td>\n",
       "      <td>11696.000000</td>\n",
       "      <td>11670.000000</td>\n",
       "    </tr>\n",
       "    <tr>\n",
       "      <th>mean</th>\n",
       "      <td>1.010089</td>\n",
       "      <td>5.852721e+04</td>\n",
       "      <td>1.232255e+05</td>\n",
       "      <td>1.0</td>\n",
       "      <td>0.073529</td>\n",
       "      <td>0.066689</td>\n",
       "      <td>0.163902</td>\n",
       "      <td>1163.869580</td>\n",
       "    </tr>\n",
       "    <tr>\n",
       "      <th>std</th>\n",
       "      <td>0.161441</td>\n",
       "      <td>4.772388e+04</td>\n",
       "      <td>4.474006e+04</td>\n",
       "      <td>0.0</td>\n",
       "      <td>0.286024</td>\n",
       "      <td>0.249494</td>\n",
       "      <td>0.374794</td>\n",
       "      <td>3377.471988</td>\n",
       "    </tr>\n",
       "    <tr>\n",
       "      <th>min</th>\n",
       "      <td>1.000000</td>\n",
       "      <td>1.594000e+03</td>\n",
       "      <td>1.000000e+04</td>\n",
       "      <td>1.0</td>\n",
       "      <td>0.000000</td>\n",
       "      <td>0.000000</td>\n",
       "      <td>0.000000</td>\n",
       "      <td>0.000000</td>\n",
       "    </tr>\n",
       "    <tr>\n",
       "      <th>25%</th>\n",
       "      <td>1.000000</td>\n",
       "      <td>2.940000e+04</td>\n",
       "      <td>8.680000e+04</td>\n",
       "      <td>1.0</td>\n",
       "      <td>0.000000</td>\n",
       "      <td>0.000000</td>\n",
       "      <td>0.000000</td>\n",
       "      <td>3.000000</td>\n",
       "    </tr>\n",
       "    <tr>\n",
       "      <th>50%</th>\n",
       "      <td>1.000000</td>\n",
       "      <td>5.000000e+04</td>\n",
       "      <td>1.360000e+05</td>\n",
       "      <td>1.0</td>\n",
       "      <td>0.000000</td>\n",
       "      <td>0.000000</td>\n",
       "      <td>0.000000</td>\n",
       "      <td>43.000000</td>\n",
       "    </tr>\n",
       "    <tr>\n",
       "      <th>75%</th>\n",
       "      <td>1.000000</td>\n",
       "      <td>7.740000e+04</td>\n",
       "      <td>1.503000e+05</td>\n",
       "      <td>1.0</td>\n",
       "      <td>0.000000</td>\n",
       "      <td>0.000000</td>\n",
       "      <td>0.000000</td>\n",
       "      <td>502.000000</td>\n",
       "    </tr>\n",
       "    <tr>\n",
       "      <th>max</th>\n",
       "      <td>7.000000</td>\n",
       "      <td>1.500000e+06</td>\n",
       "      <td>1.030151e+06</td>\n",
       "      <td>1.0</td>\n",
       "      <td>2.000000</td>\n",
       "      <td>1.000000</td>\n",
       "      <td>4.000000</td>\n",
       "      <td>36059.000000</td>\n",
       "    </tr>\n",
       "  </tbody>\n",
       "</table>\n",
       "</div>"
      ],
      "text/plain": [
       "       product_units  total_amount   total_price  promo_payplan      discount  \\\n",
       "count   11696.000000  1.169600e+04  1.169600e+04         1174.0  11696.000000   \n",
       "mean        1.010089  5.852721e+04  1.232255e+05            1.0      0.073529   \n",
       "std         0.161441  4.772388e+04  4.474006e+04            0.0      0.286024   \n",
       "min         1.000000  1.594000e+03  1.000000e+04            1.0      0.000000   \n",
       "25%         1.000000  2.940000e+04  8.680000e+04            1.0      0.000000   \n",
       "50%         1.000000  5.000000e+04  1.360000e+05            1.0      0.000000   \n",
       "75%         1.000000  7.740000e+04  1.503000e+05            1.0      0.000000   \n",
       "max         7.000000  1.500000e+06  1.030151e+06            1.0      2.000000   \n",
       "\n",
       "        promo_check         promo  Conversion Time  \n",
       "count  11696.000000  11696.000000     11670.000000  \n",
       "mean       0.066689      0.163902      1163.869580  \n",
       "std        0.249494      0.374794      3377.471988  \n",
       "min        0.000000      0.000000         0.000000  \n",
       "25%        0.000000      0.000000         3.000000  \n",
       "50%        0.000000      0.000000        43.000000  \n",
       "75%        0.000000      0.000000       502.000000  \n",
       "max        1.000000      4.000000     36059.000000  "
      ]
     },
     "execution_count": 6,
     "metadata": {},
     "output_type": "execute_result"
    }
   ],
   "source": [
    "sales.describe()"
   ]
  },
  {
   "cell_type": "markdown",
   "metadata": {},
   "source": [
    "# Exploring the Data "
   ]
  },
  {
   "cell_type": "code",
   "execution_count": 7,
   "metadata": {},
   "outputs": [
    {
     "data": {
      "text/plain": [
       "Text(0.5, 1.0, 'Distribution of Gender')"
      ]
     },
     "execution_count": 7,
     "metadata": {},
     "output_type": "execute_result"
    },
    {
     "data": {
      "image/png": "[encoded data removed]",
      "text/plain": [
       "<Figure size 432x288 with 1 Axes>"
      ]
     },
     "metadata": {
      "needs_background": "light"
     },
     "output_type": "display_data"
    }
   ],
   "source": [
    "# See the distribution of gender to recognize different distributions\n",
    "sns.countplot(x='gender', data=sales)\n",
    "plt.title('Distribution of Gender')"
   ]
  },
  {
   "cell_type": "code",
   "execution_count": 8,
   "metadata": {},
   "outputs": [
    {
     "data": {
      "text/plain": [
       "(array([ 0,  1,  2,  3,  4,  5,  6,  7,  8,  9, 10, 11, 12, 13, 14, 15, 16,\n",
       "        17, 18, 19, 20, 21]),\n",
       " <a list of 22 Text major ticklabel objects>)"
      ]
     },
     "execution_count": 8,
     "metadata": {},
     "output_type": "execute_result"
    },
    {
     "data": {
      "image/png": "[encoded data removed]",
      "text/plain": [
       "<Figure size 432x288 with 1 Axes>"
      ]
     },
     "metadata": {
      "needs_background": "light"
     },
     "output_type": "display_data"
    }
   ],
   "source": [
    "# See the distribution of product to recognize different distributions\n",
    "sns.countplot(x='product', data=sales)\n",
    "plt.title('Distribution of Product')\n",
    "plt.xticks(rotation=90)"
   ]
  },
  {
   "cell_type": "code",
   "execution_count": 9,
   "metadata": {},
   "outputs": [
    {
     "data": {
      "text/plain": [
       "(array([0, 1, 2, 3, 4, 5, 6, 7, 8]),\n",
       " <a list of 9 Text major ticklabel objects>)"
      ]
     },
     "execution_count": 9,
     "metadata": {},
     "output_type": "execute_result"
    },
    {
     "data": {
      "image/png": "[encoded data removed]",
      "text/plain": [
       "<Figure size 432x288 with 1 Axes>"
      ]
     },
     "metadata": {
      "needs_background": "light"
     },
     "output_type": "display_data"
    }
   ],
   "source": [
    "# See the distribution of region to recognize different distributions\n",
    "sns.countplot(x='region', data=sales)\n",
    "plt.title('Distribution of Region')\n",
    "plt.xticks(rotation=90)"
   ]
  },
  {
   "cell_type": "code",
   "execution_count": 10,
   "metadata": {},
   "outputs": [
    {
     "data": {
      "text/plain": [
       "(array([ 0,  1,  2,  3,  4,  5,  6,  7,  8,  9, 10, 11, 12, 13, 14, 15, 16,\n",
       "        17, 18, 19, 20, 21, 22, 23, 24, 25, 26, 27, 28, 29, 30, 31, 32, 33,\n",
       "        34, 35, 36, 37, 38, 39, 40, 41, 42, 43]),\n",
       " <a list of 44 Text major ticklabel objects>)"
      ]
     },
     "execution_count": 10,
     "metadata": {},
     "output_type": "execute_result"
    },
    {
     "data": {
      "image/png": "[encoded data removed]",
      "text/plain": [
       "<Figure size 432x288 with 1 Axes>"
      ]
     },
     "metadata": {
      "needs_background": "light"
     },
     "output_type": "display_data"
    }
   ],
   "source": [
    "# See the distribution of region to recognize different distributions\n",
    "sns.countplot(x='county', data=sales)\n",
    "plt.title('Distribution of County')\n",
    "plt.xticks(rotation=90)"
   ]
  },
  {
   "cell_type": "code",
   "execution_count": 11,
   "metadata": {},
   "outputs": [
    {
     "data": {
      "text/plain": [
       "(array([0, 1, 2, 3, 4]), <a list of 5 Text major ticklabel objects>)"
      ]
     },
     "execution_count": 11,
     "metadata": {},
     "output_type": "execute_result"
    },
    {
     "data": {
      "image/png": "[encoded data removed]",
      "text/plain": [
       "<Figure size 432x288 with 1 Axes>"
      ]
     },
     "metadata": {
      "needs_background": "light"
     },
     "output_type": "display_data"
    }
   ],
   "source": [
    "# See the distribution of gender to recognize different distributions\n",
    "sns.countplot(x='age', data=sales)\n",
    "plt.title('Distribution of Age')\n",
    "plt.xticks(rotation=90)"
   ]
  },
  {
   "cell_type": "code",
   "execution_count": 12,
   "metadata": {},
   "outputs": [
    {
     "data": {
      "text/plain": [
       "(array([0, 1]), <a list of 2 Text major ticklabel objects>)"
      ]
     },
     "execution_count": 12,
     "metadata": {},
     "output_type": "execute_result"
    },
    {
     "data": {
      "image/png": "[encoded data removed]",
      "text/plain": [
       "<Figure size 432x288 with 1 Axes>"
      ]
     },
     "metadata": {
      "needs_background": "light"
     },
     "output_type": "display_data"
    }
   ],
   "source": [
    "# See the distribution of account type to recognize different distributions\n",
    "sns.countplot(x='account_type', data=sales)\n",
    "plt.title('Distribution of Account Type')\n",
    "plt.xticks(rotation=90)"
   ]
  },
  {
   "cell_type": "code",
   "execution_count": 13,
   "metadata": {},
   "outputs": [
    {
     "data": {
      "text/plain": [
       "Text(0.5, 1.0, 'Distribution of Customer Type')"
      ]
     },
     "execution_count": 13,
     "metadata": {},
     "output_type": "execute_result"
    },
    {
     "data": {
      "image/png": "[encoded data removed]",
      "text/plain": [
       "<Figure size 432x288 with 1 Axes>"
      ]
     },
     "metadata": {
      "needs_background": "light"
     },
     "output_type": "display_data"
    }
   ],
   "source": [
    "# See the distribution of customer type to recognize different distributions\n",
    "sns.countplot(x='customer_type', data=sales)\n",
    "plt.title('Distribution of Customer Type')"
   ]
  },
  {
   "cell_type": "code",
   "execution_count": 14,
   "metadata": {},
   "outputs": [
    {
     "data": {
      "text/plain": [
       "(array([0, 1, 2, 3, 4, 5, 6]), <a list of 7 Text major ticklabel objects>)"
      ]
     },
     "execution_count": 14,
     "metadata": {},
     "output_type": "execute_result"
    },
    {
     "data": {
      "image/png": "[encoded data removed]",
      "text/plain": [
       "<Figure size 432x288 with 1 Axes>"
      ]
     },
     "metadata": {
      "needs_background": "light"
     },
     "output_type": "display_data"
    }
   ],
   "source": [
    "# See the distribution of units to recognize different distributions\n",
    "sns.countplot(x='product_units', data=sales)\n",
    "plt.title('Distribution of Units')\n",
    "plt.xticks(rotation=90)"
   ]
  },
  {
   "cell_type": "code",
   "execution_count": 15,
   "metadata": {},
   "outputs": [
    {
     "data": {
      "text/plain": [
       "Text(0.5, 0, 'total_price')"
      ]
     },
     "execution_count": 15,
     "metadata": {},
     "output_type": "execute_result"
    },
    {
     "data": {
      "image/png": "[encoded data removed]",
      "text/plain": [
       "<Figure size 432x288 with 1 Axes>"
      ]
     },
     "metadata": {
      "needs_background": "light"
     },
     "output_type": "display_data"
    }
   ],
   "source": [
    "# Create a histogram of total price\n",
    "sales.hist('total_price', bins=100)\n",
    "plt.xlim(left=0,right = 250000)\n",
    "plt.title('Distribution of Total Price')\n",
    "plt.xlabel('total_price')"
   ]
  },
  {
   "cell_type": "code",
   "execution_count": 16,
   "metadata": {},
   "outputs": [
    {
     "data": {
      "text/plain": [
       "Text(0.5, 0, 'Conversion Time')"
      ]
     },
     "execution_count": 16,
     "metadata": {},
     "output_type": "execute_result"
    },
    {
     "data": {
      "image/png": "[encoded data removed]",
      "text/plain": [
       "<Figure size 432x288 with 1 Axes>"
      ]
     },
     "metadata": {
      "needs_background": "light"
     },
     "output_type": "display_data"
    }
   ],
   "source": [
    "# Create a histogram of total price\n",
    "sales.hist('Conversion Time', bins=100)\n",
    "plt.xlim(left=0,right = 20000)\n",
    "plt.title('Distribution of Conversion Time')\n",
    "plt.xlabel('Conversion Time')"
   ]
  },
  {
   "cell_type": "code",
   "execution_count": 17,
   "metadata": {},
   "outputs": [
    {
     "data": {
      "text/plain": [
       "(array([ 0,  1,  2,  3,  4,  5,  6,  7,  8,  9, 10, 11, 12, 13, 14, 15, 16,\n",
       "        17, 18, 19, 20, 21, 22, 23, 24, 25, 26, 27, 28, 29, 30, 31, 32, 33]),\n",
       " <a list of 34 Text major ticklabel objects>)"
      ]
     },
     "execution_count": 17,
     "metadata": {},
     "output_type": "execute_result"
    },
    {
     "data": {
      "image/png": "[encoded data removed]",
      "text/plain": [
       "<Figure size 432x288 with 1 Axes>"
      ]
     },
     "metadata": {
      "needs_background": "light"
     },
     "output_type": "display_data"
    }
   ],
   "source": [
    "# See the distribution of customer source to recognize different distributions\n",
    "sns.countplot(x='customer_source', data=sales)\n",
    "plt.title('Distribution of Customer Source')\n",
    "plt.xticks(rotation=90)"
   ]
  },
  {
   "cell_type": "code",
   "execution_count": 18,
   "metadata": {},
   "outputs": [
    {
     "data": {
      "text/plain": [
       "(array([ 0,  1,  2,  3,  4,  5,  6,  7,  8,  9, 10, 11, 12, 13, 14, 15, 16]),\n",
       " <a list of 17 Text major ticklabel objects>)"
      ]
     },
     "execution_count": 18,
     "metadata": {},
     "output_type": "execute_result"
    },
    {
     "data": {
      "image/png": "[encoded data removed]",
      "text/plain": [
       "<Figure size 432x288 with 1 Axes>"
      ]
     },
     "metadata": {
      "needs_background": "light"
     },
     "output_type": "display_data"
    }
   ],
   "source": [
    "# See the distribution of department name to recognize different distributions\n",
    "sns.countplot(x='department_name', data=sales)\n",
    "plt.title('Distribution of Department Name')\n",
    "plt.xticks(rotation=90)"
   ]
  },
  {
   "cell_type": "code",
   "execution_count": 19,
   "metadata": {},
   "outputs": [],
   "source": [
    "sales2 = sales[['product_units','product', 'account_type', 'town','department_name','total_price','age', 'gender','customer_source','Conversion Time']]"
   ]
  },
  {
   "cell_type": "code",
   "execution_count": 20,
   "metadata": {},
   "outputs": [
    {
     "data": {
      "text/plain": [
       "(11696, 10)"
      ]
     },
     "execution_count": 20,
     "metadata": {},
     "output_type": "execute_result"
    }
   ],
   "source": [
    "sales2.shape"
   ]
  },
  {
   "cell_type": "code",
   "execution_count": 21,
   "metadata": {},
   "outputs": [
    {
     "data": {
      "text/plain": [
       "(6207, 10)"
      ]
     },
     "execution_count": 21,
     "metadata": {},
     "output_type": "execute_result"
    }
   ],
   "source": [
    "sales3 = sales2.dropna()\n",
    "sales3.shape"
   ]
  },
  {
   "cell_type": "code",
   "execution_count": 22,
   "metadata": {},
   "outputs": [
    {
     "data": {
      "text/html": [
       "<div>\n",
       "<style scoped>\n",
       "    .dataframe tbody tr th:only-of-type {\n",
       "        vertical-align: middle;\n",
       "    }\n",
       "\n",
       "    .dataframe tbody tr th {\n",
       "        vertical-align: top;\n",
       "    }\n",
       "\n",
       "    .dataframe thead th {\n",
       "        text-align: right;\n",
       "    }\n",
       "</style>\n",
       "<table border=\"1\" class=\"dataframe\">\n",
       "  <thead>\n",
       "    <tr style=\"text-align: right;\">\n",
       "      <th></th>\n",
       "      <th>product_units</th>\n",
       "      <th>product</th>\n",
       "      <th>account_type</th>\n",
       "      <th>town</th>\n",
       "      <th>department_name</th>\n",
       "      <th>total_price</th>\n",
       "      <th>age</th>\n",
       "      <th>gender</th>\n",
       "      <th>customer_source</th>\n",
       "      <th>Conversion Time</th>\n",
       "    </tr>\n",
       "  </thead>\n",
       "  <tbody>\n",
       "    <tr>\n",
       "      <th>4338</th>\n",
       "      <td>1</td>\n",
       "      <td>RainMaker 2C kubwa</td>\n",
       "      <td>PAYG</td>\n",
       "      <td>Kericho</td>\n",
       "      <td>HQ Tele Sales</td>\n",
       "      <td>118375</td>\n",
       "      <td>31 to 45 years</td>\n",
       "      <td>Male</td>\n",
       "      <td>Facebook</td>\n",
       "      <td>451.0</td>\n",
       "    </tr>\n",
       "    <tr>\n",
       "      <th>4339</th>\n",
       "      <td>1</td>\n",
       "      <td>CS + TV</td>\n",
       "      <td>PAYG</td>\n",
       "      <td>lavington</td>\n",
       "      <td>HQ Tele Sales</td>\n",
       "      <td>119375</td>\n",
       "      <td>31 to 45 years</td>\n",
       "      <td>Female</td>\n",
       "      <td>Facebook</td>\n",
       "      <td>1.0</td>\n",
       "    </tr>\n",
       "    <tr>\n",
       "      <th>4340</th>\n",
       "      <td>1</td>\n",
       "      <td>CS + TV</td>\n",
       "      <td>PAYG</td>\n",
       "      <td>MUMIAS</td>\n",
       "      <td>HQ Tele Sales</td>\n",
       "      <td>119375</td>\n",
       "      <td>31 to 45 years</td>\n",
       "      <td>Male</td>\n",
       "      <td>Facebook</td>\n",
       "      <td>738.0</td>\n",
       "    </tr>\n",
       "    <tr>\n",
       "      <th>4341</th>\n",
       "      <td>1</td>\n",
       "      <td>RainMaker 2C kubwa</td>\n",
       "      <td>PAYG</td>\n",
       "      <td>Kitui</td>\n",
       "      <td>HQ Tele Sales</td>\n",
       "      <td>118375</td>\n",
       "      <td>31 to 45 years</td>\n",
       "      <td>Male</td>\n",
       "      <td>Facebook</td>\n",
       "      <td>5.0</td>\n",
       "    </tr>\n",
       "    <tr>\n",
       "      <th>4342</th>\n",
       "      <td>1</td>\n",
       "      <td>CS + TV</td>\n",
       "      <td>PAYG</td>\n",
       "      <td>joska</td>\n",
       "      <td>HQ Tele Sales</td>\n",
       "      <td>112175</td>\n",
       "      <td>31 to 45 years</td>\n",
       "      <td>Female</td>\n",
       "      <td>Facebook</td>\n",
       "      <td>8.0</td>\n",
       "    </tr>\n",
       "  </tbody>\n",
       "</table>\n",
       "</div>"
      ],
      "text/plain": [
       "      product_units             product account_type       town  \\\n",
       "4338              1  RainMaker 2C kubwa         PAYG    Kericho   \n",
       "4339              1             CS + TV         PAYG  lavington   \n",
       "4340              1             CS + TV         PAYG     MUMIAS   \n",
       "4341              1  RainMaker 2C kubwa         PAYG      Kitui   \n",
       "4342              1             CS + TV         PAYG      joska   \n",
       "\n",
       "     department_name  total_price             age  gender customer_source  \\\n",
       "4338   HQ Tele Sales       118375  31 to 45 years    Male        Facebook   \n",
       "4339   HQ Tele Sales       119375  31 to 45 years  Female        Facebook   \n",
       "4340   HQ Tele Sales       119375  31 to 45 years    Male        Facebook   \n",
       "4341   HQ Tele Sales       118375  31 to 45 years    Male        Facebook   \n",
       "4342   HQ Tele Sales       112175  31 to 45 years  Female        Facebook   \n",
       "\n",
       "      Conversion Time  \n",
       "4338            451.0  \n",
       "4339              1.0  \n",
       "4340            738.0  \n",
       "4341              5.0  \n",
       "4342              8.0  "
      ]
     },
     "execution_count": 22,
     "metadata": {},
     "output_type": "execute_result"
    }
   ],
   "source": [
    "sales3.head()"
   ]
  },
  {
   "cell_type": "markdown",
   "metadata": {},
   "source": [
    "# Scaling "
   ]
  },
  {
   "cell_type": "code",
   "execution_count": 23,
   "metadata": {},
   "outputs": [],
   "source": [
    "def apply_log1p_transformation(dataframe, column):\n",
    "    '''This function takes a dataframe and a column in the string format\n",
    "    then applies numpy log1p transformation to the column\n",
    "    as a result returns log1p applied pandas series'''\n",
    "\n",
    "    \n",
    "    dataframe[\"log_\" + column] = np.log1p(dataframe[column])\n",
    "    return dataframe[\"log_\" + column]"
   ]
  },
  {
   "cell_type": "code",
   "execution_count": 24,
   "metadata": {},
   "outputs": [
    {
     "data": {
      "text/plain": [
       "4338     0.693147\n",
       "4339     0.693147\n",
       "4340     0.693147\n",
       "4341     0.693147\n",
       "4342     0.693147\n",
       "           ...   \n",
       "11625    0.693147\n",
       "11626    0.693147\n",
       "11628    0.693147\n",
       "11686    1.098612\n",
       "11690    1.098612\n",
       "Name: log_product_units, Length: 6207, dtype: float64"
      ]
     },
     "execution_count": 24,
     "metadata": {},
     "output_type": "execute_result"
    }
   ],
   "source": [
    "apply_log1p_transformation(sales3,'product_units')"
   ]
  },
  {
   "cell_type": "code",
   "execution_count": 25,
   "metadata": {},
   "outputs": [
    {
     "data": {
      "text/plain": [
       "4338     11.681621\n",
       "4339     11.690033\n",
       "4340     11.690033\n",
       "4341     11.681621\n",
       "4342     11.627824\n",
       "           ...    \n",
       "11625    11.904765\n",
       "11626    11.681621\n",
       "11628    12.070047\n",
       "11686    11.945986\n",
       "11690    11.065090\n",
       "Name: log_total_price, Length: 6207, dtype: float64"
      ]
     },
     "execution_count": 25,
     "metadata": {},
     "output_type": "execute_result"
    }
   ],
   "source": [
    "apply_log1p_transformation(sales3,'total_price')"
   ]
  },
  {
   "cell_type": "code",
   "execution_count": 26,
   "metadata": {},
   "outputs": [
    {
     "data": {
      "text/plain": [
       "4338     6.113682\n",
       "4339     0.693147\n",
       "4340     6.605298\n",
       "4341     1.791759\n",
       "4342     2.197225\n",
       "           ...   \n",
       "11625    1.386294\n",
       "11626    5.181784\n",
       "11628    7.712891\n",
       "11686    4.553877\n",
       "11690    3.135494\n",
       "Name: log_Conversion Time, Length: 6207, dtype: float64"
      ]
     },
     "execution_count": 26,
     "metadata": {},
     "output_type": "execute_result"
    }
   ],
   "source": [
    "apply_log1p_transformation(sales3,'Conversion Time')"
   ]
  },
  {
   "cell_type": "markdown",
   "metadata": {},
   "source": [
    "# Label Encoding"
   ]
  },
  {
   "cell_type": "code",
   "execution_count": 27,
   "metadata": {},
   "outputs": [],
   "source": [
    "sales3['product'] = sales3['product'].astype('category')\n",
    "sales3['product_cat'] =  sales3['product'].cat.codes\n",
    "sales3['account_type'] = sales3['account_type'].astype('category')\n",
    "sales3['account_type_cat'] =  sales3['account_type'].cat.codes\n",
    "sales3['town'] = sales3['town'].astype('category')\n",
    "sales3['town_cat'] =  sales3['town'].cat.codes\n",
    "sales3['department_name'] = sales3['department_name'].astype('category')\n",
    "sales3['department_name_cat'] =  sales3['department_name'].cat.codes\n",
    "sales3['age'] = sales3['age'].astype('category')\n",
    "sales3['age_cat'] =  sales3['age'].cat.codes\n",
    "sales3['gender'] = sales3['gender'].astype('category')\n",
    "sales3['gender_cat'] =  sales3['gender'].cat.codes\n",
    "sales3['customer_source'] = sales3['customer_source'].astype('category')\n",
    "sales3['customer_source_cat'] =  sales3['customer_source'].cat.codes"
   ]
  },
  {
   "cell_type": "code",
   "execution_count": 28,
   "metadata": {},
   "outputs": [
    {
     "data": {
      "text/html": [
       "<div>\n",
       "<style scoped>\n",
       "    .dataframe tbody tr th:only-of-type {\n",
       "        vertical-align: middle;\n",
       "    }\n",
       "\n",
       "    .dataframe tbody tr th {\n",
       "        vertical-align: top;\n",
       "    }\n",
       "\n",
       "    .dataframe thead th {\n",
       "        text-align: right;\n",
       "    }\n",
       "</style>\n",
       "<table border=\"1\" class=\"dataframe\">\n",
       "  <thead>\n",
       "    <tr style=\"text-align: right;\">\n",
       "      <th></th>\n",
       "      <th>product_units</th>\n",
       "      <th>product</th>\n",
       "      <th>account_type</th>\n",
       "      <th>town</th>\n",
       "      <th>department_name</th>\n",
       "      <th>total_price</th>\n",
       "      <th>age</th>\n",
       "      <th>gender</th>\n",
       "      <th>customer_source</th>\n",
       "      <th>Conversion Time</th>\n",
       "      <th>log_product_units</th>\n",
       "      <th>log_total_price</th>\n",
       "      <th>log_Conversion Time</th>\n",
       "      <th>product_cat</th>\n",
       "      <th>account_type_cat</th>\n",
       "      <th>town_cat</th>\n",
       "      <th>department_name_cat</th>\n",
       "      <th>age_cat</th>\n",
       "      <th>gender_cat</th>\n",
       "      <th>customer_source_cat</th>\n",
       "    </tr>\n",
       "  </thead>\n",
       "  <tbody>\n",
       "    <tr>\n",
       "      <th>4354</th>\n",
       "      <td>1</td>\n",
       "      <td>Climate Smart Direct</td>\n",
       "      <td>PAYG</td>\n",
       "      <td>Eldoret</td>\n",
       "      <td>HQ Tele Sales</td>\n",
       "      <td>85175</td>\n",
       "      <td>31 to 45 years</td>\n",
       "      <td>Male</td>\n",
       "      <td>Facebook</td>\n",
       "      <td>26.0</td>\n",
       "      <td>0.693147</td>\n",
       "      <td>11.352475</td>\n",
       "      <td>3.295837</td>\n",
       "      <td>1</td>\n",
       "      <td>1</td>\n",
       "      <td>89</td>\n",
       "      <td>6</td>\n",
       "      <td>1</td>\n",
       "      <td>2</td>\n",
       "      <td>0</td>\n",
       "    </tr>\n",
       "    <tr>\n",
       "      <th>4361</th>\n",
       "      <td>1</td>\n",
       "      <td>Climate Smart Direct</td>\n",
       "      <td>PAYG</td>\n",
       "      <td>Eldoret</td>\n",
       "      <td>HQ Tele Sales</td>\n",
       "      <td>85175</td>\n",
       "      <td>31 to 45 years</td>\n",
       "      <td>Male</td>\n",
       "      <td>Facebook</td>\n",
       "      <td>5496.0</td>\n",
       "      <td>0.693147</td>\n",
       "      <td>11.352475</td>\n",
       "      <td>8.611958</td>\n",
       "      <td>1</td>\n",
       "      <td>1</td>\n",
       "      <td>89</td>\n",
       "      <td>6</td>\n",
       "      <td>1</td>\n",
       "      <td>2</td>\n",
       "      <td>0</td>\n",
       "    </tr>\n",
       "    <tr>\n",
       "      <th>4372</th>\n",
       "      <td>1</td>\n",
       "      <td>Climate Smart Direct</td>\n",
       "      <td>PAYG</td>\n",
       "      <td>Eldoret</td>\n",
       "      <td>HQ Tele Sales</td>\n",
       "      <td>85175</td>\n",
       "      <td>31 to 45 years</td>\n",
       "      <td>Male</td>\n",
       "      <td>Facebook</td>\n",
       "      <td>21.0</td>\n",
       "      <td>0.693147</td>\n",
       "      <td>11.352475</td>\n",
       "      <td>3.091042</td>\n",
       "      <td>1</td>\n",
       "      <td>1</td>\n",
       "      <td>89</td>\n",
       "      <td>6</td>\n",
       "      <td>1</td>\n",
       "      <td>2</td>\n",
       "      <td>0</td>\n",
       "    </tr>\n",
       "    <tr>\n",
       "      <th>4378</th>\n",
       "      <td>1</td>\n",
       "      <td>Climate Smart Direct</td>\n",
       "      <td>PAYG</td>\n",
       "      <td>Eldoret</td>\n",
       "      <td>HQ Tele Sales</td>\n",
       "      <td>85175</td>\n",
       "      <td>31 to 45 years</td>\n",
       "      <td>Male</td>\n",
       "      <td>Facebook</td>\n",
       "      <td>337.0</td>\n",
       "      <td>0.693147</td>\n",
       "      <td>11.352475</td>\n",
       "      <td>5.823046</td>\n",
       "      <td>1</td>\n",
       "      <td>1</td>\n",
       "      <td>89</td>\n",
       "      <td>6</td>\n",
       "      <td>1</td>\n",
       "      <td>2</td>\n",
       "      <td>0</td>\n",
       "    </tr>\n",
       "    <tr>\n",
       "      <th>4379</th>\n",
       "      <td>1</td>\n",
       "      <td>Climate Smart Direct</td>\n",
       "      <td>PAYG</td>\n",
       "      <td>Eldoret</td>\n",
       "      <td>HQ Tele Sales</td>\n",
       "      <td>72399</td>\n",
       "      <td>31 to 45 years</td>\n",
       "      <td>Male</td>\n",
       "      <td>Facebook</td>\n",
       "      <td>192.0</td>\n",
       "      <td>0.693147</td>\n",
       "      <td>11.189962</td>\n",
       "      <td>5.262690</td>\n",
       "      <td>1</td>\n",
       "      <td>1</td>\n",
       "      <td>89</td>\n",
       "      <td>6</td>\n",
       "      <td>1</td>\n",
       "      <td>2</td>\n",
       "      <td>0</td>\n",
       "    </tr>\n",
       "    <tr>\n",
       "      <th>...</th>\n",
       "      <td>...</td>\n",
       "      <td>...</td>\n",
       "      <td>...</td>\n",
       "      <td>...</td>\n",
       "      <td>...</td>\n",
       "      <td>...</td>\n",
       "      <td>...</td>\n",
       "      <td>...</td>\n",
       "      <td>...</td>\n",
       "      <td>...</td>\n",
       "      <td>...</td>\n",
       "      <td>...</td>\n",
       "      <td>...</td>\n",
       "      <td>...</td>\n",
       "      <td>...</td>\n",
       "      <td>...</td>\n",
       "      <td>...</td>\n",
       "      <td>...</td>\n",
       "      <td>...</td>\n",
       "      <td>...</td>\n",
       "    </tr>\n",
       "    <tr>\n",
       "      <th>11601</th>\n",
       "      <td>1</td>\n",
       "      <td>RainMaker 2.0</td>\n",
       "      <td>PAYG</td>\n",
       "      <td>Eldoret</td>\n",
       "      <td>Field Sales</td>\n",
       "      <td>135666</td>\n",
       "      <td>18 to 30 years</td>\n",
       "      <td>Female</td>\n",
       "      <td>Friend, family member or neighbor</td>\n",
       "      <td>7.0</td>\n",
       "      <td>0.693147</td>\n",
       "      <td>11.817959</td>\n",
       "      <td>2.079442</td>\n",
       "      <td>12</td>\n",
       "      <td>1</td>\n",
       "      <td>89</td>\n",
       "      <td>5</td>\n",
       "      <td>0</td>\n",
       "      <td>1</td>\n",
       "      <td>2</td>\n",
       "    </tr>\n",
       "    <tr>\n",
       "      <th>11604</th>\n",
       "      <td>1</td>\n",
       "      <td>RainMaker 2 + TV</td>\n",
       "      <td>PAYG</td>\n",
       "      <td>Eldoret</td>\n",
       "      <td>Field Sales</td>\n",
       "      <td>166799</td>\n",
       "      <td>18 to 30 years</td>\n",
       "      <td>Female</td>\n",
       "      <td>Friend, family member or neighbor</td>\n",
       "      <td>1343.0</td>\n",
       "      <td>0.693147</td>\n",
       "      <td>12.024551</td>\n",
       "      <td>7.203406</td>\n",
       "      <td>10</td>\n",
       "      <td>1</td>\n",
       "      <td>89</td>\n",
       "      <td>5</td>\n",
       "      <td>0</td>\n",
       "      <td>1</td>\n",
       "      <td>2</td>\n",
       "    </tr>\n",
       "    <tr>\n",
       "      <th>11608</th>\n",
       "      <td>1</td>\n",
       "      <td>RainMaker 2 + TV</td>\n",
       "      <td>PAYG</td>\n",
       "      <td>Eldoret</td>\n",
       "      <td>Field Sales</td>\n",
       "      <td>150300</td>\n",
       "      <td>18 to 30 years</td>\n",
       "      <td>Male</td>\n",
       "      <td>Friend, family member or neighbor</td>\n",
       "      <td>1014.0</td>\n",
       "      <td>0.693147</td>\n",
       "      <td>11.920395</td>\n",
       "      <td>6.922644</td>\n",
       "      <td>10</td>\n",
       "      <td>1</td>\n",
       "      <td>89</td>\n",
       "      <td>5</td>\n",
       "      <td>0</td>\n",
       "      <td>2</td>\n",
       "      <td>2</td>\n",
       "    </tr>\n",
       "    <tr>\n",
       "      <th>11617</th>\n",
       "      <td>1</td>\n",
       "      <td>RainMaker 2 + TV</td>\n",
       "      <td>PAYG</td>\n",
       "      <td>Eldoret</td>\n",
       "      <td>Field Sales</td>\n",
       "      <td>177563</td>\n",
       "      <td>18 to 30 years</td>\n",
       "      <td>Female</td>\n",
       "      <td>Friend, family member or neighbor</td>\n",
       "      <td>43.0</td>\n",
       "      <td>0.693147</td>\n",
       "      <td>12.087086</td>\n",
       "      <td>3.784190</td>\n",
       "      <td>10</td>\n",
       "      <td>1</td>\n",
       "      <td>89</td>\n",
       "      <td>5</td>\n",
       "      <td>0</td>\n",
       "      <td>1</td>\n",
       "      <td>2</td>\n",
       "    </tr>\n",
       "    <tr>\n",
       "      <th>11628</th>\n",
       "      <td>1</td>\n",
       "      <td>RainMaker 2 + TV</td>\n",
       "      <td>PAYG</td>\n",
       "      <td>Eldoret</td>\n",
       "      <td>Trainees</td>\n",
       "      <td>174563</td>\n",
       "      <td>18 to 30 years</td>\n",
       "      <td>Male</td>\n",
       "      <td>Friend, family member or neighbor</td>\n",
       "      <td>2236.0</td>\n",
       "      <td>0.693147</td>\n",
       "      <td>12.070047</td>\n",
       "      <td>7.712891</td>\n",
       "      <td>10</td>\n",
       "      <td>1</td>\n",
       "      <td>89</td>\n",
       "      <td>11</td>\n",
       "      <td>0</td>\n",
       "      <td>2</td>\n",
       "      <td>2</td>\n",
       "    </tr>\n",
       "  </tbody>\n",
       "</table>\n",
       "<p>1272 rows × 20 columns</p>\n",
       "</div>"
      ],
      "text/plain": [
       "       product_units               product account_type     town  \\\n",
       "4354               1  Climate Smart Direct         PAYG  Eldoret   \n",
       "4361               1  Climate Smart Direct         PAYG  Eldoret   \n",
       "4372               1  Climate Smart Direct         PAYG  Eldoret   \n",
       "4378               1  Climate Smart Direct         PAYG  Eldoret   \n",
       "4379               1  Climate Smart Direct         PAYG  Eldoret   \n",
       "...              ...                   ...          ...      ...   \n",
       "11601              1         RainMaker 2.0         PAYG  Eldoret   \n",
       "11604              1      RainMaker 2 + TV         PAYG  Eldoret   \n",
       "11608              1      RainMaker 2 + TV         PAYG  Eldoret   \n",
       "11617              1      RainMaker 2 + TV         PAYG  Eldoret   \n",
       "11628              1      RainMaker 2 + TV         PAYG  Eldoret   \n",
       "\n",
       "      department_name  total_price             age  gender  \\\n",
       "4354    HQ Tele Sales        85175  31 to 45 years    Male   \n",
       "4361    HQ Tele Sales        85175  31 to 45 years    Male   \n",
       "4372    HQ Tele Sales        85175  31 to 45 years    Male   \n",
       "4378    HQ Tele Sales        85175  31 to 45 years    Male   \n",
       "4379    HQ Tele Sales        72399  31 to 45 years    Male   \n",
       "...               ...          ...             ...     ...   \n",
       "11601     Field Sales       135666  18 to 30 years  Female   \n",
       "11604     Field Sales       166799  18 to 30 years  Female   \n",
       "11608     Field Sales       150300  18 to 30 years    Male   \n",
       "11617     Field Sales       177563  18 to 30 years  Female   \n",
       "11628        Trainees       174563  18 to 30 years    Male   \n",
       "\n",
       "                         customer_source  Conversion Time  log_product_units  \\\n",
       "4354                            Facebook             26.0           0.693147   \n",
       "4361                            Facebook           5496.0           0.693147   \n",
       "4372                            Facebook             21.0           0.693147   \n",
       "4378                            Facebook            337.0           0.693147   \n",
       "4379                            Facebook            192.0           0.693147   \n",
       "...                                  ...              ...                ...   \n",
       "11601  Friend, family member or neighbor              7.0           0.693147   \n",
       "11604  Friend, family member or neighbor           1343.0           0.693147   \n",
       "11608  Friend, family member or neighbor           1014.0           0.693147   \n",
       "11617  Friend, family member or neighbor             43.0           0.693147   \n",
       "11628  Friend, family member or neighbor           2236.0           0.693147   \n",
       "\n",
       "       log_total_price  log_Conversion Time  product_cat  account_type_cat  \\\n",
       "4354         11.352475             3.295837            1                 1   \n",
       "4361         11.352475             8.611958            1                 1   \n",
       "4372         11.352475             3.091042            1                 1   \n",
       "4378         11.352475             5.823046            1                 1   \n",
       "4379         11.189962             5.262690            1                 1   \n",
       "...                ...                  ...          ...               ...   \n",
       "11601        11.817959             2.079442           12                 1   \n",
       "11604        12.024551             7.203406           10                 1   \n",
       "11608        11.920395             6.922644           10                 1   \n",
       "11617        12.087086             3.784190           10                 1   \n",
       "11628        12.070047             7.712891           10                 1   \n",
       "\n",
       "       town_cat  department_name_cat  age_cat  gender_cat  customer_source_cat  \n",
       "4354         89                    6        1           2                    0  \n",
       "4361         89                    6        1           2                    0  \n",
       "4372         89                    6        1           2                    0  \n",
       "4378         89                    6        1           2                    0  \n",
       "4379         89                    6        1           2                    0  \n",
       "...         ...                  ...      ...         ...                  ...  \n",
       "11601        89                    5        0           1                    2  \n",
       "11604        89                    5        0           1                    2  \n",
       "11608        89                    5        0           2                    2  \n",
       "11617        89                    5        0           1                    2  \n",
       "11628        89                   11        0           2                    2  \n",
       "\n",
       "[1272 rows x 20 columns]"
      ]
     },
     "execution_count": 28,
     "metadata": {},
     "output_type": "execute_result"
    }
   ],
   "source": [
    "sales3.loc[sales3['town_cat'] == 89]"
   ]
  },
  {
   "cell_type": "code",
   "execution_count": 29,
   "metadata": {},
   "outputs": [
    {
     "data": {
      "text/html": [
       "<div>\n",
       "<style scoped>\n",
       "    .dataframe tbody tr th:only-of-type {\n",
       "        vertical-align: middle;\n",
       "    }\n",
       "\n",
       "    .dataframe tbody tr th {\n",
       "        vertical-align: top;\n",
       "    }\n",
       "\n",
       "    .dataframe thead th {\n",
       "        text-align: right;\n",
       "    }\n",
       "</style>\n",
       "<table border=\"1\" class=\"dataframe\">\n",
       "  <thead>\n",
       "    <tr style=\"text-align: right;\">\n",
       "      <th></th>\n",
       "      <th>log_product_units</th>\n",
       "      <th>log_total_price</th>\n",
       "      <th>log_Conversion Time</th>\n",
       "      <th>product_cat</th>\n",
       "      <th>account_type_cat</th>\n",
       "      <th>town_cat</th>\n",
       "      <th>department_name_cat</th>\n",
       "      <th>age_cat</th>\n",
       "      <th>gender_cat</th>\n",
       "      <th>customer_source_cat</th>\n",
       "    </tr>\n",
       "  </thead>\n",
       "  <tbody>\n",
       "    <tr>\n",
       "      <th>4338</th>\n",
       "      <td>0.693147</td>\n",
       "      <td>11.681621</td>\n",
       "      <td>6.113682</td>\n",
       "      <td>14</td>\n",
       "      <td>1</td>\n",
       "      <td>230</td>\n",
       "      <td>6</td>\n",
       "      <td>1</td>\n",
       "      <td>2</td>\n",
       "      <td>0</td>\n",
       "    </tr>\n",
       "    <tr>\n",
       "      <th>4339</th>\n",
       "      <td>0.693147</td>\n",
       "      <td>11.690033</td>\n",
       "      <td>0.693147</td>\n",
       "      <td>0</td>\n",
       "      <td>1</td>\n",
       "      <td>741</td>\n",
       "      <td>6</td>\n",
       "      <td>1</td>\n",
       "      <td>1</td>\n",
       "      <td>0</td>\n",
       "    </tr>\n",
       "    <tr>\n",
       "      <th>4340</th>\n",
       "      <td>0.693147</td>\n",
       "      <td>11.690033</td>\n",
       "      <td>6.605298</td>\n",
       "      <td>0</td>\n",
       "      <td>1</td>\n",
       "      <td>340</td>\n",
       "      <td>6</td>\n",
       "      <td>1</td>\n",
       "      <td>2</td>\n",
       "      <td>0</td>\n",
       "    </tr>\n",
       "    <tr>\n",
       "      <th>4341</th>\n",
       "      <td>0.693147</td>\n",
       "      <td>11.681621</td>\n",
       "      <td>1.791759</td>\n",
       "      <td>14</td>\n",
       "      <td>1</td>\n",
       "      <td>293</td>\n",
       "      <td>6</td>\n",
       "      <td>1</td>\n",
       "      <td>2</td>\n",
       "      <td>0</td>\n",
       "    </tr>\n",
       "    <tr>\n",
       "      <th>4342</th>\n",
       "      <td>0.693147</td>\n",
       "      <td>11.627824</td>\n",
       "      <td>2.197225</td>\n",
       "      <td>0</td>\n",
       "      <td>1</td>\n",
       "      <td>682</td>\n",
       "      <td>6</td>\n",
       "      <td>1</td>\n",
       "      <td>1</td>\n",
       "      <td>0</td>\n",
       "    </tr>\n",
       "  </tbody>\n",
       "</table>\n",
       "</div>"
      ],
      "text/plain": [
       "      log_product_units  log_total_price  log_Conversion Time  product_cat  \\\n",
       "4338           0.693147        11.681621             6.113682           14   \n",
       "4339           0.693147        11.690033             0.693147            0   \n",
       "4340           0.693147        11.690033             6.605298            0   \n",
       "4341           0.693147        11.681621             1.791759           14   \n",
       "4342           0.693147        11.627824             2.197225            0   \n",
       "\n",
       "      account_type_cat  town_cat  department_name_cat  age_cat  gender_cat  \\\n",
       "4338                 1       230                    6        1           2   \n",
       "4339                 1       741                    6        1           1   \n",
       "4340                 1       340                    6        1           2   \n",
       "4341                 1       293                    6        1           2   \n",
       "4342                 1       682                    6        1           1   \n",
       "\n",
       "      customer_source_cat  \n",
       "4338                    0  \n",
       "4339                    0  \n",
       "4340                    0  \n",
       "4341                    0  \n",
       "4342                    0  "
      ]
     },
     "execution_count": 29,
     "metadata": {},
     "output_type": "execute_result"
    }
   ],
   "source": [
    "sales4 = sales3.iloc[:,10:]\n",
    "sales4.head()"
   ]
  },
  {
   "cell_type": "code",
   "execution_count": 30,
   "metadata": {},
   "outputs": [],
   "source": [
    "sales4.to_csv('sales_data6.csv')"
   ]
  },
  {
   "cell_type": "code",
   "execution_count": 35,
   "metadata": {},
   "outputs": [
    {
     "data": {
      "text/html": [
       "<div>\n",
       "<style scoped>\n",
       "    .dataframe tbody tr th:only-of-type {\n",
       "        vertical-align: middle;\n",
       "    }\n",
       "\n",
       "    .dataframe tbody tr th {\n",
       "        vertical-align: top;\n",
       "    }\n",
       "\n",
       "    .dataframe thead th {\n",
       "        text-align: right;\n",
       "    }\n",
       "</style>\n",
       "<table border=\"1\" class=\"dataframe\">\n",
       "  <thead>\n",
       "    <tr style=\"text-align: right;\">\n",
       "      <th></th>\n",
       "      <th>product_units</th>\n",
       "      <th>total_price</th>\n",
       "      <th>Conversion Time</th>\n",
       "    </tr>\n",
       "  </thead>\n",
       "  <tbody>\n",
       "    <tr>\n",
       "      <th>4338</th>\n",
       "      <td>1</td>\n",
       "      <td>118375</td>\n",
       "      <td>451.0</td>\n",
       "    </tr>\n",
       "    <tr>\n",
       "      <th>4339</th>\n",
       "      <td>1</td>\n",
       "      <td>119375</td>\n",
       "      <td>1.0</td>\n",
       "    </tr>\n",
       "    <tr>\n",
       "      <th>4340</th>\n",
       "      <td>1</td>\n",
       "      <td>119375</td>\n",
       "      <td>738.0</td>\n",
       "    </tr>\n",
       "    <tr>\n",
       "      <th>4341</th>\n",
       "      <td>1</td>\n",
       "      <td>118375</td>\n",
       "      <td>5.0</td>\n",
       "    </tr>\n",
       "    <tr>\n",
       "      <th>4342</th>\n",
       "      <td>1</td>\n",
       "      <td>112175</td>\n",
       "      <td>8.0</td>\n",
       "    </tr>\n",
       "  </tbody>\n",
       "</table>\n",
       "</div>"
      ],
      "text/plain": [
       "      product_units  total_price  Conversion Time\n",
       "4338              1       118375            451.0\n",
       "4339              1       119375              1.0\n",
       "4340              1       119375            738.0\n",
       "4341              1       118375              5.0\n",
       "4342              1       112175              8.0"
      ]
     },
     "execution_count": 35,
     "metadata": {},
     "output_type": "execute_result"
    }
   ],
   "source": [
    "sales5 = sales3.loc[:,['product_units','total_price','Conversion Time']]\n",
    "sales5.head()"
   ]
  },
  {
   "cell_type": "markdown",
   "metadata": {},
   "source": [
    "# K-Prototype Clustering"
   ]
  },
  {
   "cell_type": "code",
   "execution_count": 63,
   "metadata": {},
   "outputs": [],
   "source": [
    "from kmodes.kprototypes import KPrototypes\n",
    "from sklearn import metrics"
   ]
  },
  {
   "cell_type": "code",
   "execution_count": 56,
   "metadata": {},
   "outputs": [],
   "source": [
    "#dataframe to an array\n",
    "sales_array = sales4.values\n",
    "#converting numerical columns datatype as float\n",
    "sales_array[:,:2] = sales_array[:,:2].astype(float)\n",
    "#index of categorical columns\n",
    "categorical_index = list(range(2,9))"
   ]
  },
  {
   "cell_type": "markdown",
   "metadata": {},
   "source": [
    "# Hyperparameter Tuning (Elbow Method)"
   ]
  },
  {
   "cell_type": "code",
   "execution_count": 57,
   "metadata": {},
   "outputs": [],
   "source": [
    "# Function for plotting elbow curve\n",
    "def plot_elbow_curve(start, end, data):\n",
    "    no_of_clusters = list(range(start, end+1))\n",
    "    cost_values = []\n",
    "    \n",
    "    for k in no_of_clusters:\n",
    "        test_model = KPrototypes(n_clusters=k, init='Huang', random_state=42)\n",
    "        test_model.fit_predict(data, categorical=categorical_index)\n",
    "        cost_values.append(test_model.cost_)\n",
    "        \n",
    "    ##sns.set_theme(style=\"whitegrid\", palette=\"bright\", font_scale=1.2)\n",
    "    \n",
    "    plt.figure(figsize=(15, 7))\n",
    "    ax = sns.lineplot(x=no_of_clusters, y=cost_values, marker=\"o\", dashes=False)\n",
    "    ax.set_title('Elbow curve', fontsize=18)\n",
    "    ax.set_xlabel('No of clusters', fontsize=14)\n",
    "    ax.set_ylabel('Cost', fontsize=14)\n",
    "    ax.set(xlim=(start-0.1, end+0.1))\n",
    "    plt.plot();\n",
    "    \n"
   ]
  },
  {
   "cell_type": "code",
   "execution_count": 58,
   "metadata": {},
   "outputs": [
    {
     "data": {
      "image/png": "[encoded data removed]",
      "text/plain": [
       "<Figure size 1080x504 with 1 Axes>"
      ]
     },
     "metadata": {
      "needs_background": "light"
     },
     "output_type": "display_data"
    }
   ],
   "source": [
    "# Plotting elbow curve for k=2 to k=15\n",
    "plot_elbow_curve(2,15,sales_array)"
   ]
  },
  {
   "cell_type": "code",
   "execution_count": 69,
   "metadata": {},
   "outputs": [
    {
     "data": {
      "image/png": "[encoded data removed]",
      "text/plain": [
       "<Figure size 576x396 with 2 Axes>"
      ]
     },
     "metadata": {},
     "output_type": "display_data"
    },
    {
     "data": {
      "text/plain": [
       "<matplotlib.axes._subplots.AxesSubplot at 0x25a2043e490>"
      ]
     },
     "execution_count": 69,
     "metadata": {},
     "output_type": "execute_result"
    }
   ],
   "source": [
    "# Elbow Method for K means\n",
    "# Import ElbowVisualizer\n",
    "from yellowbrick.cluster import KElbowVisualizer\n",
    "model =  KPrototypes()\n",
    "# k is range of number of clusters.\n",
    "visualizer = KElbowVisualizer(model, k=(2,10), timings= True)\n",
    "visualizer.fit(sales_array,categorical=categorical_index)        # Fit data to visualizer\n",
    "visualizer.show()   "
   ]
  },
  {
   "cell_type": "code",
   "execution_count": 70,
   "metadata": {},
   "outputs": [
    {
     "name": "stdout",
     "output_type": "stream",
     "text": [
      "53284.20811156476\n"
     ]
    }
   ],
   "source": [
    "model_5 = KPrototypes(n_clusters=5, init='Huang', random_state=42, n_jobs=-1)\n",
    "model_5.fit_predict(sales_array, categorical=categorical_index)\n",
    "print(model_5.cost_)\n",
    "#new column for cluster labels associated with each subject\n",
    "sales4['cluster'] = model_5.labels_"
   ]
  },
  {
   "cell_type": "code",
   "execution_count": 72,
   "metadata": {},
   "outputs": [
    {
     "data": {
      "text/html": [
       "<div>\n",
       "<style scoped>\n",
       "    .dataframe tbody tr th:only-of-type {\n",
       "        vertical-align: middle;\n",
       "    }\n",
       "\n",
       "    .dataframe tbody tr th {\n",
       "        vertical-align: top;\n",
       "    }\n",
       "\n",
       "    .dataframe thead th {\n",
       "        text-align: right;\n",
       "    }\n",
       "</style>\n",
       "<table border=\"1\" class=\"dataframe\">\n",
       "  <thead>\n",
       "    <tr style=\"text-align: right;\">\n",
       "      <th></th>\n",
       "      <th>log_product_units</th>\n",
       "      <th>log_total_price</th>\n",
       "      <th>log_Conversion Time</th>\n",
       "      <th>product_cat</th>\n",
       "      <th>account_type_cat</th>\n",
       "      <th>town_cat</th>\n",
       "      <th>department_name_cat</th>\n",
       "      <th>age_cat</th>\n",
       "      <th>gender_cat</th>\n",
       "      <th>customer_source_cat</th>\n",
       "      <th>cluster</th>\n",
       "    </tr>\n",
       "  </thead>\n",
       "  <tbody>\n",
       "    <tr>\n",
       "      <th>4338</th>\n",
       "      <td>0.693147</td>\n",
       "      <td>11.681621</td>\n",
       "      <td>6.113682</td>\n",
       "      <td>14</td>\n",
       "      <td>1</td>\n",
       "      <td>230</td>\n",
       "      <td>6</td>\n",
       "      <td>1</td>\n",
       "      <td>2</td>\n",
       "      <td>0</td>\n",
       "      <td>3</td>\n",
       "    </tr>\n",
       "    <tr>\n",
       "      <th>4339</th>\n",
       "      <td>0.693147</td>\n",
       "      <td>11.690033</td>\n",
       "      <td>0.693147</td>\n",
       "      <td>0</td>\n",
       "      <td>1</td>\n",
       "      <td>741</td>\n",
       "      <td>6</td>\n",
       "      <td>1</td>\n",
       "      <td>1</td>\n",
       "      <td>0</td>\n",
       "      <td>3</td>\n",
       "    </tr>\n",
       "    <tr>\n",
       "      <th>4340</th>\n",
       "      <td>0.693147</td>\n",
       "      <td>11.690033</td>\n",
       "      <td>6.605298</td>\n",
       "      <td>0</td>\n",
       "      <td>1</td>\n",
       "      <td>340</td>\n",
       "      <td>6</td>\n",
       "      <td>1</td>\n",
       "      <td>2</td>\n",
       "      <td>0</td>\n",
       "      <td>3</td>\n",
       "    </tr>\n",
       "    <tr>\n",
       "      <th>4341</th>\n",
       "      <td>0.693147</td>\n",
       "      <td>11.681621</td>\n",
       "      <td>1.791759</td>\n",
       "      <td>14</td>\n",
       "      <td>1</td>\n",
       "      <td>293</td>\n",
       "      <td>6</td>\n",
       "      <td>1</td>\n",
       "      <td>2</td>\n",
       "      <td>0</td>\n",
       "      <td>3</td>\n",
       "    </tr>\n",
       "    <tr>\n",
       "      <th>4342</th>\n",
       "      <td>0.693147</td>\n",
       "      <td>11.627824</td>\n",
       "      <td>2.197225</td>\n",
       "      <td>0</td>\n",
       "      <td>1</td>\n",
       "      <td>682</td>\n",
       "      <td>6</td>\n",
       "      <td>1</td>\n",
       "      <td>1</td>\n",
       "      <td>0</td>\n",
       "      <td>3</td>\n",
       "    </tr>\n",
       "  </tbody>\n",
       "</table>\n",
       "</div>"
      ],
      "text/plain": [
       "      log_product_units  log_total_price  log_Conversion Time  product_cat  \\\n",
       "4338           0.693147        11.681621             6.113682           14   \n",
       "4339           0.693147        11.690033             0.693147            0   \n",
       "4340           0.693147        11.690033             6.605298            0   \n",
       "4341           0.693147        11.681621             1.791759           14   \n",
       "4342           0.693147        11.627824             2.197225            0   \n",
       "\n",
       "      account_type_cat  town_cat  department_name_cat  age_cat  gender_cat  \\\n",
       "4338                 1       230                    6        1           2   \n",
       "4339                 1       741                    6        1           1   \n",
       "4340                 1       340                    6        1           2   \n",
       "4341                 1       293                    6        1           2   \n",
       "4342                 1       682                    6        1           1   \n",
       "\n",
       "      customer_source_cat  cluster  \n",
       "4338                    0        3  \n",
       "4339                    0        3  \n",
       "4340                    0        3  \n",
       "4341                    0        3  \n",
       "4342                    0        3  "
      ]
     },
     "execution_count": 72,
     "metadata": {},
     "output_type": "execute_result"
    }
   ],
   "source": [
    "sales4.head()"
   ]
  },
  {
   "cell_type": "code",
   "execution_count": 73,
   "metadata": {},
   "outputs": [
    {
     "data": {
      "text/html": [
       "<div>\n",
       "<style scoped>\n",
       "    .dataframe tbody tr th:only-of-type {\n",
       "        vertical-align: middle;\n",
       "    }\n",
       "\n",
       "    .dataframe tbody tr th {\n",
       "        vertical-align: top;\n",
       "    }\n",
       "\n",
       "    .dataframe thead th {\n",
       "        text-align: right;\n",
       "    }\n",
       "</style>\n",
       "<table border=\"1\" class=\"dataframe\">\n",
       "  <thead>\n",
       "    <tr style=\"text-align: right;\">\n",
       "      <th></th>\n",
       "      <th>log_product_units</th>\n",
       "      <th>log_total_price</th>\n",
       "      <th>log_Conversion Time</th>\n",
       "      <th>product_cat</th>\n",
       "      <th>account_type_cat</th>\n",
       "      <th>town_cat</th>\n",
       "      <th>department_name_cat</th>\n",
       "      <th>age_cat</th>\n",
       "      <th>gender_cat</th>\n",
       "      <th>customer_source_cat</th>\n",
       "      <th>cluster</th>\n",
       "      <th>product_units</th>\n",
       "      <th>total_price</th>\n",
       "      <th>Conversion Time</th>\n",
       "    </tr>\n",
       "  </thead>\n",
       "  <tbody>\n",
       "    <tr>\n",
       "      <th>4338</th>\n",
       "      <td>0.693147</td>\n",
       "      <td>11.681621</td>\n",
       "      <td>6.113682</td>\n",
       "      <td>14</td>\n",
       "      <td>1</td>\n",
       "      <td>230</td>\n",
       "      <td>6</td>\n",
       "      <td>1</td>\n",
       "      <td>2</td>\n",
       "      <td>0</td>\n",
       "      <td>3</td>\n",
       "      <td>1</td>\n",
       "      <td>118375</td>\n",
       "      <td>451.0</td>\n",
       "    </tr>\n",
       "    <tr>\n",
       "      <th>4339</th>\n",
       "      <td>0.693147</td>\n",
       "      <td>11.690033</td>\n",
       "      <td>0.693147</td>\n",
       "      <td>0</td>\n",
       "      <td>1</td>\n",
       "      <td>741</td>\n",
       "      <td>6</td>\n",
       "      <td>1</td>\n",
       "      <td>1</td>\n",
       "      <td>0</td>\n",
       "      <td>3</td>\n",
       "      <td>1</td>\n",
       "      <td>119375</td>\n",
       "      <td>1.0</td>\n",
       "    </tr>\n",
       "    <tr>\n",
       "      <th>4340</th>\n",
       "      <td>0.693147</td>\n",
       "      <td>11.690033</td>\n",
       "      <td>6.605298</td>\n",
       "      <td>0</td>\n",
       "      <td>1</td>\n",
       "      <td>340</td>\n",
       "      <td>6</td>\n",
       "      <td>1</td>\n",
       "      <td>2</td>\n",
       "      <td>0</td>\n",
       "      <td>3</td>\n",
       "      <td>1</td>\n",
       "      <td>119375</td>\n",
       "      <td>738.0</td>\n",
       "    </tr>\n",
       "    <tr>\n",
       "      <th>4341</th>\n",
       "      <td>0.693147</td>\n",
       "      <td>11.681621</td>\n",
       "      <td>1.791759</td>\n",
       "      <td>14</td>\n",
       "      <td>1</td>\n",
       "      <td>293</td>\n",
       "      <td>6</td>\n",
       "      <td>1</td>\n",
       "      <td>2</td>\n",
       "      <td>0</td>\n",
       "      <td>3</td>\n",
       "      <td>1</td>\n",
       "      <td>118375</td>\n",
       "      <td>5.0</td>\n",
       "    </tr>\n",
       "    <tr>\n",
       "      <th>4342</th>\n",
       "      <td>0.693147</td>\n",
       "      <td>11.627824</td>\n",
       "      <td>2.197225</td>\n",
       "      <td>0</td>\n",
       "      <td>1</td>\n",
       "      <td>682</td>\n",
       "      <td>6</td>\n",
       "      <td>1</td>\n",
       "      <td>1</td>\n",
       "      <td>0</td>\n",
       "      <td>3</td>\n",
       "      <td>1</td>\n",
       "      <td>112175</td>\n",
       "      <td>8.0</td>\n",
       "    </tr>\n",
       "  </tbody>\n",
       "</table>\n",
       "</div>"
      ],
      "text/plain": [
       "      log_product_units  log_total_price  log_Conversion Time  product_cat  \\\n",
       "4338           0.693147        11.681621             6.113682           14   \n",
       "4339           0.693147        11.690033             0.693147            0   \n",
       "4340           0.693147        11.690033             6.605298            0   \n",
       "4341           0.693147        11.681621             1.791759           14   \n",
       "4342           0.693147        11.627824             2.197225            0   \n",
       "\n",
       "      account_type_cat  town_cat  department_name_cat  age_cat  gender_cat  \\\n",
       "4338                 1       230                    6        1           2   \n",
       "4339                 1       741                    6        1           1   \n",
       "4340                 1       340                    6        1           2   \n",
       "4341                 1       293                    6        1           2   \n",
       "4342                 1       682                    6        1           1   \n",
       "\n",
       "      customer_source_cat  cluster  product_units  total_price  \\\n",
       "4338                    0        3              1       118375   \n",
       "4339                    0        3              1       119375   \n",
       "4340                    0        3              1       119375   \n",
       "4341                    0        3              1       118375   \n",
       "4342                    0        3              1       112175   \n",
       "\n",
       "      Conversion Time  \n",
       "4338            451.0  \n",
       "4339              1.0  \n",
       "4340            738.0  \n",
       "4341              5.0  \n",
       "4342              8.0  "
      ]
     },
     "execution_count": 73,
     "metadata": {},
     "output_type": "execute_result"
    }
   ],
   "source": [
    "sales6 = sales4.join(sales5, how = 'outer')\n",
    "sales6.head()"
   ]
  },
  {
   "cell_type": "code",
   "execution_count": 74,
   "metadata": {},
   "outputs": [
    {
     "data": {
      "text/html": [
       "<div>\n",
       "<style scoped>\n",
       "    .dataframe tbody tr th:only-of-type {\n",
       "        vertical-align: middle;\n",
       "    }\n",
       "\n",
       "    .dataframe tbody tr th {\n",
       "        vertical-align: top;\n",
       "    }\n",
       "\n",
       "    .dataframe thead th {\n",
       "        text-align: right;\n",
       "    }\n",
       "</style>\n",
       "<table border=\"1\" class=\"dataframe\">\n",
       "  <thead>\n",
       "    <tr style=\"text-align: right;\">\n",
       "      <th></th>\n",
       "      <th>cluster</th>\n",
       "      <th>0</th>\n",
       "      <th>1</th>\n",
       "      <th>2</th>\n",
       "      <th>3</th>\n",
       "      <th>4</th>\n",
       "    </tr>\n",
       "  </thead>\n",
       "  <tbody>\n",
       "    <tr>\n",
       "      <th rowspan=\"2\" valign=\"top\">log_product_units</th>\n",
       "      <th>median</th>\n",
       "      <td>0.693147</td>\n",
       "      <td>0.693147</td>\n",
       "      <td>0.693147</td>\n",
       "      <td>0.693147</td>\n",
       "      <td>0.693147</td>\n",
       "    </tr>\n",
       "    <tr>\n",
       "      <th>mean</th>\n",
       "      <td>0.693147</td>\n",
       "      <td>0.693147</td>\n",
       "      <td>0.693147</td>\n",
       "      <td>0.694267</td>\n",
       "      <td>0.693147</td>\n",
       "    </tr>\n",
       "    <tr>\n",
       "      <th rowspan=\"2\" valign=\"top\">log_total_price</th>\n",
       "      <th>median</th>\n",
       "      <td>11.904765</td>\n",
       "      <td>11.842229</td>\n",
       "      <td>12.024551</td>\n",
       "      <td>11.887725</td>\n",
       "      <td>12.000278</td>\n",
       "    </tr>\n",
       "    <tr>\n",
       "      <th>mean</th>\n",
       "      <td>11.829445</td>\n",
       "      <td>11.770962</td>\n",
       "      <td>11.945179</td>\n",
       "      <td>11.773042</td>\n",
       "      <td>11.864665</td>\n",
       "    </tr>\n",
       "    <tr>\n",
       "      <th rowspan=\"2\" valign=\"top\">log_Conversion Time</th>\n",
       "      <th>median</th>\n",
       "      <td>4.158883</td>\n",
       "      <td>4.527194</td>\n",
       "      <td>3.555348</td>\n",
       "      <td>5.596567</td>\n",
       "      <td>3.332205</td>\n",
       "    </tr>\n",
       "    <tr>\n",
       "      <th>mean</th>\n",
       "      <td>4.338456</td>\n",
       "      <td>4.376954</td>\n",
       "      <td>4.016501</td>\n",
       "      <td>5.171814</td>\n",
       "      <td>3.926169</td>\n",
       "    </tr>\n",
       "    <tr>\n",
       "      <th rowspan=\"2\" valign=\"top\">product_cat</th>\n",
       "      <th>median</th>\n",
       "      <td>10.000000</td>\n",
       "      <td>12.000000</td>\n",
       "      <td>10.000000</td>\n",
       "      <td>10.000000</td>\n",
       "      <td>10.000000</td>\n",
       "    </tr>\n",
       "    <tr>\n",
       "      <th>mean</th>\n",
       "      <td>9.295512</td>\n",
       "      <td>9.839416</td>\n",
       "      <td>9.732571</td>\n",
       "      <td>8.926796</td>\n",
       "      <td>9.178037</td>\n",
       "    </tr>\n",
       "    <tr>\n",
       "      <th rowspan=\"2\" valign=\"top\">account_type_cat</th>\n",
       "      <th>median</th>\n",
       "      <td>1.000000</td>\n",
       "      <td>1.000000</td>\n",
       "      <td>1.000000</td>\n",
       "      <td>1.000000</td>\n",
       "      <td>1.000000</td>\n",
       "    </tr>\n",
       "    <tr>\n",
       "      <th>mean</th>\n",
       "      <td>0.988906</td>\n",
       "      <td>0.992701</td>\n",
       "      <td>0.993143</td>\n",
       "      <td>0.946133</td>\n",
       "      <td>0.996672</td>\n",
       "    </tr>\n",
       "    <tr>\n",
       "      <th rowspan=\"2\" valign=\"top\">town_cat</th>\n",
       "      <th>median</th>\n",
       "      <td>293.000000</td>\n",
       "      <td>421.000000</td>\n",
       "      <td>285.000000</td>\n",
       "      <td>393.000000</td>\n",
       "      <td>285.000000</td>\n",
       "    </tr>\n",
       "    <tr>\n",
       "      <th>mean</th>\n",
       "      <td>365.013111</td>\n",
       "      <td>452.501217</td>\n",
       "      <td>351.668571</td>\n",
       "      <td>418.379834</td>\n",
       "      <td>329.670549</td>\n",
       "    </tr>\n",
       "    <tr>\n",
       "      <th rowspan=\"2\" valign=\"top\">department_name_cat</th>\n",
       "      <th>median</th>\n",
       "      <td>6.000000</td>\n",
       "      <td>6.000000</td>\n",
       "      <td>6.000000</td>\n",
       "      <td>6.000000</td>\n",
       "      <td>5.000000</td>\n",
       "    </tr>\n",
       "    <tr>\n",
       "      <th>mean</th>\n",
       "      <td>6.904186</td>\n",
       "      <td>6.911192</td>\n",
       "      <td>7.539429</td>\n",
       "      <td>6.295580</td>\n",
       "      <td>6.408763</td>\n",
       "    </tr>\n",
       "    <tr>\n",
       "      <th rowspan=\"2\" valign=\"top\">age_cat</th>\n",
       "      <th>median</th>\n",
       "      <td>1.000000</td>\n",
       "      <td>1.000000</td>\n",
       "      <td>2.000000</td>\n",
       "      <td>1.000000</td>\n",
       "      <td>1.000000</td>\n",
       "    </tr>\n",
       "    <tr>\n",
       "      <th>mean</th>\n",
       "      <td>1.522441</td>\n",
       "      <td>1.332117</td>\n",
       "      <td>1.685714</td>\n",
       "      <td>1.233425</td>\n",
       "      <td>1.330560</td>\n",
       "    </tr>\n",
       "    <tr>\n",
       "      <th rowspan=\"2\" valign=\"top\">gender_cat</th>\n",
       "      <th>median</th>\n",
       "      <td>2.000000</td>\n",
       "      <td>2.000000</td>\n",
       "      <td>1.000000</td>\n",
       "      <td>2.000000</td>\n",
       "      <td>2.000000</td>\n",
       "    </tr>\n",
       "    <tr>\n",
       "      <th>mean</th>\n",
       "      <td>1.716591</td>\n",
       "      <td>1.864964</td>\n",
       "      <td>1.320000</td>\n",
       "      <td>1.860497</td>\n",
       "      <td>1.828619</td>\n",
       "    </tr>\n",
       "    <tr>\n",
       "      <th rowspan=\"2\" valign=\"top\">customer_source_cat</th>\n",
       "      <th>median</th>\n",
       "      <td>9.000000</td>\n",
       "      <td>2.000000</td>\n",
       "      <td>2.000000</td>\n",
       "      <td>0.000000</td>\n",
       "      <td>2.000000</td>\n",
       "    </tr>\n",
       "    <tr>\n",
       "      <th>mean</th>\n",
       "      <td>9.251135</td>\n",
       "      <td>2.351582</td>\n",
       "      <td>1.995429</td>\n",
       "      <td>0.008287</td>\n",
       "      <td>2.027177</td>\n",
       "    </tr>\n",
       "    <tr>\n",
       "      <th rowspan=\"2\" valign=\"top\">product_units</th>\n",
       "      <th>median</th>\n",
       "      <td>1.000000</td>\n",
       "      <td>1.000000</td>\n",
       "      <td>1.000000</td>\n",
       "      <td>1.000000</td>\n",
       "      <td>1.000000</td>\n",
       "    </tr>\n",
       "    <tr>\n",
       "      <th>mean</th>\n",
       "      <td>1.000000</td>\n",
       "      <td>1.000000</td>\n",
       "      <td>1.000000</td>\n",
       "      <td>1.002762</td>\n",
       "      <td>1.000000</td>\n",
       "    </tr>\n",
       "    <tr>\n",
       "      <th rowspan=\"2\" valign=\"top\">total_price</th>\n",
       "      <th>median</th>\n",
       "      <td>147969.000000</td>\n",
       "      <td>138999.000000</td>\n",
       "      <td>166799.000000</td>\n",
       "      <td>145469.000000</td>\n",
       "      <td>162799.000000</td>\n",
       "    </tr>\n",
       "    <tr>\n",
       "      <th>mean</th>\n",
       "      <td>141949.855270</td>\n",
       "      <td>132778.900243</td>\n",
       "      <td>156917.532571</td>\n",
       "      <td>136048.628453</td>\n",
       "      <td>146453.846367</td>\n",
       "    </tr>\n",
       "    <tr>\n",
       "      <th rowspan=\"2\" valign=\"top\">Conversion Time</th>\n",
       "      <th>median</th>\n",
       "      <td>63.000000</td>\n",
       "      <td>91.500000</td>\n",
       "      <td>34.000000</td>\n",
       "      <td>268.500000</td>\n",
       "      <td>27.000000</td>\n",
       "    </tr>\n",
       "    <tr>\n",
       "      <th>mean</th>\n",
       "      <td>1327.873928</td>\n",
       "      <td>1569.867397</td>\n",
       "      <td>1082.741714</td>\n",
       "      <td>2189.263812</td>\n",
       "      <td>883.753744</td>\n",
       "    </tr>\n",
       "  </tbody>\n",
       "</table>\n",
       "</div>"
      ],
      "text/plain": [
       "cluster                                 0              1              2  \\\n",
       "log_product_units   median       0.693147       0.693147       0.693147   \n",
       "                    mean         0.693147       0.693147       0.693147   \n",
       "log_total_price     median      11.904765      11.842229      12.024551   \n",
       "                    mean        11.829445      11.770962      11.945179   \n",
       "log_Conversion Time median       4.158883       4.527194       3.555348   \n",
       "                    mean         4.338456       4.376954       4.016501   \n",
       "product_cat         median      10.000000      12.000000      10.000000   \n",
       "                    mean         9.295512       9.839416       9.732571   \n",
       "account_type_cat    median       1.000000       1.000000       1.000000   \n",
       "                    mean         0.988906       0.992701       0.993143   \n",
       "town_cat            median     293.000000     421.000000     285.000000   \n",
       "                    mean       365.013111     452.501217     351.668571   \n",
       "department_name_cat median       6.000000       6.000000       6.000000   \n",
       "                    mean         6.904186       6.911192       7.539429   \n",
       "age_cat             median       1.000000       1.000000       2.000000   \n",
       "                    mean         1.522441       1.332117       1.685714   \n",
       "gender_cat          median       2.000000       2.000000       1.000000   \n",
       "                    mean         1.716591       1.864964       1.320000   \n",
       "customer_source_cat median       9.000000       2.000000       2.000000   \n",
       "                    mean         9.251135       2.351582       1.995429   \n",
       "product_units       median       1.000000       1.000000       1.000000   \n",
       "                    mean         1.000000       1.000000       1.000000   \n",
       "total_price         median  147969.000000  138999.000000  166799.000000   \n",
       "                    mean    141949.855270  132778.900243  156917.532571   \n",
       "Conversion Time     median      63.000000      91.500000      34.000000   \n",
       "                    mean      1327.873928    1569.867397    1082.741714   \n",
       "\n",
       "cluster                                 3              4  \n",
       "log_product_units   median       0.693147       0.693147  \n",
       "                    mean         0.694267       0.693147  \n",
       "log_total_price     median      11.887725      12.000278  \n",
       "                    mean        11.773042      11.864665  \n",
       "log_Conversion Time median       5.596567       3.332205  \n",
       "                    mean         5.171814       3.926169  \n",
       "product_cat         median      10.000000      10.000000  \n",
       "                    mean         8.926796       9.178037  \n",
       "account_type_cat    median       1.000000       1.000000  \n",
       "                    mean         0.946133       0.996672  \n",
       "town_cat            median     393.000000     285.000000  \n",
       "                    mean       418.379834     329.670549  \n",
       "department_name_cat median       6.000000       5.000000  \n",
       "                    mean         6.295580       6.408763  \n",
       "age_cat             median       1.000000       1.000000  \n",
       "                    mean         1.233425       1.330560  \n",
       "gender_cat          median       2.000000       2.000000  \n",
       "                    mean         1.860497       1.828619  \n",
       "customer_source_cat median       0.000000       2.000000  \n",
       "                    mean         0.008287       2.027177  \n",
       "product_units       median       1.000000       1.000000  \n",
       "                    mean         1.002762       1.000000  \n",
       "total_price         median  145469.000000  162799.000000  \n",
       "                    mean    136048.628453  146453.846367  \n",
       "Conversion Time     median     268.500000      27.000000  \n",
       "                    mean      2189.263812     883.753744  "
      ]
     },
     "execution_count": 74,
     "metadata": {},
     "output_type": "execute_result"
    }
   ],
   "source": [
    "sales6.groupby('cluster').agg(['median' ,'mean']).T"
   ]
  },
  {
   "cell_type": "code",
   "execution_count": 75,
   "metadata": {},
   "outputs": [],
   "source": [
    "sales4['cluster_names'] = sales4['cluster'].replace({0:\"High Income Male Youth\",1:\"Middle Income Male Youth from North Rift\"\n",
    "                                                     ,2:\"Middle Income Female Youth\"\n",
    "                                                     ,3:\"High Income Middle-Aged Male\"\n",
    "                                                     ,4:\"Middle Income Male Youth from Eastern\"})"
   ]
  },
  {
   "cell_type": "markdown",
   "metadata": {},
   "source": [
    "# Cluster 0"
   ]
  },
  {
   "cell_type": "markdown",
   "metadata": {},
   "source": [
    "<ul>\n",
    "<li>Interested in one product at Ksh 160,000</li>\n",
    "<li>Interested in RainMaker2 + TV</li>\n",
    "<li>Prefer PAYG </li>\n",
    "<li>Come from North Rift</li>\n",
    "<li>Male aged 31-45 yrs</li>\n",
    "<li>Sourced by sales agents</li>\n",
    "<li>Sale closed by field sales</li>\n",
    "</ul>"
   ]
  },
  {
   "cell_type": "markdown",
   "metadata": {},
   "source": [
    "# Cluster 1"
   ]
  },
  {
   "cell_type": "markdown",
   "metadata": {},
   "source": [
    "<ul>\n",
    "<li>Interested in one product at Ksh 130,000</li>\n",
    "<li>Interested in RainMaker2 + TV</li>\n",
    "<li>Prefer PAYG </li>\n",
    "<li>Come from North Rift</li>\n",
    "<li>Male aged 31-45 yrs</li>\n",
    "<li>Sourced by sales agents</li>\n",
    "<li>Sale closed by trainees</li>\n",
    "</ul>"
   ]
  },
  {
   "cell_type": "markdown",
   "metadata": {},
   "source": [
    "# Cluster 2"
   ]
  },
  {
   "cell_type": "markdown",
   "metadata": {},
   "source": [
    "<ul>\n",
    "<li>Interested in one product at Ksh 130,000</li>\n",
    "<li>interested in RainMaker2.0</li>\n",
    "<li>Prefer PAYG</li>\n",
    "<li>Come from North Rift</li>\n",
    "<li>Female aged 31-45 yrs</li>\n",
    "<li>Sourced by friends,family or neighbours</li>\n",
    "<li>Sale closed by field sales</li>\n",
    "</ul>"
   ]
  },
  {
   "cell_type": "markdown",
   "metadata": {},
   "source": [
    "# Cluster 3"
   ]
  },
  {
   "cell_type": "markdown",
   "metadata": {},
   "source": [
    "<ul>\n",
    "<li>Interested in one product at Ksh 150,000</li>\n",
    "<li>Interested in RainMaker2 + TV</li>\n",
    "<li>Prefer PAYG</li>\n",
    "<li>Come from North Rift</li>\n",
    "<li>Male aged 46-55 yrs</li>\n",
    "<li>Sourced by friends,family or neighbours</li>\n",
    "<li>Sale closed by field sales</li>\n",
    "</ul>"
   ]
  },
  {
   "cell_type": "markdown",
   "metadata": {},
   "source": [
    "# Cluster 4"
   ]
  },
  {
   "cell_type": "markdown",
   "metadata": {},
   "source": [
    "<ul>\n",
    "<li>Interested in one product at Ksh 130,000</li>\n",
    "<li>Interested in RainMaker2.0</li>\n",
    "<li>Prefer PAYG </li>\n",
    "<li>Come from Eastern</li>\n",
    "<li>Male aged 31-45 yrs</li>\n",
    "<li>Sourced by friends,family or neighbours</li>\n",
    "<li>Sale closed by HQ Telesales</li>\n",
    "</ul>"
   ]
  },
  {
   "cell_type": "code",
   "execution_count": 84,
   "metadata": {},
   "outputs": [
    {
     "data": {
      "text/plain": [
       "(array([0, 1, 2, 3, 4]), <a list of 5 Text major ticklabel objects>)"
      ]
     },
     "execution_count": 84,
     "metadata": {},
     "output_type": "execute_result"
    },
    {
     "data": {
      "image/png": "[encoded data removed]",
      "text/plain": [
       "<Figure size 576x396 with 1 Axes>"
      ]
     },
     "metadata": {},
     "output_type": "display_data"
    }
   ],
   "source": [
    "#how many sales per cluster\n",
    "sns.countplot(x='cluster', data=sales6, order = sales6['cluster'].value_counts().index)\n",
    "plt.title('Distribution of Cluster')\n",
    "plt.xticks(rotation=90)"
   ]
  },
  {
   "cell_type": "code",
   "execution_count": 86,
   "metadata": {},
   "outputs": [],
   "source": [
    "sales6.to_csv('sales_cluster.csv')"
   ]
  },
  {
   "cell_type": "code",
   "execution_count": null,
   "metadata": {},
   "outputs": [],
   "source": []
  }
 ],
 "metadata": {
  "kernelspec": {
   "display_name": "Python 3 (ipykernel)",
   "language": "python",
   "name": "python3"
  },
  "language_info": {
   "codemirror_mode": {
    "name": "ipython",
    "version": 3
   },
   "file_extension": ".py",
   "mimetype": "text/x-python",
   "name": "python",
   "nbconvert_exporter": "python",
   "pygments_lexer": "ipython3",
   "version": "3.11.5"
  }
 },
 "nbformat": 4,
 "nbformat_minor": 4
}
